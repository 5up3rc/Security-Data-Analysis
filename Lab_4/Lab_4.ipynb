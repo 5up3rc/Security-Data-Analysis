{
 "metadata": {
  "name": "",
  "signature": "sha256:477fc219d113063a9afe3a0e9a83e8d6972877145d084807f217be7d385fe5da"
 },
 "nbformat": 3,
 "nbformat_minor": 0,
 "worksheets": [
  {
   "cells": [
    {
     "cell_type": "markdown",
     "metadata": {},
     "source": [
      "# Lab 4\n",
      "\n",
      "## Introduction\n",
      "\n",
      "### PCA/Clustering\n",
      "This marks the first <a href=\"http://en.wikipedia.org/wiki/Unsupervised_learning\">unsupervised learning</a> lab. There are several aspects to unsupervised learning:\n",
      "\n",
      "* Data has no labels\n",
      "* The goal is to find structure\n",
      "* The most \"popular\" aspect is clustering\n",
      "* It also includes dimensionality reduction and feature extraction\n",
      "\n",
      "This lab will focus on dimensionality reduction via <a href=\"http://en.wikipedia.org/wiki/Principal_component_analysis\">PCA</a> (<a href=\"http://scikit-learn.org/stable/modules/generated/sklearn.decomposition.PCA.html\">Principal Component Analysis</a>). As well as an introduction to <a href=\"http://en.wikipedia.org/wiki/K-means_clustering\">K-means</a> clustering.\n",
      "\n",
      "### Lab\n",
      "In this lab you, as analyst, have a list of domains and the related blacklists they appear on. In addition some of these domains were responsible for sending a file to the client. These files have been run through <a href=\"https://www.virustotal.com/\">VirusTotal</a> and the AV results are also available with the domains. The goal is to explore the data, find some structure and attempt to find a way to gain confidence in what domains are more malicious as a means of prioritization. As with any type of data exploration, it's not a silver bullet but perhaps you'll gain an understanding of the data\n",
      "___\n",
      "## Exercises\n",
      "### File Input - Blacklist Data\n",
      "The data for the lab is contained in *host_detections.csv* and has columns: *host*, *detections*, and *detection_count*."
     ]
    },
    {
     "cell_type": "code",
     "collapsed": false,
     "input": [
      "import pandas as pd\n"
     ],
     "language": "python",
     "metadata": {},
     "outputs": []
    },
    {
     "cell_type": "markdown",
     "metadata": {},
     "source": [
      "### Cleanup - Blacklist Data\n",
      "Drop the duplicates on the *df* dataframe, for column *host*"
     ]
    },
    {
     "cell_type": "code",
     "collapsed": false,
     "input": [
      "df.drop_duplicates(subset='host', inplace=True)"
     ],
     "language": "python",
     "metadata": {},
     "outputs": []
    },
    {
     "cell_type": "markdown",
     "metadata": {},
     "source": [
      "This next section cleans up the detections column. It removes the text formatting and puts the information into a Python list, and places the Python list back into the dataframe in place of the text. It also creates a multi-dimensional list that represents the the various blacklists and if there was a hit for the domain *1* or not *0*. "
     ]
    },
    {
     "cell_type": "code",
     "collapsed": false,
     "input": [
      "black_list_sources = set()\n",
      "def get_list(x):\n",
      "    detections = []\n",
      "    if not (len(x) == 1 and int(x) == 0):\n",
      "        x = x.replace(\" \", \"\")\n",
      "        x = x.replace(\"u'\", \"\")\n",
      "        x = x.replace(\"'\", \"\")\n",
      "        x = x.replace(\"[\", \"\")\n",
      "        x = x.replace(\"]\", \"\")\n",
      "        [black_list_sources.add(i) for i in x.split(',') if len(i) > 1]\n",
      "        [detections.append(i) for i in x.split(',') if len(i) > 1]\n",
      "    return detections\n",
      "df.detections = df.detections.apply(lambda x: get_list(x))"
     ],
     "language": "python",
     "metadata": {},
     "outputs": []
    },
    {
     "cell_type": "markdown",
     "metadata": {},
     "source": [
      "Join the resulting multi-dimensional list to the \"side\" of the existing dataframe. \n",
      "\n",
      "You can see the host **02b123c.netsolhost.com** has 0 detections, and has *0*s in place for all of the blacklist values. Where **0lilioo0l0o00lilil.info** has 7 detections and a *1* in place of it's detections (e.g. hpHosts)."
     ]
    },
    {
     "cell_type": "code",
     "collapsed": false,
     "input": [
      "df = df.join(pd.DataFrame(index=df.index, columns=black_list_sources))\n",
      "df = df.fillna(0)\n",
      "for i in df.index:\n",
      "    for x in df.xs(i)['detections']:\n",
      "        df.ix[i, x] = 1\n",
      "df.head()"
     ],
     "language": "python",
     "metadata": {},
     "outputs": []
    },
    {
     "cell_type": "markdown",
     "metadata": {},
     "source": [
      "### File Input - VirusTotal\n",
      "The data is in a file named *mal_domains.csv* and has columns: *host*, *count*, and *detections*. This data has been pre-processed to save some pain on parsing and assembling massive amounts of JSON data."
     ]
    },
    {
     "cell_type": "code",
     "collapsed": false,
     "input": [],
     "language": "python",
     "metadata": {},
     "outputs": []
    },
    {
     "cell_type": "markdown",
     "metadata": {},
     "source": [
      "### Cleanup - VirusTotal\n",
      "Similar to the above we clean-up the detections column."
     ]
    },
    {
     "cell_type": "code",
     "collapsed": false,
     "input": [
      "av_list_sources = set()\n",
      "def get_list(x):\n",
      "    detections = []\n",
      "    if not (len(x) == 1 and int(x) == 0):\n",
      "        x = x.replace(\" \", \"\")\n",
      "        x = x.replace(\"u'\", \"\")\n",
      "        x = x.replace(\"'\", \"\")\n",
      "        x = x.replace(\"[\", \"\")\n",
      "        x = x.replace(\"]\", \"\")\n",
      "        [av_list_sources.add(i) for i in x.split(',') if len(i) > 1]\n",
      "        [detections.append(i) for i in x.split(',') if len(i) > 1]\n",
      "    return detections\n",
      "av_domains.detections = av_domains.detections.apply(lambda x: get_list(x))\n",
      "av_domains.head()"
     ],
     "language": "python",
     "metadata": {},
     "outputs": []
    },
    {
     "cell_type": "markdown",
     "metadata": {},
     "source": [
      "A little massaging is necessary here because there are blacklists and AV engines that have the same name. This renames the columns and places an *av_* prefix to the name ensuring there are no duplicates, and has the extra advantage of allow easy distinction in analysis.\n",
      "\n",
      "Also, join the AV dataframe to the blacklist one created above."
     ]
    },
    {
     "cell_type": "code",
     "collapsed": false,
     "input": [
      "new_cols = av_domains.columns - ['host']\n",
      "new_cols = ['av_' + x for x in new_cols.tolist()]\n",
      "df = df.join(pd.DataFrame(index=df.index, columns=new_cols))"
     ],
     "language": "python",
     "metadata": {},
     "outputs": []
    },
    {
     "cell_type": "markdown",
     "metadata": {},
     "source": [
      "This is where the expansion, and then filling in of values, *1* for detection and *0* for no detection, happens."
     ]
    },
    {
     "cell_type": "code",
     "collapsed": false,
     "input": [
      "for i in df.index:\n",
      "    host = df.xs(i)['host']\n",
      "    avs = av_domains[av_domains['host'] == host]['detections']\n",
      "    if len(avs) > 0:\n",
      "        for a in avs.values.tolist()[0]:\n",
      "            df.ix[i, 'av_' + a] = 1\n",
      "        df.ix[i, 'av_count'] = av_domains[av_domains['host'] == host]['count'].values[0]\n",
      "        df.ix[i, 'av_detections'] = av_domains[av_domains['host'] == host]['detections'].values"
     ],
     "language": "python",
     "metadata": {},
     "outputs": []
    },
    {
     "cell_type": "code",
     "collapsed": false,
     "input": [
      "df.av_detections = df.av_detections.apply(lambda x: [] if isinstance(x, float) or len(x) < 1 else x[0])"
     ],
     "language": "python",
     "metadata": {},
     "outputs": []
    },
    {
     "cell_type": "code",
     "collapsed": false,
     "input": [
      "df = df.fillna(0)\n",
      "#del df['None']"
     ],
     "language": "python",
     "metadata": {},
     "outputs": []
    },
    {
     "cell_type": "markdown",
     "metadata": {},
     "source": [
      "For consistency's sake, set all of the columns but *host*, *detections*, and *av_detections* to type **int**"
     ]
    },
    {
     "cell_type": "code",
     "collapsed": false,
     "input": [
      "int_cols = list(df.columns - ['host','detections','av_detections'])\n",
      "df[int_cols] = df[int_cols].astype(int)"
     ],
     "language": "python",
     "metadata": {},
     "outputs": []
    },
    {
     "cell_type": "markdown",
     "metadata": {},
     "source": [
      "Take a look at the resulting dataframe, you'll see a similar structure to the one above.\n",
      "\n",
      "The cell below shows how to print the dimensions of the dataframe, in this case it has 346 rows and 97 columns (e.g. dimensions). This is due to the selection clause, it looks for domains that have zero AV results against it, and more than one blacklist hit.\n",
      "\n",
      "Try reversing the query *av_count* > 0 and *detection_count* == 0."
     ]
    },
    {
     "cell_type": "code",
     "collapsed": false,
     "input": [
      "print df[(df['av_count'] == 0) & (df['detection_count'] > 0)].shape\n",
      "df[(df['av_count'] == 0) & (df['detection_count'] > 0)].head()"
     ],
     "language": "python",
     "metadata": {},
     "outputs": []
    },
    {
     "cell_type": "code",
     "collapsed": false,
     "input": [],
     "language": "python",
     "metadata": {},
     "outputs": []
    },
    {
     "cell_type": "markdown",
     "metadata": {},
     "source": [
      "In your exploration you might have run across an IP address or 2, let's split these up into two different dataframes. This will allow and apples-to-apples comparison."
     ]
    },
    {
     "cell_type": "code",
     "collapsed": false,
     "input": [
      "domains = df[~df.host.str.contains(\"^\\d+\\.\\d+\\.\\d+\\.\\d+$\")]\n",
      "ips = df[df.host.str.contains(\"^\\d+\\.\\d+\\.\\d+\\.\\d+$\")]"
     ],
     "language": "python",
     "metadata": {},
     "outputs": []
    },
    {
     "cell_type": "markdown",
     "metadata": {},
     "source": [
      "How many elements (rows) are in each dataframe (*domains*, *ips*)?"
     ]
    },
    {
     "cell_type": "code",
     "collapsed": false,
     "input": [
      "domains.shape"
     ],
     "language": "python",
     "metadata": {},
     "outputs": []
    },
    {
     "cell_type": "code",
     "collapsed": false,
     "input": [
      "ips.shape"
     ],
     "language": "python",
     "metadata": {},
     "outputs": []
    },
    {
     "cell_type": "markdown",
     "metadata": {},
     "source": [
      "### Analysis\n",
      "The cell below pulls out the list of features what we want to use. In this case it's all of the columns that don't (or appear not to) add any value to the analysis. The hostname is what is being analyzed, the *detections* and *av_detections* are sparse text that can't be use in this lab, and the counts should be summed-up/accounted for by the presence or lack of a qualifying detection event (AV or blacklist)."
     ]
    },
    {
     "cell_type": "code",
     "collapsed": false,
     "input": [
      "cols = list(domains.columns - ['host','detections','av_detections','av_count','detection_count'])"
     ],
     "language": "python",
     "metadata": {},
     "outputs": []
    },
    {
     "cell_type": "markdown",
     "metadata": {},
     "source": [
      "### K-Means Clustering\n",
      "K-Means works on a fairly simple idea. You provide the algorithm with **K**, the number of clusters you think are in the dataset. The algorithm will attempt to find points that have the minimum distance to the other points, the centroids dictate the center of the cluster.\n",
      "\n",
      "Below, the **K** for K-means was set to two. There are many ways to determine an optimal K, but for this exercise we're only interested in two labels, good and bad. By doing this we can guide the algorithm into picking two centers and giving us a \"good\" group and a \"bad\" group of domains.\n",
      "\n",
      "The data is clustered two times. One time with both the blacklist and AV features, and another time with just the blacklist features. The labels for the clusters are stored in *bl_vt_labels* and *bl_labels* respectively. This allows an easy way to reference the labels without re-clustering the data later on.\n",
      "\n",
      "You should add a third cluster section that stores the labels in *vt_labels*, and is only a cluster of columns from the AV set. Remember the AV results are prefixed with *av_* making the columns easy to pick out."
     ]
    },
    {
     "cell_type": "code",
     "collapsed": false,
     "input": [
      "#Initial labeling of the data with 2 different datasets (URLS + VT, and just URLS)\n",
      "from sklearn.cluster import KMeans\n",
      "from sklearn.preprocessing import scale\n",
      "\n",
      "X = domains.as_matrix(cols)\n",
      "\n",
      "k_clusters = 2\n",
      "kmeans = KMeans(n_clusters=k_clusters)\n",
      "kmeans.fit(X)\n",
      "bl_vt_labels = kmeans.labels_\n",
      "\n",
      "# Blacklist only columns\n",
      "bl_cols = [x for x in cols if not 'av_' in x]\n",
      "X = domains.as_matrix(bl_cols)\n",
      "\n",
      "k_clusters = 2\n",
      "kmeans = KMeans(n_clusters=k_clusters)\n",
      "kmeans.fit(X)\n",
      "bl_labels = kmeans.labels_\n"
     ],
     "language": "python",
     "metadata": {},
     "outputs": []
    },
    {
     "cell_type": "markdown",
     "metadata": {},
     "source": [
      "Check your work! Make sure to print out at least a few elements of *vt_labels*."
     ]
    },
    {
     "cell_type": "code",
     "collapsed": false,
     "input": [
      "print bl_labels[:10]\n",
      "print bl_vt_labels[:10]"
     ],
     "language": "python",
     "metadata": {},
     "outputs": []
    },
    {
     "cell_type": "markdown",
     "metadata": {},
     "source": [
      "Remember, the algorithm doesn't know what's malicious or not, so don't place any inherent value in a label of *1* or *0*. It's only a label of what group the algorithm thinks the data belongs in. Although, you as an analyst, might be able to infer if it's in the malicious or benign cluster.\n",
      "\n",
      "----\n",
      "\n",
      "Below is a way to spot check domains, explore a couple more on your own. You can see what blacklists and AV engines, if any, are associated with the domain."
     ]
    },
    {
     "cell_type": "code",
     "collapsed": false,
     "input": [
      "d = \"0lilioo0l0o00lilil.info\"\n",
      "print \"Domain %s has bl_label: %d\" %(d, bl_labels[domains[domains['host'] == d].index[0]])\n",
      "print \"Domain %s has bl_vt_label: %d\" %(d, bl_vt_labels[domains[domains['host'] == d].index[0]])\n",
      "R = zip(list(domains.columns), domains[domains['host'] == d].values.tolist()[0])\n",
      "for r in R:\n",
      "    if r[1] == 1:\n",
      "        print r"
     ],
     "language": "python",
     "metadata": {},
     "outputs": []
    },
    {
     "cell_type": "code",
     "collapsed": false,
     "input": [],
     "language": "python",
     "metadata": {},
     "outputs": []
    },
    {
     "cell_type": "code",
     "collapsed": false,
     "input": [],
     "language": "python",
     "metadata": {},
     "outputs": []
    },
    {
     "cell_type": "code",
     "collapsed": false,
     "input": [],
     "language": "python",
     "metadata": {},
     "outputs": []
    },
    {
     "cell_type": "markdown",
     "metadata": {},
     "source": [
      "### PCA\n",
      "PCA is used for dimensionality reduction, one of the major advantages of this is being able to visualize data. Our current dataset has 92 features/dimensions, which unless you have super powers is pretty hard to visualize. One awesome use of PCA is to reduce these dimensions down into something that we as mortals can see.\n",
      "\n",
      "The first exercise is reducing all 92 dimensions down to three for easy and pretty graphing. The colors in the graph are set by the labels from the K-Means clustering above.\n",
      "\n",
      "Do the same as the cell below but one set of graphs for the blacklist only data and one set of graphs for the VirusTotal only data. What kinds of patterns emerge?\n",
      "\n",
      "**Hint** don't forget to use the right labels for the right columns."
     ]
    },
    {
     "cell_type": "code",
     "collapsed": false,
     "input": [
      "import pylab\n",
      "from matplotlib import pyplot as plt\n",
      "from sklearn.decomposition import PCA\n",
      "from mpl_toolkits.mplot3d import Axes3D\n",
      "\n",
      "pylab.rcParams['figure.figsize'] = (16.0, 5.0)\n",
      "\n",
      "X = PCA(n_components=3).fit_transform(domains.as_matrix(cols))\n",
      "colors = ['green' if x == 1 else 'red' for x in bl_vt_labels]\n",
      "\n",
      "figsize(12,8)\n",
      "fig = plt.figure(figsize=plt.figaspect(.5))\n",
      "fig.suptitle(\"Exploding Tacos!\")\n",
      "ax = fig.add_subplot(1, 2, 1, projection='3d')\n",
      "ax.scatter(X[:,0], X[:,1], X[:,2], alpha=.5, color=colors, s=50)\n",
      "ax.set_title(\"Kmeans Clusters\")\n",
      "ax = fig.add_subplot(1, 2, 2, projection='3d')\n",
      "ax.set_xlim(-5,2)\n",
      "ax.set_ylim(-2,2)\n",
      "ax.set_zlim(-2,2)\n",
      "ax.scatter(X[:,0], X[:,1], X[:,2], alpha=.5, color=colors, s=50)\n",
      "ax.set_title(\"KMeans Clusters (zoomed in)\")\n",
      "plt.show()"
     ],
     "language": "python",
     "metadata": {},
     "outputs": []
    },
    {
     "cell_type": "code",
     "collapsed": false,
     "input": [],
     "language": "python",
     "metadata": {},
     "outputs": []
    },
    {
     "cell_type": "code",
     "collapsed": false,
     "input": [],
     "language": "python",
     "metadata": {},
     "outputs": []
    },
    {
     "cell_type": "markdown",
     "metadata": {},
     "source": [
      "### 2D\n",
      "Now that you're a wiz at reducing various dimensions to three, it's possible to reduce down to two and graph that. Perhaps some more or different structure will pop out at you.\n",
      "\n",
      "Once again the blacklist and VirusTotal scenario is done for you, do the same as above and examine the blacklist only and VirusTotal cases in 2D."
     ]
    },
    {
     "cell_type": "code",
     "collapsed": false,
     "input": [
      "colors = ['green' if x == 1 else 'red' for x in bl_vt_labels]\n",
      "DD = PCA(n_components=2).fit_transform(domains.as_matrix(cols))\n",
      "figsize(12,8)\n",
      "fig = plt.figure(figsize=plt.figaspect(.5))\n",
      "ax = fig.add_subplot(1, 1, 1)\n",
      "ax.scatter(DD[:,0], DD[:,1], s=50, alpha=.5, color=colors)\n",
      "ax.set_title(\"Raw Data 2D\")\n",
      "plt.show()"
     ],
     "language": "python",
     "metadata": {},
     "outputs": []
    },
    {
     "cell_type": "code",
     "collapsed": false,
     "input": [],
     "language": "python",
     "metadata": {},
     "outputs": []
    },
    {
     "cell_type": "code",
     "collapsed": false,
     "input": [],
     "language": "python",
     "metadata": {},
     "outputs": []
    },
    {
     "cell_type": "markdown",
     "metadata": {},
     "source": [
      "### 1D\n",
      "Our last stop on this journey is 1D. The insights gained by visualizing the data in both three and two dimensions can be pretty helpful. As the beginning of the lab stated our goal is to create some kind of ranking or prioritization of the domains which is just a one-dimensional task. We'll cheat a little bit since looking at a list of numbers isn't that pretty. We'll cheat a bit for the graphing and plot our points along the X-axis with a Y value of 0 for each point.\n",
      "\n",
      "The case of all the features has been provided for you, repeat the process for blacklist only and AV only."
     ]
    },
    {
     "cell_type": "code",
     "collapsed": false,
     "input": [
      "import numpy as np\n",
      "\n",
      "colors = ['green' if x == 1 else 'red' for x in bl_vt_labels]\n",
      "D = PCA(n_components=1).fit_transform(domains.as_matrix(cols))\n",
      "print len(D)\n",
      "DD = np.ndarray(shape=(len(D),2), dtype=float, order='F')\n",
      "for i in range(0,len(D)):\n",
      "    DD[i] = [D[i], 0.0]\n",
      "\n",
      "figsize(12,8)\n",
      "fig = plt.figure(figsize=plt.figaspect(.5))\n",
      "ax = fig.add_subplot(1, 1, 1)\n",
      "ax.scatter(DD[:,0], DD[:,1], s=50, color=colors)\n",
      "ax.set_title(\"Line 'em up!\")\n",
      "plt.show()"
     ],
     "language": "python",
     "metadata": {},
     "outputs": []
    },
    {
     "cell_type": "code",
     "collapsed": false,
     "input": [],
     "language": "python",
     "metadata": {},
     "outputs": []
    },
    {
     "cell_type": "code",
     "collapsed": false,
     "input": [],
     "language": "python",
     "metadata": {},
     "outputs": []
    },
    {
     "cell_type": "markdown",
     "metadata": {},
     "source": [
      "## Scaled Data\n",
      "One of the final things we can do with this information is scale the feature returned by PCA in this instance. This shifts the data so all values are between zero and one. Giving a really nice scale.\n",
      "\n",
      "The case of both AV and blacklist is once again provided, perform the same operation/graph for AV only and blacklist only."
     ]
    },
    {
     "cell_type": "code",
     "collapsed": false,
     "input": [
      "D = PCA(n_components=1).fit_transform(domains.as_matrix(cols))\n",
      "D = [(x - D.min())/(D.max() - D.min()) for x in D]\n",
      "DD = np.ndarray(shape=(len(D),2), dtype=float, order='F')\n",
      "for i in range(0,len(D)):\n",
      "    DD[i] = [D[i], 0.0]\n",
      "\n",
      "figsize(12,8)\n",
      "fig = plt.figure(figsize=plt.figaspect(.5))\n",
      "ax = fig.add_subplot(1, 1, 1)\n",
      "ax.scatter(DD[:,0], DD[:,1], s=50, alpha=.5, color=colors)\n",
      "ax.set_title(\"Normalized/Scaled between 0 and 1\")\n",
      "plt.show()"
     ],
     "language": "python",
     "metadata": {},
     "outputs": []
    },
    {
     "cell_type": "markdown",
     "metadata": {},
     "source": [
      "## Putting It All Together\n",
      "\n",
      "After doing all that work to attempt to order and group data, it's time to make use of the results. Remember, that the labels *0* and *1* are arbitrary so it will take assigning the values back and you interpreting the data to understand what's going on.\n",
      "\n",
      "Here's one of the ways to assign and look at domains. This is just for the AV and blacklist results, so you should do the same with the other labels/values.\n",
      "\n",
      "When does this seem to work, when does it seem to fail? How valuable do you think this kind of technique is?"
     ]
    },
    {
     "cell_type": "code",
     "collapsed": false,
     "input": [
      "D = PCA(n_components=1).fit_transform(domains.as_matrix(cols))\n",
      "D = [(x - D.min())/(D.max() - D.min()) for x in D]\n",
      "domains['bl_vt_scaled'] = D\n",
      "domains[['host','bl_vt_scaled']].head()"
     ],
     "language": "python",
     "metadata": {},
     "outputs": []
    },
    {
     "cell_type": "code",
     "collapsed": false,
     "input": [
      "domains[domains['host'] == '0td4nbde7.ttl60.com'][['detections','detection_count','av_detections','av_count']]"
     ],
     "language": "python",
     "metadata": {},
     "outputs": []
    },
    {
     "cell_type": "code",
     "collapsed": false,
     "input": [
      "domains[domains['bl_vt_scaled'] == 1]['host'].unique()"
     ],
     "language": "python",
     "metadata": {},
     "outputs": []
    },
    {
     "cell_type": "code",
     "collapsed": false,
     "input": [
      "domains[domains['host'] == 'turningsbyterry.com'][['detections','detection_count','av_detections','av_count']]"
     ],
     "language": "python",
     "metadata": {},
     "outputs": []
    },
    {
     "cell_type": "code",
     "collapsed": false,
     "input": [
      "domains[domains['bl_vt_scaled'] == 0]['host'].unique()"
     ],
     "language": "python",
     "metadata": {},
     "outputs": []
    },
    {
     "cell_type": "code",
     "collapsed": false,
     "input": [
      "domains[domains['host'] == 'download.yspbrsz.net'][['detections','detection_count','av_detections','av_count']]"
     ],
     "language": "python",
     "metadata": {},
     "outputs": []
    },
    {
     "cell_type": "code",
     "collapsed": false,
     "input": [],
     "language": "python",
     "metadata": {},
     "outputs": []
    },
    {
     "cell_type": "code",
     "collapsed": false,
     "input": [],
     "language": "python",
     "metadata": {},
     "outputs": []
    },
    {
     "cell_type": "code",
     "collapsed": false,
     "input": [],
     "language": "python",
     "metadata": {},
     "outputs": []
    },
    {
     "cell_type": "code",
     "collapsed": false,
     "input": [],
     "language": "python",
     "metadata": {},
     "outputs": []
    },
    {
     "cell_type": "code",
     "collapsed": false,
     "input": [],
     "language": "python",
     "metadata": {},
     "outputs": []
    },
    {
     "cell_type": "code",
     "collapsed": false,
     "input": [],
     "language": "python",
     "metadata": {},
     "outputs": []
    },
    {
     "cell_type": "code",
     "collapsed": false,
     "input": [],
     "language": "python",
     "metadata": {},
     "outputs": []
    },
    {
     "cell_type": "code",
     "collapsed": false,
     "input": [],
     "language": "python",
     "metadata": {},
     "outputs": []
    },
    {
     "cell_type": "code",
     "collapsed": false,
     "input": [],
     "language": "python",
     "metadata": {},
     "outputs": []
    },
    {
     "cell_type": "code",
     "collapsed": false,
     "input": [],
     "language": "python",
     "metadata": {},
     "outputs": []
    },
    {
     "cell_type": "code",
     "collapsed": false,
     "input": [],
     "language": "python",
     "metadata": {},
     "outputs": []
    },
    {
     "cell_type": "code",
     "collapsed": false,
     "input": [],
     "language": "python",
     "metadata": {},
     "outputs": []
    },
    {
     "cell_type": "code",
     "collapsed": false,
     "input": [],
     "language": "python",
     "metadata": {},
     "outputs": []
    },
    {
     "cell_type": "code",
     "collapsed": false,
     "input": [],
     "language": "python",
     "metadata": {},
     "outputs": []
    },
    {
     "cell_type": "markdown",
     "metadata": {},
     "source": [
      "# Fin"
     ]
    }
   ],
   "metadata": {}
  }
 ]
}