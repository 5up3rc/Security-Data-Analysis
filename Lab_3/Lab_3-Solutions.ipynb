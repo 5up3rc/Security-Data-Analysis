{
 "metadata": {
  "name": "",
  "signature": "sha256:4259a41cc965f996ef16b9df24702ce48c9e1b1404b9c427a8201252aa1fe15f"
 },
 "nbformat": 3,
 "nbformat_minor": 0,
 "worksheets": [
  {
   "cells": [
    {
     "cell_type": "markdown",
     "metadata": {},
     "source": [
      "# Lab 3\n",
      "\n",
      "## Introduction\n",
      "Since the previous labs have provided a (hopefully) good foundation in the various tools that will be used, this lab will explore some of the Statistics functions available for analysis. Overall this should be a gentle introduction (or reminder) about basic statistical analysis.This lab will pick up a the dataset used in Lab 1, building on your knowledge of dataframes, this lab gives the opportunity to explore what types of functions they export for data analysis.\n",
      "\n",
      "Some goals will be how to quickly summarize data, know how to get at specific values/features of data, understand how the data looks (statistically), and how to understand the layout of the data.\n",
      "\n",
      "### Useful Terminology\n",
      "**Mean (mu)** - The average, the sum of the numbers divided by the number of numbers.\n",
      "\n",
      "**Mode** - The number that occurs most frequently.\n",
      "\n",
      "**Median** - The middle number when the numbers are sorted, or with an even number of numbers the average of the two middle numbers.\n",
      "\n",
      "**Standard Deviation (sigma)** - The dispersion from the mean. The larger the standard deviation, the more spread out the numbers are.\n",
      "\n",
      "**Variance** - How spread out the numbers are. A Variance of zero means all numbers are the same. Similar to Standard Deviation.\n",
      "___"
     ]
    },
    {
     "cell_type": "markdown",
     "metadata": {},
     "source": [
      "## Exercises\n",
      "\n",
      "### File Input\n",
      "Using what you learned in the last lab read in the log (csv) file provided for you.\n",
      "\n",
      "#### Hints\n",
      "* The file name is in the \"../Lab 1/ directory and is called *conn_sample.log*\n",
      "* There is no header to the file\n",
      "* It's *[TAB]* separated\n",
      "* The fields are: 'ts', 'uid', 'id.orig_h', 'id.orig_p', 'id.resp_h', 'id.resp_p', 'proto', 'service', 'duration', 'orig_bytes', 'resp_bytes', 'conn_state', 'local_orig', 'missed_bytes', 'history', 'orig_pkts', 'orig_ip_bytes', 'resp_pkts', 'resp_ip_bytes', 'tunnel_parents', 'threat', 'sample'"
     ]
    },
    {
     "cell_type": "code",
     "collapsed": false,
     "input": [
      "csv_file = \"../Lab_1/conn_sample.log\"\n",
      "\n",
      "import pandas as pd\n",
      "df = pd.read_csv(csv_file, sep=\"\\t\", header=None, names=['ts','uid','id.orig_h','id.orig_p','id.resp_h','id.resp_p','proto','service','duration','orig_bytes','resp_bytes','conn_state','local_orig','missed_bytes','history','orig_pkts','orig_ip_bytes','resp_pkts','resp_ip_bytes','tunnel_parents','threat','sample'])"
     ],
     "language": "python",
     "metadata": {},
     "outputs": [],
     "prompt_number": 1
    },
    {
     "cell_type": "markdown",
     "metadata": {},
     "source": [
      "After running the above cell, run this one to verify that you've got data in the dataframe, and that it looks \"correct enough\"."
     ]
    },
    {
     "cell_type": "code",
     "collapsed": false,
     "input": [
      "df.head()"
     ],
     "language": "python",
     "metadata": {},
     "outputs": [
      {
       "html": [
        "<div style=\"max-height:1000px;max-width:1500px;overflow:auto;\">\n",
        "<table border=\"1\" class=\"dataframe\">\n",
        "  <thead>\n",
        "    <tr style=\"text-align: right;\">\n",
        "      <th></th>\n",
        "      <th>ts</th>\n",
        "      <th>uid</th>\n",
        "      <th>id.orig_h</th>\n",
        "      <th>id.orig_p</th>\n",
        "      <th>id.resp_h</th>\n",
        "      <th>id.resp_p</th>\n",
        "      <th>proto</th>\n",
        "      <th>service</th>\n",
        "      <th>duration</th>\n",
        "      <th>orig_bytes</th>\n",
        "      <th>...</th>\n",
        "      <th>local_orig</th>\n",
        "      <th>missed_bytes</th>\n",
        "      <th>history</th>\n",
        "      <th>orig_pkts</th>\n",
        "      <th>orig_ip_bytes</th>\n",
        "      <th>resp_pkts</th>\n",
        "      <th>resp_ip_bytes</th>\n",
        "      <th>tunnel_parents</th>\n",
        "      <th>threat</th>\n",
        "      <th>sample</th>\n",
        "    </tr>\n",
        "  </thead>\n",
        "  <tbody>\n",
        "    <tr>\n",
        "      <th>0</th>\n",
        "      <td> 1.331901e+09</td>\n",
        "      <td> CC6D613v9i3xbmQbAf</td>\n",
        "      <td> 192.168.202.79</td>\n",
        "      <td> 46125</td>\n",
        "      <td> 192.168.229.254</td>\n",
        "      <td> 443</td>\n",
        "      <td> tcp</td>\n",
        "      <td>  ssl</td>\n",
        "      <td> 0.020000</td>\n",
        "      <td> 548</td>\n",
        "      <td>...</td>\n",
        "      <td> -</td>\n",
        "      <td> 0</td>\n",
        "      <td> ShADadfrF</td>\n",
        "      <td> 8</td>\n",
        "      <td> 972</td>\n",
        "      <td> 13</td>\n",
        "      <td> 1744</td>\n",
        "      <td> (empty)</td>\n",
        "      <td>NaN</td>\n",
        "      <td>NaN</td>\n",
        "    </tr>\n",
        "    <tr>\n",
        "      <th>1</th>\n",
        "      <td> 1.331901e+09</td>\n",
        "      <td> CIuYWb1zOaIDFu8Dg5</td>\n",
        "      <td> 192.168.202.79</td>\n",
        "      <td> 50487</td>\n",
        "      <td> 192.168.229.251</td>\n",
        "      <td>  80</td>\n",
        "      <td> tcp</td>\n",
        "      <td> http</td>\n",
        "      <td> 0.020000</td>\n",
        "      <td> 163</td>\n",
        "      <td>...</td>\n",
        "      <td> -</td>\n",
        "      <td> 0</td>\n",
        "      <td>   ShADfFa</td>\n",
        "      <td> 4</td>\n",
        "      <td> 379</td>\n",
        "      <td>  3</td>\n",
        "      <td>  382</td>\n",
        "      <td> (empty)</td>\n",
        "      <td>NaN</td>\n",
        "      <td>NaN</td>\n",
        "    </tr>\n",
        "    <tr>\n",
        "      <th>2</th>\n",
        "      <td> 1.331901e+09</td>\n",
        "      <td> CfczR73LHTJTgRay8g</td>\n",
        "      <td> 192.168.202.79</td>\n",
        "      <td> 50676</td>\n",
        "      <td> 192.168.229.251</td>\n",
        "      <td>  80</td>\n",
        "      <td> tcp</td>\n",
        "      <td> http</td>\n",
        "      <td> 0.020000</td>\n",
        "      <td> 195</td>\n",
        "      <td>...</td>\n",
        "      <td> -</td>\n",
        "      <td> 0</td>\n",
        "      <td>  ShADdfFa</td>\n",
        "      <td> 5</td>\n",
        "      <td> 463</td>\n",
        "      <td>  4</td>\n",
        "      <td>  501</td>\n",
        "      <td> (empty)</td>\n",
        "      <td>NaN</td>\n",
        "      <td>NaN</td>\n",
        "    </tr>\n",
        "    <tr>\n",
        "      <th>3</th>\n",
        "      <td> 1.331901e+09</td>\n",
        "      <td>  CPjJW5LXwvcJmCffe</td>\n",
        "      <td> 192.168.202.79</td>\n",
        "      <td> 46402</td>\n",
        "      <td> 192.168.229.254</td>\n",
        "      <td> 443</td>\n",
        "      <td> tcp</td>\n",
        "      <td>  ssl</td>\n",
        "      <td> 0.010000</td>\n",
        "      <td> 537</td>\n",
        "      <td>...</td>\n",
        "      <td> -</td>\n",
        "      <td> 0</td>\n",
        "      <td> ShADadfFr</td>\n",
        "      <td> 8</td>\n",
        "      <td> 961</td>\n",
        "      <td> 13</td>\n",
        "      <td> 1744</td>\n",
        "      <td> (empty)</td>\n",
        "      <td>NaN</td>\n",
        "      <td>NaN</td>\n",
        "    </tr>\n",
        "    <tr>\n",
        "      <th>4</th>\n",
        "      <td> 1.331901e+09</td>\n",
        "      <td> CvOStJ12oV25vlXoZ2</td>\n",
        "      <td> 192.168.202.79</td>\n",
        "      <td> 50838</td>\n",
        "      <td> 192.168.229.251</td>\n",
        "      <td>  80</td>\n",
        "      <td> tcp</td>\n",
        "      <td> http</td>\n",
        "      <td> 0.020000</td>\n",
        "      <td> 163</td>\n",
        "      <td>...</td>\n",
        "      <td> -</td>\n",
        "      <td> 0</td>\n",
        "      <td>  ShADdfFa</td>\n",
        "      <td> 5</td>\n",
        "      <td> 431</td>\n",
        "      <td>  4</td>\n",
        "      <td> 2069</td>\n",
        "      <td> (empty)</td>\n",
        "      <td>NaN</td>\n",
        "      <td>NaN</td>\n",
        "    </tr>\n",
        "  </tbody>\n",
        "</table>\n",
        "<p>5 rows \u00d7 22 columns</p>\n",
        "</div>"
       ],
       "metadata": {},
       "output_type": "pyout",
       "prompt_number": 2,
       "text": [
        "             ts                 uid       id.orig_h  id.orig_p  \\\n",
        "0  1.331901e+09  CC6D613v9i3xbmQbAf  192.168.202.79      46125   \n",
        "1  1.331901e+09  CIuYWb1zOaIDFu8Dg5  192.168.202.79      50487   \n",
        "2  1.331901e+09  CfczR73LHTJTgRay8g  192.168.202.79      50676   \n",
        "3  1.331901e+09   CPjJW5LXwvcJmCffe  192.168.202.79      46402   \n",
        "4  1.331901e+09  CvOStJ12oV25vlXoZ2  192.168.202.79      50838   \n",
        "\n",
        "         id.resp_h  id.resp_p proto service  duration orig_bytes    ...      \\\n",
        "0  192.168.229.254        443   tcp     ssl  0.020000        548    ...       \n",
        "1  192.168.229.251         80   tcp    http  0.020000        163    ...       \n",
        "2  192.168.229.251         80   tcp    http  0.020000        195    ...       \n",
        "3  192.168.229.254        443   tcp     ssl  0.010000        537    ...       \n",
        "4  192.168.229.251         80   tcp    http  0.020000        163    ...       \n",
        "\n",
        "  local_orig missed_bytes    history  orig_pkts orig_ip_bytes  resp_pkts  \\\n",
        "0          -            0  ShADadfrF          8           972         13   \n",
        "1          -            0    ShADfFa          4           379          3   \n",
        "2          -            0   ShADdfFa          5           463          4   \n",
        "3          -            0  ShADadfFr          8           961         13   \n",
        "4          -            0   ShADdfFa          5           431          4   \n",
        "\n",
        "   resp_ip_bytes  tunnel_parents  threat sample  \n",
        "0           1744         (empty)     NaN    NaN  \n",
        "1            382         (empty)     NaN    NaN  \n",
        "2            501         (empty)     NaN    NaN  \n",
        "3           1744         (empty)     NaN    NaN  \n",
        "4           2069         (empty)     NaN    NaN  \n",
        "\n",
        "[5 rows x 22 columns]"
       ]
      }
     ],
     "prompt_number": 2
    },
    {
     "cell_type": "markdown",
     "metadata": {},
     "source": [
      "Once again time for data cleanup!\n",
      "\n",
      "The cell below will, if you remember, fill all NaN valued cells with 0. The assumption here is that if Bro didn't fill in a value it's safe to set that value to zero. After that let's see what pandas determined the columns to be."
     ]
    },
    {
     "cell_type": "code",
     "collapsed": false,
     "input": [
      "df = df.fillna(0)"
     ],
     "language": "python",
     "metadata": {},
     "outputs": [],
     "prompt_number": 3
    },
    {
     "cell_type": "code",
     "collapsed": false,
     "input": [
      "df.dtypes"
     ],
     "language": "python",
     "metadata": {},
     "outputs": [
      {
       "metadata": {},
       "output_type": "pyout",
       "prompt_number": 4,
       "text": [
        "ts                float64\n",
        "uid                object\n",
        "id.orig_h          object\n",
        "id.orig_p           int64\n",
        "id.resp_h          object\n",
        "id.resp_p           int64\n",
        "proto              object\n",
        "service            object\n",
        "duration           object\n",
        "orig_bytes         object\n",
        "resp_bytes         object\n",
        "conn_state         object\n",
        "local_orig         object\n",
        "missed_bytes        int64\n",
        "history            object\n",
        "orig_pkts           int64\n",
        "orig_ip_bytes       int64\n",
        "resp_pkts           int64\n",
        "resp_ip_bytes       int64\n",
        "tunnel_parents     object\n",
        "threat            float64\n",
        "sample            float64\n",
        "dtype: object"
       ]
      }
     ],
     "prompt_number": 4
    },
    {
     "cell_type": "markdown",
     "metadata": {},
     "source": [
      "### More Data Cleanup\n",
      "\n",
      "In data produced by Bro, it will often put a *-* if it can't determine a value or one wasn't seen. It's likely you saw quite a few of these in the _head()_ command above. These have a couple of different effects on the data, they can cause pandas to not recognize the column as being purely numeric and because of that it won't compute data statistics for us.\n",
      "\n",
      "\n",
      "#### Value substitution\n",
      "\n",
      "The following columns need to be cleaned up this way: orig_bytes, duration, and resp_bytes.\n",
      "\n",
      "It's important to understand the changes that you make to the underlying data by substituting values. First let's take a look at some of the differences, then make the changes to the rest of the columns.\n",
      "\n",
      "First, make all Bro unknowns *-* into numpy unknowns *np.nan*, and see what that does."
     ]
    },
    {
     "cell_type": "code",
     "collapsed": false,
     "input": [
      "df['orig_bytes'].apply(lambda x: np.nan if x == '-' else x).astype(float64).describe()"
     ],
     "language": "python",
     "metadata": {},
     "outputs": [
      {
       "metadata": {},
       "output_type": "pyout",
       "prompt_number": 5,
       "text": [
        "count    3.882900e+04\n",
        "mean     4.026234e+05\n",
        "std      2.582477e+07\n",
        "min      0.000000e+00\n",
        "25%      0.000000e+00\n",
        "50%      0.000000e+00\n",
        "75%      0.000000e+00\n",
        "max      2.450790e+09\n",
        "dtype: float64"
       ]
      }
     ],
     "prompt_number": 5
    },
    {
     "cell_type": "markdown",
     "metadata": {},
     "source": [
      "Then a similar change to make all Bro unknowns *-* into zeros, and check the output. \n",
      "\n",
      "What are some of the differences?"
     ]
    },
    {
     "cell_type": "code",
     "collapsed": false,
     "input": [
      "df['orig_bytes'].apply(lambda x: 0 if x == '-' else x).astype(float64).describe()"
     ],
     "language": "python",
     "metadata": {},
     "outputs": [
      {
       "metadata": {},
       "output_type": "pyout",
       "prompt_number": 6,
       "text": [
        "count    2.269430e+05\n",
        "mean     6.888718e+04\n",
        "std      1.068305e+07\n",
        "min      0.000000e+00\n",
        "25%      0.000000e+00\n",
        "50%      0.000000e+00\n",
        "75%      0.000000e+00\n",
        "max      2.450790e+09\n",
        "dtype: float64"
       ]
      }
     ],
     "prompt_number": 6
    },
    {
     "cell_type": "markdown",
     "metadata": {},
     "source": [
      "Pick one method, come up with your justification, and do the assignment for all the columns listed above. This can be done using a lambda function inside the **apply()** function. A lambda (function) is an anonymous function or one that is not bound to a specific name.\n",
      "\n",
      "A partial sample has been provided."
     ]
    },
    {
     "cell_type": "code",
     "collapsed": false,
     "input": [
      "df['orig_bytes'] = df['orig_bytes'].apply(lambda x: np.nan if x == '-' else x).astype(float64)\n",
      "df['duration'] = df['duration'].apply(lambda x: np.nan if x == '-' else x).astype(float64)\n",
      "df['resp_bytes'] = df['resp_bytes'].apply(lambda x: np.nan if x == '-' else x).astype(float64)"
     ],
     "language": "python",
     "metadata": {},
     "outputs": [],
     "prompt_number": 7
    },
    {
     "cell_type": "markdown",
     "metadata": {},
     "source": [
      "#### Remove un-needed columns\n",
      "\n",
      "The columns: 'ts', 'uid', 'proto', 'service', 'conn_state', 'local_orig', 'history', 'tunnel_parents', 'threat', 'sample' aren't needed for this lab. Let's get rid of them."
     ]
    },
    {
     "cell_type": "code",
     "collapsed": false,
     "input": [
      "df.drop(['ts','uid','proto','service','conn_state','local_orig','history','tunnel_parents','threat','sample'], axis=1, inplace=True)"
     ],
     "language": "python",
     "metadata": {},
     "outputs": [],
     "prompt_number": 8
    },
    {
     "cell_type": "markdown",
     "metadata": {},
     "source": [
      "#### Change column types\n",
      "\n",
      "Once again, in order to do analysis, columns should be set to the correct data type.\n",
      "\n",
      "Use the information/examples above to set orig_pkts, resp_pkts, and missed_bytes to *float64* and id.orig_p and id.resp_p to *object*"
     ]
    },
    {
     "cell_type": "code",
     "collapsed": false,
     "input": [
      "df['orig_pkts'] = df['orig_pkts'].apply(lambda x: np.nan if x == '-' else x).astype(float64)\n",
      "df['resp_pkts'] = df['resp_pkts'].apply(lambda x: np.nan if x == '-' else x).astype(float64)\n",
      "df['missed_bytes'] = df['missed_bytes'].apply(lambda x: np.nan if x == '-' else x).astype(float64)\n",
      "df['id.orig_p'] = df['id.orig_p'].apply(lambda x: np.nan if x == '-' else x).astype(object)\n",
      "df['id.resp_p'] = df['id.resp_p'].apply(lambda x: np.nan if x == '-' else x).astype(object)"
     ],
     "language": "python",
     "metadata": {},
     "outputs": [],
     "prompt_number": 9
    },
    {
     "cell_type": "markdown",
     "metadata": {},
     "source": [
      "Last but not least, The values of (empty) can creep into the data as well (it was seen in orig_ip_bytes and resp_ip_bytes), substitute these out for your chosen value above. Also, because later on we'll do some division, set all zeros to **np.nan** in the *resp_ip_bytes* column.\n",
      "\n",
      "Make sure to verify that all your changes have held! \n",
      "\n",
      "*Hint: use the dtypes property*"
     ]
    },
    {
     "cell_type": "code",
     "collapsed": false,
     "input": [
      "df['orig_ip_bytes'] = df['orig_ip_bytes'].apply(lambda x: np.inf if x == '(empty)' else x).astype(float64)\n",
      "df['resp_ip_bytes'] = df['resp_ip_bytes'].apply(lambda x: np.inf if x == '(empty)' else x).astype(float64)\n",
      "df['resp_ip_bytes'] = df['resp_ip_bytes'].apply(lambda x: np.nan if x == 0 else x).astype(float64)\n",
      "df.dtypes"
     ],
     "language": "python",
     "metadata": {},
     "outputs": [
      {
       "metadata": {},
       "output_type": "pyout",
       "prompt_number": 10,
       "text": [
        "id.orig_h         object\n",
        "id.orig_p         object\n",
        "id.resp_h         object\n",
        "id.resp_p         object\n",
        "duration         float64\n",
        "orig_bytes       float64\n",
        "resp_bytes       float64\n",
        "missed_bytes     float64\n",
        "orig_pkts        float64\n",
        "orig_ip_bytes    float64\n",
        "resp_pkts        float64\n",
        "resp_ip_bytes    float64\n",
        "dtype: object"
       ]
      }
     ],
     "prompt_number": 10
    },
    {
     "cell_type": "markdown",
     "metadata": {},
     "source": [
      "### Feature Engineering for More Stats!\n",
      "\n",
      "A simple exercise on how you can combine (now 2 numeric) features to create yet another numeric feature that can give you more insight into the data.\n",
      "\n",
      "You can perform mathematical operations on columns and assign them to a new column. Run the cell below to see how it's done, and check out some of the initial values."
     ]
    },
    {
     "cell_type": "code",
     "collapsed": false,
     "input": [
      "df['out_in_ratio'] = df['orig_ip_bytes']/df['resp_ip_bytes']\n",
      "df['out_in_ratio'].head()"
     ],
     "language": "python",
     "metadata": {},
     "outputs": [
      {
       "metadata": {},
       "output_type": "pyout",
       "prompt_number": 11,
       "text": [
        "0    0.557339\n",
        "1    0.992147\n",
        "2    0.924152\n",
        "3    0.551032\n",
        "4    0.208313\n",
        "Name: out_in_ratio, dtype: float64"
       ]
      }
     ],
     "prompt_number": 11
    },
    {
     "cell_type": "markdown",
     "metadata": {},
     "source": [
      "#### Statistical Summarization\n",
      "\n",
      "As we've explored before, the **describe()** function can be used to summarize all the numerical columns in a dataframe. What happens run this is run on our our modified (and nicely cleaned up) dataframe?\n",
      "\n",
      "Did the newly created column appear as well? Anything interesting about it?"
     ]
    },
    {
     "cell_type": "code",
     "collapsed": false,
     "input": [
      "df.dtypes"
     ],
     "language": "python",
     "metadata": {},
     "outputs": [
      {
       "metadata": {},
       "output_type": "pyout",
       "prompt_number": 12,
       "text": [
        "id.orig_h         object\n",
        "id.orig_p         object\n",
        "id.resp_h         object\n",
        "id.resp_p         object\n",
        "duration         float64\n",
        "orig_bytes       float64\n",
        "resp_bytes       float64\n",
        "missed_bytes     float64\n",
        "orig_pkts        float64\n",
        "orig_ip_bytes    float64\n",
        "resp_pkts        float64\n",
        "resp_ip_bytes    float64\n",
        "out_in_ratio     float64\n",
        "dtype: object"
       ]
      }
     ],
     "prompt_number": 12
    },
    {
     "cell_type": "code",
     "collapsed": false,
     "input": [
      "df.describe()"
     ],
     "language": "python",
     "metadata": {},
     "outputs": [
      {
       "html": [
        "<div style=\"max-height:1000px;max-width:1500px;overflow:auto;\">\n",
        "<table border=\"1\" class=\"dataframe\">\n",
        "  <thead>\n",
        "    <tr style=\"text-align: right;\">\n",
        "      <th></th>\n",
        "      <th>duration</th>\n",
        "      <th>orig_bytes</th>\n",
        "      <th>resp_bytes</th>\n",
        "      <th>missed_bytes</th>\n",
        "      <th>orig_pkts</th>\n",
        "      <th>orig_ip_bytes</th>\n",
        "      <th>resp_pkts</th>\n",
        "      <th>resp_ip_bytes</th>\n",
        "      <th>out_in_ratio</th>\n",
        "    </tr>\n",
        "  </thead>\n",
        "  <tbody>\n",
        "    <tr>\n",
        "      <th>count</th>\n",
        "      <td> 38829.000000</td>\n",
        "      <td> 3.882900e+04</td>\n",
        "      <td> 3.882900e+04</td>\n",
        "      <td> 226943.000000</td>\n",
        "      <td> 226943.000000</td>\n",
        "      <td> 2.269430e+05</td>\n",
        "      <td> 226943.000000</td>\n",
        "      <td>  128762.000000</td>\n",
        "      <td> 128762.000000</td>\n",
        "    </tr>\n",
        "    <tr>\n",
        "      <th>mean</th>\n",
        "      <td>     1.389964</td>\n",
        "      <td> 4.026234e+05</td>\n",
        "      <td> 4.720935e+04</td>\n",
        "      <td>      0.005076</td>\n",
        "      <td>      2.230397</td>\n",
        "      <td> 1.252348e+03</td>\n",
        "      <td>      1.281145</td>\n",
        "      <td>     389.138286</td>\n",
        "      <td>      1.354542</td>\n",
        "    </tr>\n",
        "    <tr>\n",
        "      <th>std</th>\n",
        "      <td>    29.874816</td>\n",
        "      <td> 2.582477e+07</td>\n",
        "      <td> 9.143567e+06</td>\n",
        "      <td>      2.418210</td>\n",
        "      <td>    400.669980</td>\n",
        "      <td> 5.364227e+05</td>\n",
        "      <td>    203.089273</td>\n",
        "      <td>   27830.642394</td>\n",
        "      <td>      0.828916</td>\n",
        "    </tr>\n",
        "    <tr>\n",
        "      <th>min</th>\n",
        "      <td>     0.009999</td>\n",
        "      <td> 0.000000e+00</td>\n",
        "      <td> 0.000000e+00</td>\n",
        "      <td>      0.000000</td>\n",
        "      <td>      0.000000</td>\n",
        "      <td> 0.000000e+00</td>\n",
        "      <td>      0.000000</td>\n",
        "      <td>      28.000000</td>\n",
        "      <td>      0.000000</td>\n",
        "    </tr>\n",
        "    <tr>\n",
        "      <th>25%</th>\n",
        "      <td>     0.010000</td>\n",
        "      <td> 0.000000e+00</td>\n",
        "      <td> 0.000000e+00</td>\n",
        "      <td>      0.000000</td>\n",
        "      <td>      1.000000</td>\n",
        "      <td> 4.400000e+01</td>\n",
        "      <td>      0.000000</td>\n",
        "      <td>      40.000000</td>\n",
        "      <td>      1.100000</td>\n",
        "    </tr>\n",
        "    <tr>\n",
        "      <th>50%</th>\n",
        "      <td>     0.020000</td>\n",
        "      <td> 0.000000e+00</td>\n",
        "      <td> 0.000000e+00</td>\n",
        "      <td>      0.000000</td>\n",
        "      <td>      1.000000</td>\n",
        "      <td> 4.800000e+01</td>\n",
        "      <td>      1.000000</td>\n",
        "      <td>      40.000000</td>\n",
        "      <td>      1.500000</td>\n",
        "    </tr>\n",
        "    <tr>\n",
        "      <th>75%</th>\n",
        "      <td>     0.100000</td>\n",
        "      <td> 0.000000e+00</td>\n",
        "      <td> 0.000000e+00</td>\n",
        "      <td>      0.000000</td>\n",
        "      <td>      1.000000</td>\n",
        "      <td> 6.000000e+01</td>\n",
        "      <td>      1.000000</td>\n",
        "      <td>      40.000000</td>\n",
        "      <td>      1.500000</td>\n",
        "    </tr>\n",
        "    <tr>\n",
        "      <th>max</th>\n",
        "      <td>  4021.040000</td>\n",
        "      <td> 2.450790e+09</td>\n",
        "      <td> 1.801741e+09</td>\n",
        "      <td>   1152.000000</td>\n",
        "      <td> 190782.000000</td>\n",
        "      <td> 2.555393e+08</td>\n",
        "      <td>  96458.000000</td>\n",
        "      <td> 7401564.000000</td>\n",
        "      <td>     52.348174</td>\n",
        "    </tr>\n",
        "  </tbody>\n",
        "</table>\n",
        "</div>"
       ],
       "metadata": {},
       "output_type": "pyout",
       "prompt_number": 13,
       "text": [
        "           duration    orig_bytes    resp_bytes   missed_bytes      orig_pkts  \\\n",
        "count  38829.000000  3.882900e+04  3.882900e+04  226943.000000  226943.000000   \n",
        "mean       1.389964  4.026234e+05  4.720935e+04       0.005076       2.230397   \n",
        "std       29.874816  2.582477e+07  9.143567e+06       2.418210     400.669980   \n",
        "min        0.009999  0.000000e+00  0.000000e+00       0.000000       0.000000   \n",
        "25%        0.010000  0.000000e+00  0.000000e+00       0.000000       1.000000   \n",
        "50%        0.020000  0.000000e+00  0.000000e+00       0.000000       1.000000   \n",
        "75%        0.100000  0.000000e+00  0.000000e+00       0.000000       1.000000   \n",
        "max     4021.040000  2.450790e+09  1.801741e+09    1152.000000  190782.000000   \n",
        "\n",
        "       orig_ip_bytes      resp_pkts   resp_ip_bytes   out_in_ratio  \n",
        "count   2.269430e+05  226943.000000   128762.000000  128762.000000  \n",
        "mean    1.252348e+03       1.281145      389.138286       1.354542  \n",
        "std     5.364227e+05     203.089273    27830.642394       0.828916  \n",
        "min     0.000000e+00       0.000000       28.000000       0.000000  \n",
        "25%     4.400000e+01       0.000000       40.000000       1.100000  \n",
        "50%     4.800000e+01       1.000000       40.000000       1.500000  \n",
        "75%     6.000000e+01       1.000000       40.000000       1.500000  \n",
        "max     2.555393e+08   96458.000000  7401564.000000      52.348174  "
       ]
      }
     ],
     "prompt_number": 13
    },
    {
     "cell_type": "markdown",
     "metadata": {},
     "source": [
      "There are specific functions that allow for computing the various values one at a time. \n",
      "\n",
      "Try computing the Standard Deviation of *orig_ip_bytes* using the **std()** function."
     ]
    },
    {
     "cell_type": "code",
     "collapsed": false,
     "input": [
      "df.orig_ip_bytes.std()"
     ],
     "language": "python",
     "metadata": {},
     "outputs": [
      {
       "metadata": {},
       "output_type": "pyout",
       "prompt_number": 14,
       "text": [
        "536422.66517650534"
       ]
      }
     ],
     "prompt_number": 14
    },
    {
     "cell_type": "markdown",
     "metadata": {},
     "source": [
      "Try computing the Variance of *orig_ip_bytes* using the **var()** function."
     ]
    },
    {
     "cell_type": "code",
     "collapsed": false,
     "input": [
      "df.orig_ip_bytes.var()"
     ],
     "language": "python",
     "metadata": {},
     "outputs": [
      {
       "metadata": {},
       "output_type": "pyout",
       "prompt_number": 15,
       "text": [
        "287749275715.06519"
       ]
      }
     ],
     "prompt_number": 15
    },
    {
     "cell_type": "markdown",
     "metadata": {},
     "source": [
      "What were the results? Why do you think that's the case?\n",
      "\n",
      "*Hint: <a href=\"http://en.wikipedia.org/wiki/Standard_deviation#Basic_examples\">Wikipedia</a> has a great example of how to computer the Standard Deviation, and remember the variance is just the standard deviation squared*\n",
      "\n",
      "Below the scipy stats module can be used to compute the mode. Any surprises with the result?"
     ]
    },
    {
     "cell_type": "code",
     "collapsed": false,
     "input": [
      "from scipy.stats.mstats import mode\n",
      "f = lambda x: mode(x, axis=None)[0]\n",
      "#[value, count] returned by mode()\n",
      "mode(df.orig_ip_bytes)"
     ],
     "language": "python",
     "metadata": {},
     "outputs": [
      {
       "metadata": {},
       "output_type": "pyout",
       "prompt_number": 16,
       "text": [
        "(array([ 60.]), array([ 82051.]))"
       ]
      }
     ],
     "prompt_number": 16
    },
    {
     "cell_type": "markdown",
     "metadata": {},
     "source": [
      "### Box Plots\n",
      "\n",
      "Also known as box whisker plots, these can be used to get a good feel for how distributed the data looks. By default the box will cover the upper and lower quartiles (eg. the 25th - 75th percentile), and a red line will be at the 50th percentile. Whiskers (lines) will extend out to show the rest of the data, with (occasionally) filler points to show outliers.\n",
      "\n",
      "Here's how to create a simple boxplot so summarize the column that was added above."
     ]
    },
    {
     "cell_type": "code",
     "collapsed": false,
     "input": [
      "df.columns"
     ],
     "language": "python",
     "metadata": {},
     "outputs": [
      {
       "metadata": {},
       "output_type": "pyout",
       "prompt_number": 17,
       "text": [
        "Index([u'id.orig_h', u'id.orig_p', u'id.resp_h', u'id.resp_p', u'duration', u'orig_bytes', u'resp_bytes', u'missed_bytes', u'orig_pkts', u'orig_ip_bytes', u'resp_pkts', u'resp_ip_bytes', u'out_in_ratio'], dtype='object')"
       ]
      }
     ],
     "prompt_number": 17
    },
    {
     "cell_type": "code",
     "collapsed": false,
     "input": [
      "df.boxplot(column='out_in_ratio')\n",
      "plt.ylabel('Out-In Byte Ratio')"
     ],
     "language": "python",
     "metadata": {},
     "outputs": [
      {
       "output_type": "stream",
       "stream": "stderr",
       "text": [
        "/Library/Python/2.7/site-packages/pandas/tools/plotting.py:2380: FutureWarning: \n",
        "The default value for 'return_type' will change to 'axes' in a future release.\n",
        " To use the future behavior now, set return_type='axes'.\n",
        " To keep the previous behavior and silence this warning, set return_type='dict'.\n",
        "  warnings.warn(msg, FutureWarning)\n"
       ]
      },
      {
       "metadata": {},
       "output_type": "pyout",
       "prompt_number": 18,
       "text": [
        "<matplotlib.text.Text at 0x115ff83d0>"
       ]
      },
      {
       "metadata": {},
       "output_type": "display_data",
       "png": "[encoded data removed]",
       "text": [
        "<matplotlib.figure.Figure at 0x115fef090>"
       ]
      }
     ],
     "prompt_number": 18
    },
    {
     "cell_type": "markdown",
     "metadata": {},
     "source": [
      "#### Slicing data\n",
      "\n",
      "It's possible to run these functions on slices or sub-selections of the data.\n",
      "\n",
      "Below, what happens when you run the **describe()** function on the set of numbers in *orig_ip_bytes* that are less than 200?\n",
      "\n",
      "What about if you pass the option of **percentiles=[.3,.5,.7]** to the **describe()** function?"
     ]
    },
    {
     "cell_type": "code",
     "collapsed": false,
     "input": [
      "df[df.orig_ip_bytes < 200]['orig_ip_bytes'].describe()"
     ],
     "language": "python",
     "metadata": {},
     "outputs": [
      {
       "metadata": {},
       "output_type": "pyout",
       "prompt_number": 19,
       "text": [
        "count    219879.000000\n",
        "mean         52.305986\n",
        "std          11.243378\n",
        "min           0.000000\n",
        "25%          44.000000\n",
        "50%          48.000000\n",
        "75%          60.000000\n",
        "max         196.000000\n",
        "dtype: float64"
       ]
      }
     ],
     "prompt_number": 19
    },
    {
     "cell_type": "code",
     "collapsed": false,
     "input": [
      "df[df.orig_ip_bytes < 200]['orig_ip_bytes'].describe(percentiles=[.3,.5,.7])"
     ],
     "language": "python",
     "metadata": {},
     "outputs": [
      {
       "metadata": {},
       "output_type": "pyout",
       "prompt_number": 20,
       "text": [
        "count    219879.000000\n",
        "mean         52.305986\n",
        "std          11.243378\n",
        "min           0.000000\n",
        "30%          44.000000\n",
        "50%          48.000000\n",
        "70%          60.000000\n",
        "max         196.000000\n",
        "dtype: float64"
       ]
      }
     ],
     "prompt_number": 20
    },
    {
     "cell_type": "markdown",
     "metadata": {},
     "source": [
      "#### Box plots on on slices\n",
      "\n",
      "Run the **boxplot()** function on the *orig_ip_bytes* column, after selecting all of the values from *orig_ip_bytes* that are less than 200 (like above). \n",
      "\n",
      "How does the plot look different from the one above?"
     ]
    },
    {
     "cell_type": "code",
     "collapsed": false,
     "input": [
      "df[df.orig_ip_bytes < 200].boxplot(column='orig_ip_bytes')"
     ],
     "language": "python",
     "metadata": {},
     "outputs": [
      {
       "metadata": {},
       "output_type": "pyout",
       "prompt_number": 21,
       "text": [
        "{'boxes': [<matplotlib.lines.Line2D at 0x116422650>],\n",
        " 'caps': [<matplotlib.lines.Line2D at 0x11641d990>,\n",
        "  <matplotlib.lines.Line2D at 0x11641dfd0>],\n",
        " 'fliers': [<matplotlib.lines.Line2D at 0x116424310>,\n",
        "  <matplotlib.lines.Line2D at 0x116424810>],\n",
        " 'medians': [<matplotlib.lines.Line2D at 0x116422c90>],\n",
        " 'whiskers': [<matplotlib.lines.Line2D at 0x11641d050>,\n",
        "  <matplotlib.lines.Line2D at 0x11641d2d0>]}"
       ]
      },
      {
       "metadata": {},
       "output_type": "display_data",
       "png": "[encoded data removed]",
       "text": [
        "<matplotlib.figure.Figure at 0x118f83cd0>"
       ]
      }
     ],
     "prompt_number": 21
    },
    {
     "cell_type": "markdown",
     "metadata": {},
     "source": [
      "### Data Distribution\n",
      "\n",
      "It's useful to know the layout of your data for several reasons. One of them is due to some of the underlying assumptions some algorithms make on having continuous values. Or perhaps the data follows a Gaussian (normal) distribution. Using some of the techniques and functions from above you can begin to see how the data might be laid out. However, it's usful to compare it to known data sets (that follow a specific distribution).\n",
      "\n",
      "The following examples are based on some really nice code that The Glowing Python put together, that we've hacked up to suit our specific use case.\n",
      "\n",
      "In the first example, the numbers in the *orig_ip_bytes* are scaled (recentered around the mean), and with scikit learn (more on this later) the mean is 0 as well as the unit variance. This is a common cleaning step for Machine Learning algorithms. The scaled numbers are then compared to a randomly generated list of numbers that have the same number of numbers, and are bounded by the same min and max. The list of generated values is also computed with a given standard deviation and mean, as well as the defaults (to show how close the generated list is to \"ideal\". Both samples are compared against the numbers in scaled version of *orig_ip_bytes*.\n",
      "\n",
      "What happens to the graph when you remove **scale()** from around the **df.orig_ip_bytes.tolist()** section?"
     ]
    },
    {
     "cell_type": "code",
     "collapsed": false,
     "input": [
      "# original code from: http://glowingpython.blogspot.com/2012/07/distribution-fitting-with-scipy.html\n",
      "from scipy.stats import norm\n",
      "from numpy import linspace\n",
      "from pylab import plot,show,hist,figure,title\n",
      "from sklearn.preprocessing import scale\n",
      "\n",
      "samp = scale(df.orig_ip_bytes.tolist())\n",
      "\n",
      "param = norm.fit(samp) # distribution fitting\n",
      "\n",
      "# now, param[0] and param[1] are the mean and \n",
      "# the standard deviation of the fitted distribution\n",
      "x = linspace(min(samp),max(samp),len(samp))\n",
      "# fitted distribution\n",
      "pdf_fitted = norm.pdf(x,loc=param[0],scale=param[1])\n",
      "# original distribution\n",
      "pdf = norm.pdf(x)\n",
      "\n",
      "title('Normal distribution vs. Bytes')\n",
      "plot(x,pdf_fitted,'r-')\n",
      "plot(x,pdf,'b-')\n",
      "hist(samp,normed=1,alpha=.3)\n",
      "show()"
     ],
     "language": "python",
     "metadata": {},
     "outputs": [
      {
       "metadata": {},
       "output_type": "display_data",
       "png": "[encoded data removed]",
       "text": [
        "<matplotlib.figure.Figure at 0x1164dc450>"
       ]
      }
     ],
     "prompt_number": 22
    },
    {
     "cell_type": "markdown",
     "metadata": {},
     "source": [
      "Same as above, except only looking at the first 100 entries in the list (to get a prettier graph).\n",
      "\n",
      "Do you get a better insight into what happens when you remove **scale()**? What happens?"
     ]
    },
    {
     "cell_type": "code",
     "collapsed": false,
     "input": [
      "samp = scale(df.orig_ip_bytes.tolist()[:100])\n",
      "\n",
      "param = norm.fit(samp) # distribution fitting\n",
      "\n",
      "# now, param[0] and param[1] are the mean and \n",
      "# the standard deviation of the fitted distribution\n",
      "x = linspace(min(samp),max(samp),len(samp))\n",
      "# fitted distribution\n",
      "pdf_fitted = norm.pdf(x,loc=param[0],scale=param[1])\n",
      "# original distribution\n",
      "pdf = norm.pdf(x)\n",
      "\n",
      "title('Normal distribution vs. Bytes')\n",
      "plot(x,pdf_fitted,'r-')\n",
      "plot(x,pdf,'b-')\n",
      "hist(samp,normed=1,alpha=.3)\n",
      "show()"
     ],
     "language": "python",
     "metadata": {},
     "outputs": [
      {
       "metadata": {},
       "output_type": "display_data",
       "png": "[encoded data removed]",
       "text": [
        "<matplotlib.figure.Figure at 0x115ff8fd0>"
       ]
      }
     ],
     "prompt_number": 23
    },
    {
     "cell_type": "markdown",
     "metadata": {},
     "source": [
      "### More Data\n",
      "\n",
      "Run through the exercises above (up until the Box Plot section) on the full list of numbers in the *orig_ip_bytes* column. \n",
      "\n",
      "What are some of the differences? How good was the random sample that was taken in the first lab?\n",
      "\n",
      "*Hint: the file you want to read in is \"./orig_ip_bytes.log\". This file only contains one column, so take that into account when reading the file in. Also, no need to add the out_in_ratio columns since the other columns are present*\n",
      "\n",
      "However, before you begin there's one last thing that will be useful to know. IPython supports cell magic functions. You can get a list of them by creating a cell and executing **%lsmagic** in it. \n",
      "\n",
      "First create a new cell and run *%reset out* in it (don't forget to hit 'y'). This will clear all the output, and free up a bit of memory for this next set.\n",
      "\n",
      "Since this is a bigger dataset don't worry when some of the steps require waiting for a couple of minutes."
     ]
    },
    {
     "cell_type": "code",
     "collapsed": false,
     "input": [
      "%lsmagic"
     ],
     "language": "python",
     "metadata": {},
     "outputs": [
      {
       "json": [
        "{\"cell\": {\"prun\": \"ExecutionMagics\", \"file\": \"Other\", \"!\": \"OSMagics\", \"capture\": \"ExecutionMagics\", \"timeit\": \"ExecutionMagics\", \"script\": \"ScriptMagics\", \"pypy\": \"Other\", \"system\": \"OSMagics\", \"perl\": \"Other\", \"HTML\": \"Other\", \"bash\": \"Other\", \"python\": \"Other\", \"SVG\": \"Other\", \"javascript\": \"DisplayMagics\", \"writefile\": \"OSMagics\", \"ruby\": \"Other\", \"python3\": \"Other\", \"python2\": \"Other\", \"latex\": \"DisplayMagics\", \"sx\": \"OSMagics\", \"svg\": \"DisplayMagics\", \"html\": \"DisplayMagics\", \"sh\": \"Other\", \"time\": \"ExecutionMagics\", \"debug\": \"ExecutionMagics\"}, \"line\": {\"psource\": \"NamespaceMagics\", \"logstart\": \"LoggingMagics\", \"popd\": \"OSMagics\", \"loadpy\": \"CodeMagics\", \"install_ext\": \"ExtensionMagics\", \"colors\": \"BasicMagics\", \"who_ls\": \"NamespaceMagics\", \"lf\": \"Other\", \"install_profiles\": \"DeprecatedMagics\", \"ll\": \"Other\", \"pprint\": \"BasicMagics\", \"lk\": \"Other\", \"ls\": \"Other\", \"save\": \"CodeMagics\", \"tb\": \"ExecutionMagics\", \"lx\": \"Other\", \"pylab\": \"PylabMagics\", \"killbgscripts\": \"ScriptMagics\", \"quickref\": \"BasicMagics\", \"magic\": \"BasicMagics\", \"dhist\": \"OSMagics\", \"edit\": \"KernelMagics\", \"logstop\": \"LoggingMagics\", \"gui\": \"BasicMagics\", \"alias_magic\": \"BasicMagics\", \"debug\": \"ExecutionMagics\", \"page\": \"BasicMagics\", \"logstate\": \"LoggingMagics\", \"ed\": \"Other\", \"pushd\": \"OSMagics\", \"timeit\": \"ExecutionMagics\", \"rehashx\": \"OSMagics\", \"hist\": \"Other\", \"qtconsole\": \"KernelMagics\", \"rm\": \"Other\", \"dirs\": \"OSMagics\", \"run\": \"ExecutionMagics\", \"reset_selective\": \"NamespaceMagics\", \"rep\": \"Other\", \"pinfo2\": \"NamespaceMagics\", \"matplotlib\": \"PylabMagics\", \"unload_ext\": \"ExtensionMagics\", \"doctest_mode\": \"KernelMagics\", \"logoff\": \"LoggingMagics\", \"reload_ext\": \"ExtensionMagics\", \"pdb\": \"ExecutionMagics\", \"load\": \"CodeMagics\", \"lsmagic\": \"BasicMagics\", \"autosave\": \"KernelMagics\", \"cd\": \"OSMagics\", \"pastebin\": \"CodeMagics\", \"prun\": \"ExecutionMagics\", \"cp\": \"Other\", \"autocall\": \"AutoMagics\", \"bookmark\": \"OSMagics\", \"connect_info\": \"KernelMagics\", \"mkdir\": \"Other\", \"system\": \"OSMagics\", \"whos\": \"NamespaceMagics\", \"rmdir\": \"Other\", \"automagic\": \"AutoMagics\", \"store\": \"StoreMagics\", \"more\": \"KernelMagics\", \"pdef\": \"NamespaceMagics\", \"precision\": \"BasicMagics\", \"pinfo\": \"NamespaceMagics\", \"pwd\": \"OSMagics\", \"psearch\": \"NamespaceMagics\", \"reset\": \"NamespaceMagics\", \"recall\": \"HistoryMagics\", \"xdel\": \"NamespaceMagics\", \"xmode\": \"BasicMagics\", \"cat\": \"Other\", \"mv\": \"Other\", \"rerun\": \"HistoryMagics\", \"logon\": \"LoggingMagics\", \"history\": \"HistoryMagics\", \"pycat\": \"OSMagics\", \"unalias\": \"OSMagics\", \"install_default_config\": \"DeprecatedMagics\", \"env\": \"OSMagics\", \"load_ext\": \"ExtensionMagics\", \"config\": \"ConfigMagics\", \"profile\": \"BasicMagics\", \"pfile\": \"NamespaceMagics\", \"less\": \"KernelMagics\", \"who\": \"NamespaceMagics\", \"notebook\": \"BasicMagics\", \"man\": \"KernelMagics\", \"sx\": \"OSMagics\", \"macro\": \"ExecutionMagics\", \"clear\": \"KernelMagics\", \"alias\": \"OSMagics\", \"time\": \"ExecutionMagics\", \"sc\": \"OSMagics\", \"ldir\": \"Other\", \"pdoc\": \"NamespaceMagics\"}}"
       ],
       "metadata": {},
       "output_type": "pyout",
       "prompt_number": 24,
       "text": [
        "Available line magics:\n",
        "%alias  %alias_magic  %autocall  %automagic  %autosave  %bookmark  %cat  %cd  %clear  %colors  %config  %connect_info  %cp  %debug  %dhist  %dirs  %doctest_mode  %ed  %edit  %env  %gui  %hist  %history  %install_default_config  %install_ext  %install_profiles  %killbgscripts  %ldir  %less  %lf  %lk  %ll  %load  %load_ext  %loadpy  %logoff  %logon  %logstart  %logstate  %logstop  %ls  %lsmagic  %lx  %macro  %magic  %man  %matplotlib  %mkdir  %more  %mv  %notebook  %page  %pastebin  %pdb  %pdef  %pdoc  %pfile  %pinfo  %pinfo2  %popd  %pprint  %precision  %profile  %prun  %psearch  %psource  %pushd  %pwd  %pycat  %pylab  %qtconsole  %quickref  %recall  %rehashx  %reload_ext  %rep  %rerun  %reset  %reset_selective  %rm  %rmdir  %run  %save  %sc  %store  %sx  %system  %tb  %time  %timeit  %unalias  %unload_ext  %who  %who_ls  %whos  %xdel  %xmode\n",
        "\n",
        "Available cell magics:\n",
        "%%!  %%HTML  %%SVG  %%bash  %%capture  %%debug  %%file  %%html  %%javascript  %%latex  %%perl  %%prun  %%pypy  %%python  %%python2  %%python3  %%ruby  %%script  %%sh  %%svg  %%sx  %%system  %%time  %%timeit  %%writefile\n",
        "\n",
        "Automagic is ON, % prefix IS NOT needed for line magics."
       ]
      }
     ],
     "prompt_number": 24
    },
    {
     "cell_type": "code",
     "collapsed": false,
     "input": [
      "%reset out"
     ],
     "language": "python",
     "metadata": {},
     "outputs": [
      {
       "name": "stdout",
       "output_type": "stream",
       "stream": "stdout",
       "text": [
        "Once deleted, variables cannot be recovered. Proceed (y/[n])? y\n"
       ]
      },
      {
       "output_type": "stream",
       "stream": "stdout",
       "text": [
        "Flushing output cache (17 entries)\n"
       ]
      }
     ],
     "prompt_number": 25
    },
    {
     "cell_type": "code",
     "collapsed": false,
     "input": [
      "csv_file = \"./orig_ip_bytes.log\"\n",
      "\n",
      "df = pd.read_csv(csv_file, header=None, names=['orig_ip_bytes'])"
     ],
     "language": "python",
     "metadata": {},
     "outputs": [],
     "prompt_number": 26
    },
    {
     "cell_type": "code",
     "collapsed": false,
     "input": [
      "df = df.fillna(0)\n",
      "df['orig_ip_bytes'] = df['orig_ip_bytes'].apply(lambda x: np.nan if x == '(empty)' else x).astype(float64)\n",
      "df.dtypes"
     ],
     "language": "python",
     "metadata": {},
     "outputs": [
      {
       "metadata": {},
       "output_type": "pyout",
       "prompt_number": 27,
       "text": [
        "orig_ip_bytes    float64\n",
        "dtype: object"
       ]
      }
     ],
     "prompt_number": 27
    },
    {
     "cell_type": "code",
     "collapsed": false,
     "input": [
      "df.describe()"
     ],
     "language": "python",
     "metadata": {},
     "outputs": [
      {
       "html": [
        "<div style=\"max-height:1000px;max-width:1500px;overflow:auto;\">\n",
        "<table border=\"1\" class=\"dataframe\">\n",
        "  <thead>\n",
        "    <tr style=\"text-align: right;\">\n",
        "      <th></th>\n",
        "      <th>orig_ip_bytes</th>\n",
        "    </tr>\n",
        "  </thead>\n",
        "  <tbody>\n",
        "    <tr>\n",
        "      <th>count</th>\n",
        "      <td> 2.269436e+07</td>\n",
        "    </tr>\n",
        "    <tr>\n",
        "      <th>mean</th>\n",
        "      <td> 2.811454e+02</td>\n",
        "    </tr>\n",
        "    <tr>\n",
        "      <th>std</th>\n",
        "      <td> 2.336833e+05</td>\n",
        "    </tr>\n",
        "    <tr>\n",
        "      <th>min</th>\n",
        "      <td> 0.000000e+00</td>\n",
        "    </tr>\n",
        "    <tr>\n",
        "      <th>25%</th>\n",
        "      <td> 4.400000e+01</td>\n",
        "    </tr>\n",
        "    <tr>\n",
        "      <th>50%</th>\n",
        "      <td> 4.800000e+01</td>\n",
        "    </tr>\n",
        "    <tr>\n",
        "      <th>75%</th>\n",
        "      <td> 6.000000e+01</td>\n",
        "    </tr>\n",
        "    <tr>\n",
        "      <th>max</th>\n",
        "      <td> 8.951564e+08</td>\n",
        "    </tr>\n",
        "  </tbody>\n",
        "</table>\n",
        "</div>"
       ],
       "metadata": {},
       "output_type": "pyout",
       "prompt_number": 28,
       "text": [
        "       orig_ip_bytes\n",
        "count   2.269436e+07\n",
        "mean    2.811454e+02\n",
        "std     2.336833e+05\n",
        "min     0.000000e+00\n",
        "25%     4.400000e+01\n",
        "50%     4.800000e+01\n",
        "75%     6.000000e+01\n",
        "max     8.951564e+08"
       ]
      }
     ],
     "prompt_number": 28
    },
    {
     "cell_type": "code",
     "collapsed": false,
     "input": [
      "df['orig_ip_bytes'].std()"
     ],
     "language": "python",
     "metadata": {},
     "outputs": [
      {
       "metadata": {},
       "output_type": "pyout",
       "prompt_number": 29,
       "text": [
        "233683.318791937"
       ]
      }
     ],
     "prompt_number": 29
    },
    {
     "cell_type": "code",
     "collapsed": false,
     "input": [
      "df['orig_ip_bytes'].var()"
     ],
     "language": "python",
     "metadata": {},
     "outputs": [
      {
       "metadata": {},
       "output_type": "pyout",
       "prompt_number": 30,
       "text": [
        "54607893481.614059"
       ]
      }
     ],
     "prompt_number": 30
    },
    {
     "cell_type": "code",
     "collapsed": false,
     "input": [
      "from scipy.stats.mstats import mode\n",
      "f = lambda x: mode(x, axis=None)[0]\n",
      "#[value, count] returned by mode()\n",
      "mode(df.orig_ip_bytes)"
     ],
     "language": "python",
     "metadata": {},
     "outputs": [
      {
       "metadata": {},
       "output_type": "pyout",
       "prompt_number": 31,
       "text": [
        "(array([ 60.]), array([ 8199655.]))"
       ]
      }
     ],
     "prompt_number": 31
    }
   ],
   "metadata": {}
  }
 ]
}