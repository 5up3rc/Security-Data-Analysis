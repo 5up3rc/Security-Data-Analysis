{
 "metadata": {
  "name": "",
  "signature": "sha256:f8268f3bf79e9e08ce73a92ccbe58e0dff61ad19868cfb5f2de67a03b38cb1b8"
 },
 "nbformat": 3,
 "nbformat_minor": 0,
 "worksheets": [
  {
   "cells": [
    {
     "cell_type": "markdown",
     "metadata": {},
     "source": [
      "# Lab 2.1\n",
      "\n",
      "## Introduction\n",
      "More timeseries analysis, but different data. Instead of flow data this lab will examine some data that was gathered from various honeypots. Three different honeypot packages were used to generate this data: Snort, Amun, and Glastopf. <a href=\"http://snort.org/\">Snort</a> looks for patterns in network traffic and can be run in addition to the other types of honeypots. <a href=\"http://amunhoney.sourceforge.net/\">Amun</a> is a low-interaction honeypot that listens on several ports and records connections to those ports. <a href=\"http://glastopf.org/\">Glastopf</a> is another low-interaction honeypot that runs a web server and records client requests.\n",
      "\n",
      "Timeseries graphs and other exploration techniques will be used to understand the types and frequency of scans/attacks against the honeypot infrastructure.\n",
      "___"
     ]
    },
    {
     "cell_type": "markdown",
     "metadata": {},
     "source": [
      "## Exercises\n",
      "\n",
      "### File Input\n",
      "Instead of parsing a CSV file, the JSON output from *mongoexport* will be used."
     ]
    },
    {
     "cell_type": "code",
     "collapsed": false,
     "input": [
      "import pandas as pd\n",
      "import json"
     ],
     "language": "python",
     "metadata": {},
     "outputs": []
    },
    {
     "cell_type": "markdown",
     "metadata": {},
     "source": [
      "Execute the following cell to read in one JSON entry from *mongoexport*."
     ]
    },
    {
     "cell_type": "code",
     "collapsed": false,
     "input": [
      "df = pd.read_json(\"./1.json\")"
     ],
     "language": "python",
     "metadata": {},
     "outputs": []
    },
    {
     "cell_type": "markdown",
     "metadata": {},
     "source": [
      "What does the data look like? Is it in a usable format?"
     ]
    },
    {
     "cell_type": "code",
     "collapsed": false,
     "input": [
      "df"
     ],
     "language": "python",
     "metadata": {},
     "outputs": []
    },
    {
     "cell_type": "markdown",
     "metadata": {},
     "source": [
      "Since the data doesn't quite look ready-to-use one of IPython's other features of loading an external Python script can be used to fire up some parsing code. In the following cell use the **%load** magic word, and the file you'll want to load is *readhoneydata.py*."
     ]
    },
    {
     "cell_type": "code",
     "collapsed": false,
     "input": [
      "%load readhoneydata.py"
     ],
     "language": "python",
     "metadata": {},
     "outputs": []
    },
    {
     "cell_type": "code",
     "collapsed": false,
     "input": [
      "f = open('./honeypot.json', 'r')\n",
      "count = 0\n",
      "glastopf = []\n",
      "amun = []\n",
      "snort = []\n",
      "for line in f:\n",
      "    j = json.loads(line)\n",
      "    temp = []\n",
      "    temp.append(j[\"_id\"][\"$oid\"])\n",
      "    temp.append(j[\"ident\"])\n",
      "    temp.append(j[\"normalized\"])\n",
      "    temp.append(j[\"timestamp\"][\"$date\"])\n",
      "    temp.append(j[\"channel\"])\n",
      "    payload = json.loads(j[\"payload\"])\n",
      "    if j[\"channel\"] == \"glastopf.events\":\n",
      "        temp.append(payload[\"pattern\"])\n",
      "        temp.append(payload[\"filename\"])\n",
      "        temp.append(payload[\"request_raw\"])\n",
      "        temp.append(payload[\"request_url\"])\n",
      "        temp.append(payload[\"source\"][0])\n",
      "        temp.append(payload[\"source\"][1])\n",
      "        glastopf.append(temp)\n",
      "    elif j[\"channel\"] == \"amun.events\":\n",
      "        temp.append(payload[\"attackerIP\"])\n",
      "        temp.append(payload[\"attackerPort\"])\n",
      "        temp.append(payload[\"victimIP\"])\n",
      "        temp.append(payload[\"victimPort\"])\n",
      "        temp.append(payload[\"connectionType\"])\n",
      "        amun.append(temp)\n",
      "    elif j[\"channel\"] == \"snort.alerts\":\n",
      "        temp.append(payload[\"source_ip\"])\n",
      "        if \"source_port\" in payload:\n",
      "            temp.append(payload[\"source_port\"])\n",
      "        else:\n",
      "            temp.append(\"0\")\n",
      "        temp.append(payload[\"destination_ip\"])\n",
      "        if \"destination_port\" in payload:\n",
      "            temp.append(payload[\"destination_port\"])\n",
      "        else:\n",
      "            temp.append(\"0\")\n",
      "        temp.append(payload[\"signature\"])\n",
      "        temp.append(payload[\"classification\"])\n",
      "        temp.append(payload[\"proto\"])\n",
      "        snort.append(temp)\n",
      "    else:\n",
      "        print j\n",
      "f.close()\n"
     ],
     "language": "python",
     "metadata": {},
     "outputs": []
    },
    {
     "cell_type": "markdown",
     "metadata": {},
     "source": [
      "Quickly build the dataframes from the lists of lists."
     ]
    },
    {
     "cell_type": "code",
     "collapsed": false,
     "input": [
      "amun_df = pd.DataFrame(amun, columns=['id','ident','normalized','timestamp','channel','attackerIP','attackerPort','victimIP','victimPort','connectionType'])\n",
      "glastopf_df = pd.DataFrame(glastopf, columns=['id','ident','normalized','timestamp','channel','pattern','filename','request_raw','request_url','attackerIP','attackerPort'])\n",
      "snort_df = pd.DataFrame(snort, columns=['id','ident','normalized','timestamp','channel','attackerIP','attackerPort','victimIP','victimPort','signature','classification','proto'])"
     ],
     "language": "python",
     "metadata": {},
     "outputs": []
    },
    {
     "cell_type": "markdown",
     "metadata": {},
     "source": [
      "Check out the dataframes (amun_df, glastopf_df, and snort_df) and get a quick feel to see the types of data in them.\n",
      "\n",
      "**Hint**: Try running the **head()** and **dtypes** functions on the dataframes."
     ]
    },
    {
     "cell_type": "code",
     "collapsed": false,
     "input": [],
     "language": "python",
     "metadata": {},
     "outputs": []
    },
    {
     "cell_type": "markdown",
     "metadata": {},
     "source": [
      "### Data Cleanup\n",
      "**SPOILER ALERT**\n",
      "\n",
      "Since the timestamp column isn't a datetime data type we need to fix that. Below is an example that shows what had to be done to the amun dataframe, add in the glastopf and snort ones as well."
     ]
    },
    {
     "cell_type": "code",
     "collapsed": false,
     "input": [
      "amun_df['timestamp'] = amun_df['timestamp'].apply(lambda x: str(x).replace('T', 'T '))"
     ],
     "language": "python",
     "metadata": {},
     "outputs": []
    },
    {
     "cell_type": "code",
     "collapsed": false,
     "input": [
      "amun_df['timestamp'] = pd.to_datetime(amun_df['timestamp'])"
     ],
     "language": "python",
     "metadata": {},
     "outputs": []
    },
    {
     "cell_type": "markdown",
     "metadata": {},
     "source": [
      "Don't forget to double check that the timestamp column is now a datetime object type.\n",
      "\n",
      "### Data Augmentation\n",
      "1. Add a column to *glastopf_df* called *victimPort* and assign it the value **80**.\n",
      "2. Add country name to all three dataframes by using the GeoIP module, one example has already been provided.\n",
      "\n",
      "This product includes GeoLite2 data created by MaxMind, available from <a href=\"http://www.maxmind.com\">http://www.maxmind.com</a>."
     ]
    },
    {
     "cell_type": "code",
     "collapsed": false,
     "input": [
      "import GeoIP\n",
      "\n",
      "gi = GeoIP.new(GeoIP.GEOIP_MEMORY_CACHE)\n",
      "\n",
      "amun_df['attackerCountry'] = amun_df['attackerIP'].apply(lambda x: gi.country_name_by_addr(x))"
     ],
     "language": "python",
     "metadata": {},
     "outputs": []
    },
    {
     "cell_type": "markdown",
     "metadata": {},
     "source": [
      "Create a new dataframe that has some common information from the other three dataframes."
     ]
    },
    {
     "cell_type": "code",
     "collapsed": false,
     "input": [
      "cols = ['channel','timestamp','attackerIP','victimPort','attackerCountry']\n",
      "attacker_df = pd.DataFrame()\n",
      "attacker_df = attacker_df.append(snort_df[cols], ignore_index=True)\n",
      "attacker_df = attacker_df.append(amun_df[cols], ignore_index=True)\n",
      "attacker_df = attacker_df.append(glastopf_df[cols], ignore_index=True)"
     ],
     "language": "python",
     "metadata": {},
     "outputs": []
    },
    {
     "cell_type": "markdown",
     "metadata": {},
     "source": [
      "### Reindex\n",
      "Using what you learned in the first part of the lab set the index for the *attacker_df* to the *timestamp* column."
     ]
    },
    {
     "cell_type": "code",
     "collapsed": false,
     "input": [],
     "language": "python",
     "metadata": {},
     "outputs": []
    },
    {
     "cell_type": "markdown",
     "metadata": {},
     "source": [
      "### Basic Exploration\n",
      "What are the top 10 most active IPs in the *attacker_df*? What honeypot type picked up this attacker, and what port(s) was this attacker especially fond of.\n",
      "\n",
      "**Hint** Incase you forgot, the honeypot type is stored in the *channel* column, and the port(s) are stored in the *victimPort* column."
     ]
    },
    {
     "cell_type": "code",
     "collapsed": false,
     "input": [],
     "language": "python",
     "metadata": {},
     "outputs": []
    },
    {
     "cell_type": "code",
     "collapsed": false,
     "input": [],
     "language": "python",
     "metadata": {},
     "outputs": []
    },
    {
     "cell_type": "markdown",
     "metadata": {},
     "source": [
      "This is one way that values can be pulled out from other column values. In this instance a new column called *user-agent* is created from the header captured in the Glastopf honeypot."
     ]
    },
    {
     "cell_type": "code",
     "collapsed": false,
     "input": [
      "import re\n",
      "\n",
      "regex = re.compile('.*[Uu][Ss][Ee][Rr]-[Aa][Gg][Ee][Nn][Tt]:(.*?)(?:\\\\r|$)')\n",
      "glastopf_df['user-agent'] = glastopf_df['request_raw'].apply(lambda x: re.search(regex, x).group(1) if re.search(regex, x) else None)"
     ],
     "language": "python",
     "metadata": {},
     "outputs": []
    },
    {
     "cell_type": "markdown",
     "metadata": {},
     "source": [
      "What are some of the more popular user-agent strings? Find any interesting patterns?"
     ]
    },
    {
     "cell_type": "code",
     "collapsed": false,
     "input": [
      "glastopf_df['user-agent'].value_counts()"
     ],
     "language": "python",
     "metadata": {},
     "outputs": []
    },
    {
     "cell_type": "markdown",
     "metadata": {},
     "source": [
      "When you've found some patterns worth exploring, what else can you come up with.\n",
      "\n",
      "You can use the **str.contains()** function to see what rows contain a specific substring. One example has been provided, the query in the cell below is an easy way to query for all entries that may contain a shellshock exploit attempt."
     ]
    },
    {
     "cell_type": "code",
     "collapsed": false,
     "input": [
      "glastopf_df[glastopf_df['request_raw'].str.contains('{ :;}')]['request_raw'].value_counts()"
     ],
     "language": "python",
     "metadata": {},
     "outputs": []
    },
    {
     "cell_type": "code",
     "collapsed": false,
     "input": [],
     "language": "python",
     "metadata": {},
     "outputs": []
    },
    {
     "cell_type": "code",
     "collapsed": false,
     "input": [],
     "language": "python",
     "metadata": {},
     "outputs": []
    },
    {
     "cell_type": "code",
     "collapsed": false,
     "input": [],
     "language": "python",
     "metadata": {},
     "outputs": []
    },
    {
     "cell_type": "code",
     "collapsed": false,
     "input": [],
     "language": "python",
     "metadata": {},
     "outputs": []
    },
    {
     "cell_type": "markdown",
     "metadata": {},
     "source": [
      "### Timeseries Graphs (again)\n",
      "\n",
      "1. Check out some of the timeseries graphs below, see if you can find any interesting patterns in the graphs/data.\n",
      "2. Re-run the graphs and see what happens when you filter out the top talker from above.\n",
      "\n",
      "**Hint** remove the top talker from above by using the following code: *attacker_df = attacker_df[attacker_df['attackerIP'] != '']*."
     ]
    },
    {
     "cell_type": "code",
     "collapsed": false,
     "input": [
      "import matplotlib.pyplot as plt\n",
      "\n",
      "plt.plot(attacker_df['attackerIP'].resample(\"D\", how='count'), label=\"Total Events\")\n",
      "plt.legend(bbox_to_anchor=(1.05, 1), loc=2, borderaxespad=0.)    \n",
      "plt.show()"
     ],
     "language": "python",
     "metadata": {},
     "outputs": []
    },
    {
     "cell_type": "code",
     "collapsed": false,
     "input": [
      "for port in attacker_df['victimPort'].value_counts().index:\n",
      "    if port < 10000:\n",
      "        plt.plot(attacker_df[attacker_df == port]['victimPort'].resample(\"D\", how='count'), label=port)\n",
      "plt.legend(bbox_to_anchor=(1.05, 1), loc=2, borderaxespad=0.)    \n",
      "plt.show()"
     ],
     "language": "python",
     "metadata": {},
     "outputs": []
    },
    {
     "cell_type": "code",
     "collapsed": false,
     "input": [
      "tempdf = attacker_df[attacker_df['channel'] != 'amun.events']\n",
      "for port in tempdf['victimPort'].value_counts().index:\n",
      "    plt.plot(tempdf[tempdf == port]['victimPort'].resample(\"D\", how='count'), label=port)\n",
      "plt.legend(bbox_to_anchor=(1.05, 1), loc=2, borderaxespad=0.)    \n",
      "plt.show()"
     ],
     "language": "python",
     "metadata": {},
     "outputs": []
    },
    {
     "cell_type": "code",
     "collapsed": false,
     "input": [
      "for channel in attacker_df['channel'].value_counts().index:\n",
      "    plt.plot(attacker_df[attacker_df['channel'] == channel]['channel'].resample(\"D\", how='count'), label=channel)\n",
      "plt.legend(bbox_to_anchor=(1.05, 1), loc=2, borderaxespad=0.)    \n",
      "plt.show()"
     ],
     "language": "python",
     "metadata": {},
     "outputs": []
    },
    {
     "cell_type": "code",
     "collapsed": false,
     "input": [
      "for channel in attacker_df['channel'].value_counts().index:\n",
      "    if channel != \"amun.events\":\n",
      "        plt.plot(attacker_df[attacker_df['channel'] == channel]['channel'].resample(\"D\", how='count'), label=channel)\n",
      "plt.legend(bbox_to_anchor=(1.05, 1), loc=2, borderaxespad=0.)    \n",
      "plt.show()"
     ],
     "language": "python",
     "metadata": {},
     "outputs": []
    },
    {
     "cell_type": "markdown",
     "metadata": {},
     "source": [
      "### Further Exploration\n",
      "It's possible to not only look at the top 20 countries hitting the honeypots, but other queries can be combined with the GeoIP info to get a different view on how information is laid out."
     ]
    },
    {
     "cell_type": "code",
     "collapsed": false,
     "input": [
      "attacker_df['attackerCountry'].value_counts()[:20]"
     ],
     "language": "python",
     "metadata": {},
     "outputs": []
    },
    {
     "cell_type": "markdown",
     "metadata": {},
     "source": [
      "Below is a snapshot of all the countries that hit the honeypots with shellshock requests. What other types of queries can you think of?"
     ]
    },
    {
     "cell_type": "code",
     "collapsed": false,
     "input": [
      "glastopf_df[glastopf_df['request_raw'].str.contains('};')]['attackerCountry'].value_counts()"
     ],
     "language": "python",
     "metadata": {},
     "outputs": []
    },
    {
     "cell_type": "markdown",
     "metadata": {},
     "source": [
      "### You can learn a lot from a URL\n",
      "One of the things you can learn from a URL is the types of vulnerabilites people are scanning for.\n",
      "\n",
      "1. What types of vulnerabilites are scanners looking for?\n",
      "2. How many requests for phpMyAdmin were there, and who's making them?"
     ]
    },
    {
     "cell_type": "code",
     "collapsed": false,
     "input": [
      "glastopf_df['request_url'].value_counts()"
     ],
     "language": "python",
     "metadata": {},
     "outputs": []
    },
    {
     "cell_type": "code",
     "collapsed": false,
     "input": [
      "len(glastopf_df[glastopf_df['request_raw'].str.contains('phpMyAdmin')]['channel'].tolist())"
     ],
     "language": "python",
     "metadata": {},
     "outputs": []
    },
    {
     "cell_type": "code",
     "collapsed": false,
     "input": [
      "glastopf_df[glastopf_df['request_raw'].str.contains('phpMyAdmin')]['attackerIP'].unique()"
     ],
     "language": "python",
     "metadata": {},
     "outputs": []
    },
    {
     "cell_type": "code",
     "collapsed": false,
     "input": [
      "for ip in glastopf_df[glastopf_df['request_raw'].str.contains('phpMyAdmin')]['attackerIP'].unique().tolist():\n",
      "    print \"%s - %s\" %(ip, glastopf_df[glastopf_df['attackerIP'] == ip]['attackerCountry'].unique())"
     ],
     "language": "python",
     "metadata": {},
     "outputs": []
    },
    {
     "cell_type": "markdown",
     "metadata": {},
     "source": [
      "### Correlation over time\n",
      "This is a technique to determine if multiple countries are active across all the honeypots at/around the same time.\n",
      "\n",
      "Since we're just intersted in *attackerCountry*, a dataframe that contains just that data will be created for clarity."
     ]
    },
    {
     "cell_type": "code",
     "collapsed": false,
     "input": [
      "plt.rcParams['figure.figsize'] = (10, 10)\n",
      "subset = attacker_df[['attackerCountry']]\n",
      "subset['count'] = 1\n",
      "pivot = pd.pivot_table(subset, values='count', index=subset.index, columns=['attackerCountry'], fill_value=0)"
     ],
     "language": "python",
     "metadata": {},
     "outputs": []
    },
    {
     "cell_type": "markdown",
     "metadata": {},
     "source": [
      "Let's take a look at the 20 most active contries. Make sure to change the cell below to reflect this."
     ]
    },
    {
     "cell_type": "code",
     "collapsed": false,
     "input": [
      "topN = subset['attackerCountry'].value_counts()[:20].index"
     ],
     "language": "python",
     "metadata": {},
     "outputs": []
    },
    {
     "cell_type": "markdown",
     "metadata": {},
     "source": [
      "Below illustrates how the correlation matrix can be graphed. The X and Y axis are sorted for ease of understanding/viewing of the data."
     ]
    },
    {
     "cell_type": "code",
     "collapsed": false,
     "input": [
      "grouped = pivot.groupby([(lambda x: x.month), (lambda x: x.day)]).sum()\n",
      "corr_df = grouped[topN].corr()\n",
      "\n",
      "import statsmodels.api as sm\n",
      "\n",
      "corr_df.sort(axis=0, inplace=True)\n",
      "corr_df.sort(axis=1, inplace=True)\n",
      "corr_matrix = corr_df.as_matrix()\n",
      "sm.graphics.plot_corr(corr_matrix, ynames=corr_df.index.tolist(), xnames=corr_df.columns.tolist(), cmap='binary')\n",
      "plt.show()"
     ],
     "language": "python",
     "metadata": {},
     "outputs": []
    },
    {
     "cell_type": "markdown",
     "metadata": {},
     "source": [
      "Next up, dig into the correlations a bit more. We can look at the behavior across honeypots over time by using the grouped information, and plotting it.\n",
      "\n",
      "Pick 4 countries from above that appear to be highly correlated (the squares where the countries meet are closer to black) and graph them."
     ]
    },
    {
     "cell_type": "code",
     "collapsed": false,
     "input": [
      "print grouped[['France','Germany','Netherlands']].corr()\n",
      "grouped[['France','Germany','Netherlands']].plot()\n",
      "pylab.ylabel('Probes')\n",
      "pylab.xlabel('Date Scanned')"
     ],
     "language": "python",
     "metadata": {},
     "outputs": []
    },
    {
     "cell_type": "markdown",
     "metadata": {},
     "source": [
      "Pick some of the ones that appear to not be highly correlated, what does their graph look like?"
     ]
    },
    {
     "cell_type": "code",
     "collapsed": false,
     "input": [
      "print grouped[['France','Poland','Taiwan']].corr()\n",
      "grouped[['France','Poland','Taiwan']].plot()\n",
      "pylab.ylabel('Probes')\n",
      "pylab.xlabel('Date Scanned')"
     ],
     "language": "python",
     "metadata": {},
     "outputs": []
    }
   ],
   "metadata": {}
  }
 ]
}