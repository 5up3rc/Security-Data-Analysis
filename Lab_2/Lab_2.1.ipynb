{
 "metadata": {
  "name": "",
  "signature": "sha256:37ef94fb64dc7e666ef3e63f1593996a948694ea03f0c2aebb0ad73848bbb9af"
 },
 "nbformat": 3,
 "nbformat_minor": 0,
 "worksheets": [
  {
   "cells": [
    {
     "cell_type": "markdown",
     "metadata": {},
     "source": [
      "# Lab 2.1\n",
      "\n",
      "## Introduction\n",
      "More timeseries analysis, but different data. Instead of flow data this lab will examine some data that was gathered from various honeypots. Three different honeypot packages were used to generate this data: Snort, Amun, and Glastopf. <a href=\"http://snort.org/\">Snort</a> looks for patterns in network traffic and can be run in addition to the other types of honeypots. <a href=\"http://amunhoney.sourceforge.net/\">Amun</a> is a low-interaction honeypot that listens on several ports and records connections to those ports. <a href=\"http://glastopf.org/\">Glastopf</a> is another low-interaction honeypot that runs a web server and records client requests.\n",
      "\n",
      "Timeseries graphs and other exploration techniques will be used to understand the types and frequency of scans/attacks against the honeypot infrastructure.\n",
      "___"
     ]
    },
    {
     "cell_type": "markdown",
     "metadata": {},
     "source": [
      "## Exercises\n",
      "\n",
      "### File Input\n",
      "Instead of parsing a CSV file, the JSON output from *mongoexport* will be used."
     ]
    },
    {
     "cell_type": "code",
     "collapsed": false,
     "input": [
      "import pandas as pd\n",
      "import json"
     ],
     "language": "python",
     "metadata": {},
     "outputs": []
    },
    {
     "cell_type": "markdown",
     "metadata": {},
     "source": [
      "Execute the following cell to read in one JSON entry from *mongoexport*."
     ]
    },
    {
     "cell_type": "code",
     "collapsed": false,
     "input": [
      "df = pd.read_json(\"./1.json\")"
     ],
     "language": "python",
     "metadata": {},
     "outputs": []
    },
    {
     "cell_type": "markdown",
     "metadata": {},
     "source": [
      "What does the data look like? Is it in a usable format?"
     ]
    },
    {
     "cell_type": "code",
     "collapsed": false,
     "input": [
      "df"
     ],
     "language": "python",
     "metadata": {},
     "outputs": []
    },
    {
     "cell_type": "markdown",
     "metadata": {},
     "source": [
      "Since the data doesn't quite look ready-to-use one of IPython's other features of loading an external Python script can be used to fire up some parsing code. In the following cell use the **%load** magic word, and the file you'll want to load is *readhoneydata.py*."
     ]
    },
    {
     "cell_type": "code",
     "collapsed": false,
     "input": [
      "%load readhoneydata.py"
     ],
     "language": "python",
     "metadata": {},
     "outputs": []
    },
    {
     "cell_type": "markdown",
     "metadata": {},
     "source": [
      "Quickly build the dataframes from the lists of lists."
     ]
    },
    {
     "cell_type": "code",
     "collapsed": false,
     "input": [
      "amun_df = pd.DataFrame(amun, columns=['id','ident','normalized','timestamp','channel','attackerIP','attackerPort','victimIP','victimPort','connectionType'])\n",
      "glastopf_df = pd.DataFrame(glastopf, columns=['id','ident','normalized','timestamp','channel','pattern','filename','request_raw','request_url','attackerIP','attackerPort'])\n",
      "snort_df = pd.DataFrame(snort, columns=['id','ident','normalized','timestamp','channel','attackerIP','attackerPort','victimIP','victimPort','signature','classification','proto'])"
     ],
     "language": "python",
     "metadata": {},
     "outputs": []
    },
    {
     "cell_type": "markdown",
     "metadata": {},
     "source": [
      "Check out the dataframes (amun_df, glastopf_df, and snort_df) and get a quick feel to see the types of data in them.\n",
      "\n",
      "**Hint**: Try running the **head()** and **dtypes** functions on the dataframes."
     ]
    },
    {
     "cell_type": "code",
     "collapsed": false,
     "input": [],
     "language": "python",
     "metadata": {},
     "outputs": []
    },
    {
     "cell_type": "markdown",
     "metadata": {},
     "source": [
      "### Data Cleanup\n",
      "**SPOILER ALERT**\n",
      "\n",
      "Since the timestamp column isn't a datetime data type we need to fix that. Below is an example that shows what had to be done to the amun dataframe, add in the glastopf and snort ones as well."
     ]
    },
    {
     "cell_type": "code",
     "collapsed": false,
     "input": [
      "amun_df['timestamp'] = amun_df['timestamp'].apply(lambda x: str(x).replace('T', 'T '))"
     ],
     "language": "python",
     "metadata": {},
     "outputs": []
    },
    {
     "cell_type": "code",
     "collapsed": false,
     "input": [
      "amun_df['timestamp'] = pd.to_datetime(amun_df['timestamp'])"
     ],
     "language": "python",
     "metadata": {},
     "outputs": []
    },
    {
     "cell_type": "markdown",
     "metadata": {},
     "source": [
      "Don't forget to double check that the timestamp column is now a datetime object type.\n",
      "\n",
      "### Data Augmentation\n",
      "1. Add a column to *glastopf_df* called *victimPort* and assign it the value **80**.\n",
      "2. Add country name to all three dataframes by using the GeoIP module, one example has already been provided.\n",
      "\n",
      "This product includes GeoLite2 data created by MaxMind, available from <a href=\"http://www.maxmind.com\">http://www.maxmind.com</a>."
     ]
    },
    {
     "cell_type": "code",
     "collapsed": false,
     "input": [
      "import GeoIP\n",
      "\n",
      "gi = GeoIP.new(GeoIP.GEOIP_MEMORY_CACHE)\n",
      "\n",
      "amun_df['attackerCountry'] = amun_df['attackerIP'].apply(lambda x: gi.country_name_by_addr(x))"
     ],
     "language": "python",
     "metadata": {},
     "outputs": []
    },
    {
     "cell_type": "markdown",
     "metadata": {},
     "source": [
      "Create a new dataframe that has some common information from the other three dataframes."
     ]
    },
    {
     "cell_type": "code",
     "collapsed": false,
     "input": [
      "cols = ['channel','timestamp','attackerIP','victimPort','attackerCountry']\n",
      "attacker_df = pd.DataFrame()\n",
      "attacker_df = attacker_df.append(snort_df[cols], ignore_index=True)\n",
      "attacker_df = attacker_df.append(amun_df[cols], ignore_index=True)\n",
      "attacker_df = attacker_df.append(glastopf_df[cols], ignore_index=True)"
     ],
     "language": "python",
     "metadata": {},
     "outputs": []
    },
    {
     "cell_type": "markdown",
     "metadata": {},
     "source": [
      "### Reindex\n",
      "Using what you learned in the first part of the lab set the index for the *attacker_df* to the *timestamp* column."
     ]
    },
    {
     "cell_type": "code",
     "collapsed": false,
     "input": [],
     "language": "python",
     "metadata": {},
     "outputs": []
    },
    {
     "cell_type": "markdown",
     "metadata": {},
     "source": [
      "### Basic Exploration\n",
      "What are the top 10 most active IPs in the *attacker_df*? What honeypot type picked up this attacker, and what port(s) was this attacker especially fond of.\n",
      "\n",
      "**Hint** Incase you forgot, the honeypot type is stored in the *channel* column, and the port(s) are stored in the *victimPort* column."
     ]
    },
    {
     "cell_type": "code",
     "collapsed": false,
     "input": [],
     "language": "python",
     "metadata": {},
     "outputs": []
    },
    {
     "cell_type": "code",
     "collapsed": false,
     "input": [],
     "language": "python",
     "metadata": {},
     "outputs": []
    },
    {
     "cell_type": "markdown",
     "metadata": {},
     "source": [
      "This is one way that values can be pulled out from other column values. In this instance a new column called *user-agent* is created from the header captured in the Glastopf honeypot."
     ]
    },
    {
     "cell_type": "code",
     "collapsed": false,
     "input": [
      "import re\n",
      "\n",
      "regex = re.compile('.*[Uu][Ss][Ee][Rr]-[Aa][Gg][Ee][Nn][Tt]:(.*?)(?:\\\\r|$)')\n",
      "glastopf_df['user-agent'] = glastopf_df['request_raw'].apply(lambda x: re.search(regex, x).group(1) if re.search(regex, x) else None)"
     ],
     "language": "python",
     "metadata": {},
     "outputs": []
    },
    {
     "cell_type": "markdown",
     "metadata": {},
     "source": [
      "What are some of the more popular user-agent strings? Find any interesting patterns?"
     ]
    },
    {
     "cell_type": "code",
     "collapsed": false,
     "input": [
      "glastopf_df['user-agent'].value_counts()"
     ],
     "language": "python",
     "metadata": {},
     "outputs": []
    },
    {
     "cell_type": "markdown",
     "metadata": {},
     "source": [
      "When you've found some patterns worth exploring, what else can you come up with.\n",
      "\n",
      "You can use the **str.contains()** function to see what rows contain a specific substring. One example has been provided, the query in the cell below is an easy way to query for all entries that may contain a shellshock exploit attempt."
     ]
    },
    {
     "cell_type": "code",
     "collapsed": false,
     "input": [
      "glastopf_df[glastopf_df['request_raw'].str.contains('{ :;}')]['request_raw'].value_counts()"
     ],
     "language": "python",
     "metadata": {},
     "outputs": []
    },
    {
     "cell_type": "code",
     "collapsed": false,
     "input": [],
     "language": "python",
     "metadata": {},
     "outputs": []
    },
    {
     "cell_type": "code",
     "collapsed": false,
     "input": [],
     "language": "python",
     "metadata": {},
     "outputs": []
    },
    {
     "cell_type": "code",
     "collapsed": false,
     "input": [],
     "language": "python",
     "metadata": {},
     "outputs": []
    },
    {
     "cell_type": "code",
     "collapsed": false,
     "input": [],
     "language": "python",
     "metadata": {},
     "outputs": []
    },
    {
     "cell_type": "markdown",
     "metadata": {},
     "source": [
      "### Timeseries Graphs (again)\n",
      "\n",
      "1. Check out some of the timeseries graphs below, see if you can find any interesting patterns in the graphs/data.\n",
      "2. Re-run the graphs and see what happens when you filter out the top talker from above.\n",
      "\n",
      "**Hint** remove the top talker from above by using the following code: *attacker_df = attacker_df[attacker_df['attackerIP'] != '']*."
     ]
    },
    {
     "cell_type": "code",
     "collapsed": false,
     "input": [
      "import matplotlib.pyplot as plt\n",
      "\n",
      "plt.plot(attacker_df['attackerIP'].resample(\"D\", how='count'), label=\"Total Events\")\n",
      "plt.legend(bbox_to_anchor=(1.05, 1), loc=2, borderaxespad=0.)    \n",
      "plt.show()"
     ],
     "language": "python",
     "metadata": {},
     "outputs": []
    },
    {
     "cell_type": "code",
     "collapsed": false,
     "input": [
      "for port in attacker_df['victimPort'].value_counts().index:\n",
      "    if port < 10000:\n",
      "        plt.plot(attacker_df[attacker_df == port]['victimPort'].resample(\"D\", how='count'), label=port)\n",
      "plt.legend(bbox_to_anchor=(1.05, 1), loc=2, borderaxespad=0.)    \n",
      "plt.show()"
     ],
     "language": "python",
     "metadata": {},
     "outputs": []
    },
    {
     "cell_type": "code",
     "collapsed": false,
     "input": [
      "tempdf = attacker_df[attacker_df['channel'] != 'amun.events']\n",
      "for port in tempdf['victimPort'].value_counts().index:\n",
      "    plt.plot(tempdf[tempdf == port]['victimPort'].resample(\"D\", how='count'), label=port)\n",
      "plt.legend(bbox_to_anchor=(1.05, 1), loc=2, borderaxespad=0.)    \n",
      "plt.show()"
     ],
     "language": "python",
     "metadata": {},
     "outputs": []
    },
    {
     "cell_type": "code",
     "collapsed": false,
     "input": [
      "for channel in attacker_df['channel'].value_counts().index:\n",
      "    plt.plot(attacker_df[attacker_df['channel'] == channel]['channel'].resample(\"D\", how='count'), label=channel)\n",
      "plt.legend(bbox_to_anchor=(1.05, 1), loc=2, borderaxespad=0.)    \n",
      "plt.show()"
     ],
     "language": "python",
     "metadata": {},
     "outputs": []
    },
    {
     "cell_type": "code",
     "collapsed": false,
     "input": [
      "for channel in attacker_df['channel'].value_counts().index:\n",
      "    if channel != \"amun.events\":\n",
      "        plt.plot(attacker_df[attacker_df['channel'] == channel]['channel'].resample(\"D\", how='count'), label=channel)\n",
      "plt.legend(bbox_to_anchor=(1.05, 1), loc=2, borderaxespad=0.)    \n",
      "plt.show()"
     ],
     "language": "python",
     "metadata": {},
     "outputs": []
    },
    {
     "cell_type": "markdown",
     "metadata": {},
     "source": [
      "### Further Exploration\n",
      "It's possible to not only look at the top 20 countries hitting the honeypots, but other queries can be combined with the GeoIP info to get a different view on how information is laid out."
     ]
    },
    {
     "cell_type": "code",
     "collapsed": false,
     "input": [
      "attacker_df['attackerCountry'].value_counts()[:20]"
     ],
     "language": "python",
     "metadata": {},
     "outputs": []
    },
    {
     "cell_type": "markdown",
     "metadata": {},
     "source": [
      "Below is a snapshot of all the countries that hit the honeypots with shellshock requests. What other types of queries can you think of?"
     ]
    },
    {
     "cell_type": "code",
     "collapsed": false,
     "input": [
      "glastopf_df[glastopf_df['request_raw'].str.contains('};')]['attackerCountry'].value_counts()"
     ],
     "language": "python",
     "metadata": {},
     "outputs": []
    },
    {
     "cell_type": "markdown",
     "metadata": {},
     "source": [
      "### You can learn a lot from a URL\n",
      "One of the things you can learn from a URL is the types of vulnerabilites people are scanning for.\n",
      "\n",
      "1. What types of vulnerabilites are scanners looking for?\n",
      "2. How many requests for phpMyAdmin were there, and who's making them?"
     ]
    },
    {
     "cell_type": "code",
     "collapsed": false,
     "input": [
      "glastopf_df['request_url'].value_counts()"
     ],
     "language": "python",
     "metadata": {},
     "outputs": []
    },
    {
     "cell_type": "code",
     "collapsed": false,
     "input": [
      "len(glastopf_df[glastopf_df['request_raw'].str.contains('phpMyAdmin')]['channel'].tolist())"
     ],
     "language": "python",
     "metadata": {},
     "outputs": []
    },
    {
     "cell_type": "code",
     "collapsed": false,
     "input": [
      "glastopf_df[glastopf_df['request_raw'].str.contains('phpMyAdmin')]['attackerIP'].unique()"
     ],
     "language": "python",
     "metadata": {},
     "outputs": []
    },
    {
     "cell_type": "code",
     "collapsed": false,
     "input": [
      "for ip in glastopf_df[glastopf_df['request_raw'].str.contains('phpMyAdmin')]['attackerIP'].unique().tolist():\n",
      "    print \"%s - %s\" %(ip, glastopf_df[glastopf_df['attackerIP'] == ip]['attackerCountry'].unique())"
     ],
     "language": "python",
     "metadata": {},
     "outputs": []
    }
   ],
   "metadata": {}
  }
 ]
}